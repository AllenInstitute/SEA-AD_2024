{
 "cells": [
  {
   "cell_type": "code",
   "execution_count": null,
   "id": "bb1b30c9-9a55-4bfe-b15f-f65117095b69",
   "metadata": {},
   "outputs": [],
   "source": [
    "from anndata import read_h5ad\n",
    "import pandas as pd\n",
    "import matplotlib.pyplot as plt\n",
    "from pathlib import Path\n",
    "\n",
    "#download merscope h5ad and insert your path here\n",
    "ad_path = '/allen/programs/celltypes/workgroups/hct/SEA-AD/MERSCOPE/MTG_PAPER_FINAL/MTG_Spatial_2024_07_26.h5ad'\n",
    "ad_mtg = read_h5ad(ad_path)\n",
    "sample_barcode = '1175046730' #barcode we'll use in examples"
   ]
  },
  {
   "cell_type": "markdown",
   "id": "bf49f61f-f219-4a4f-b0b2-9a635f81addf",
   "metadata": {},
   "source": [
    "## Overview of the SEA-AD anndata object\n",
    " First - a look over all sections, colored by Donor ID and organized by Continuous Pseudo-progression Score "
   ]
  },
  {
   "cell_type": "code",
   "execution_count": null,
   "id": "067030f1-9d87-4cd8-8e60-f688af1a7f03",
   "metadata": {},
   "outputs": [],
   "source": [
    "fig, ax = plt.subplots(figsize=(20, 10))\n",
    "donors = ad_mtg.obs['Donor'].unique().tolist()\n",
    "cm = plt.get_cmap('nipy_spectral')\n",
    "ax.set_prop_cycle(color=[cm(1.*i/len(donors)) for i in range(len(donors))])\n",
    "for d in donors:\n",
    "    subs = ad_mtg[ad_mtg.obs['Donor']==d]\n",
    "    plt.scatter(subs.obsm['X_spatial_tiled'][:,0], subs.obsm['X_spatial_tiled'][:,1], s=.01, label = d, axes=ax)\n",
    "plt.axis('equal')\n",
    "plt.legend(bbox_to_anchor=[1.0, 1.03], markerscale=10, ncol=2, title='Donor IDs')\n",
    "plt.title('Spatial view of sections per donor')\n",
    "plt.xlabel('x coordinate')\n",
    "plt.ylabel('y coordinate')"
   ]
  },
  {
   "cell_type": "markdown",
   "id": "f35219ed-df6c-483b-a144-19eab3d4ec5c",
   "metadata": {},
   "source": [
    "## Donor metadata\n",
    "Let's take a look at the various components of the .obs, which includes metadata about the donors as well as information on cell classes, types, and supertypes. For starters, you'll note that:\n",
    "-  Specimen Barcode is the unique identifier that links together the individual sections across all of our data. Each imaged section has a unique specimen barcode.\n",
    "- There can be multiple donor ids per specimen barcode - that's because several sections could be sampled from a single donor.\n",
    "- Metadata about a given donor is shared across all related specimen barcodes, so that no data is without appropriate associated metadata"
   ]
  },
  {
   "cell_type": "code",
   "execution_count": null,
   "id": "e39ebf4f-ea21-474c-ab7a-f45de50eb7bf",
   "metadata": {},
   "outputs": [],
   "source": [
    "#related donor information\n",
    "display(ad_mtg.obs[['Donor', 'Barcode']].head())\n",
    "# Barcodes relating to a single donor with several sections sampled\n",
    "related_barcodes = ad_mtg.obs[ad_mtg.obs['Donor']=='H21.33.006']['Barcode'].unique()\n",
    "print(list(related_barcodes))\n",
    "# Metadata saved with each donor\n",
    "single_specimen = ad_mtg.obs[ad_mtg.obs['Barcode']==list(related_barcodes)[0]]\n"
   ]
  },
  {
   "cell_type": "markdown",
   "id": "4cb92ad4-8b5f-4f48-a87e-5ffd3caf0957",
   "metadata": {},
   "source": [
    "### Each donor has various alzheimers scoring information stored in the obs. \n",
    "However, the information used in our analysis is the Continuous Pseudo-progression Score, or CPS for short, which assigns a uniquely calculated Alzheimer's Disease burden score described in detail in the publication. It's shown below per donor, so you can see how our donors span across CPS\n"
   ]
  },
  {
   "cell_type": "code",
   "execution_count": null,
   "id": "5288c658-f22d-441d-a3ee-6ea03e83c0b4",
   "metadata": {},
   "outputs": [],
   "source": [
    "#plot CPS score by donor\n",
    "fig = plt.figure()\n",
    "cps = ad_mtg.obs.sort_values('donor_pseudotime')\n",
    "ax = fig.add_subplot(111, xlabel=\"Donor ID\", ylabel=\"CPS\", title='Continuous Pseudo-progression Score by Donor ID')\n",
    "plt.xticks(rotation=90)\n",
    "plt.scatter(cps['Donor'], cps['donor_pseudotime'], axes=ax)\n"
   ]
  },
  {
   "cell_type": "markdown",
   "id": "67635b55-0b2a-4ce5-866b-f6f61b7ac073",
   "metadata": {},
   "source": [
    "### The obs also contains detailed cell typing information"
   ]
  },
  {
   "cell_type": "code",
   "execution_count": null,
   "id": "bdf143f9-c48e-425e-bfa0-782c3fe9b41f",
   "metadata": {},
   "outputs": [],
   "source": [
    "#Let's plot the spatial subclass data for a random section\n",
    "section_subset = ad_mtg[ad_mtg.obs['Barcode']==sample_barcode] \n",
    "subclasses = section_subset.obs.sort_values(by=['class', 'subclass'])['subclass'].unique().tolist()\n",
    "colors = section_subset.uns['subclass_colors']\n",
    "fig, ax = plt.subplots()\n",
    "for i, subc in enumerate(subclasses):\n",
    "    subs = section_subset[section_subset.obs['subclass']==subc]\n",
    "    #note the .obsm class used here - this is showing the data rotated so L2/3 is at the top \n",
    "    plt.scatter(subs.obsm['X_selected_cell_spatial_tiled'][:,0], subs.obsm['X_selected_cell_spatial_tiled'][:,1], \n",
    "                s=.1, label = subc, axes=ax, color=colors[i])\n",
    "plt.axis('equal')\n",
    "plt.legend(bbox_to_anchor=[1.0, 1.03], markerscale=5, ncol=2, title='Subclasses')\n",
    "plt.title('Subclasses in Specimen Barcode '+ sample_barcode)\n",
    "plt.xlabel('x coordinate (um)') # microns - make others match\n",
    "plt.ylabel('y coordinate (um)')\n"
   ]
  },
  {
   "cell_type": "markdown",
   "id": "2401d11f-f214-4e7a-bbd8-48ab4ed95030",
   "metadata": {},
   "source": [
    "### Critical to our analysis was also the \"Used in analysis\" field\n",
    "This is a critical filtering step taken to remove cells that were not used when comparing proportions between sections. More information on this can be found in the publication methods."
   ]
  },
  {
   "cell_type": "code",
   "execution_count": null,
   "id": "64720580-112f-4c80-95c9-5569a00d6264",
   "metadata": {},
   "outputs": [],
   "source": [
    "#highlighting which cells weren't included in analysis for all sections\n",
    "donors = ad_mtg.obs['Donor'].unique().tolist()\n",
    "fig, ax = plt.subplots(figsize=(20, 10))\n",
    "for d in donors:\n",
    "    analyzed_subset = ad_mtg[(ad_mtg.obs['Donor']==d)&(ad_mtg.obs['selected_cells']==True)]\n",
    "    plt.scatter(analyzed_subset.obsm['X_selected_cell_spatial_tiled'][:,0], analyzed_subset.obsm['X_selected_cell_spatial_tiled'][:,1], \n",
    "                axes=ax, label=d, s=.01, alpha=0.5)\n",
    "plt.axis('equal')\n",
    "plt.legend(ncol=2, markerscale=10, title='Donors')\n",
    "plt.title('Selected cells for each section, by donor')\n",
    "plt.xlabel('cell x coordinate')\n",
    "plt.ylabel('cell y coordinate')\n"
   ]
  },
  {
   "cell_type": "markdown",
   "id": "8a400ee8-258f-4468-9c2b-a172e6a21acc",
   "metadata": {},
   "source": [
    "### Explore the selected cells for each section"
   ]
  },
  {
   "cell_type": "code",
   "execution_count": null,
   "id": "2caafcde-74c6-43d1-ace2-0b737e30391e",
   "metadata": {},
   "outputs": [],
   "source": [
    "#plotting used/unused cells using napari coordinates for a single random section\n",
    "section_subset = ad_mtg[ad_mtg.obs['Barcode']==sample_barcode]\n",
    "fig, ax = plt.subplots()\n",
    "analyzed_cells = section_subset[section_subset.obs['selected_cells']==True]\n",
    "plt.scatter(analyzed_cells.obsm['X_selected_cell_spatial_tiled'][:,0], analyzed_cells.obsm['X_selected_cell_spatial_tiled'][:,1], axes=ax, color='blue', label='included in analysis', s=.01, alpha=0.5)\n",
    "not_analyzed = section_subset[section_subset.obs['selected_cells']==False]\n",
    "plt.scatter(not_analyzed.obsm['X_selected_cell_spatial_tiled'][:,0], not_analyzed.obsm['X_selected_cell_spatial_tiled'][:,1],axes=ax, color='red', label='not included in analysis', s=.01)\n",
    "plt.axis('equal')\n",
    "plt.legend(markerscale=5)\n",
    "plt.title('Cells used in analysis for Specimen Barcode '+sample_barcode)\n",
    "plt.xlabel('cell x coordinate')\n",
    "plt.ylabel('cell y coordinate')\n"
   ]
  },
  {
   "cell_type": "markdown",
   "id": "06c4925d-3c6a-4790-810b-126cba87e37a",
   "metadata": {},
   "source": [
    "## Spatial Gene Expression\n",
    "\n",
    "If you're more interested in seeing the spatial layout of various genes, you can view those results easily with scanpy's plotting function (shown below for a single section)"
   ]
  },
  {
   "cell_type": "code",
   "execution_count": null,
   "id": "c3f5ed24-6701-4619-9b90-e07e160e20da",
   "metadata": {},
   "outputs": [],
   "source": [
    "#Gene expression scatterplot colored by gene expression vector\n",
    "import scanpy.pl as scp\n",
    "section_subset = ad_mtg[ad_mtg.obs['Barcode']==sample_barcode]\n",
    "# a few sample genes\n",
    "scp.scatter(adata = section_subset, x='napari_x', y = 'napari_y', color='CUX2')\n",
    "scp.scatter(adata = section_subset, x='napari_x', y = 'napari_y', color='RORB')\n",
    "scp.scatter(adata = section_subset, x='napari_x', y = 'napari_y', color='LRRC4C')\n"
   ]
  },
  {
   "cell_type": "markdown",
   "id": "0350b157-03fd-4335-bdab-9356bfe7f090",
   "metadata": {},
   "source": [
    "### UMAPS\n",
    "As you've seen above, the .obsm contains plottable spatial data for each of our collected sections. It also contains the umaps calculated for various cell components. You can choose to view the umap calculated for a single section, or for all sections, as shown below"
   ]
  },
  {
   "cell_type": "code",
   "execution_count": null,
   "id": "4d61ec54-f60c-4eee-8465-fd081a501ac3",
   "metadata": {},
   "outputs": [],
   "source": [
    "subclasses = ad_mtg.obs.sort_values(by=['class', 'subclass'])['subclass'].unique().tolist()\n",
    "colors = ad_mtg.uns['subclass_colors']\n",
    "\n",
    "#umap of subclasses for all sections\n",
    "fig, ax = plt.subplots()\n",
    "for i, subc in enumerate(subclasses):\n",
    "    subs = ad_mtg[ad_mtg.obs['subclass']==subc]\n",
    "    plt.scatter(subs.obsm['X_umap'][:,0], subs.obsm['X_umap'][:,1], s=0.01, label = subc, axes=ax, color=colors[i])\n",
    "plt.axis('equal')\n",
    "plt.legend(bbox_to_anchor=[1.0, 1.03], markerscale=5, ncol=2, title='Subclasses')\n",
    "plt.title('UMAP of subclasses for all sections')\n",
    "plt.xlabel('UMAP 0')\n",
    "plt.ylabel('UMAP 1') \n"
   ]
  },
  {
   "cell_type": "code",
   "execution_count": null,
   "id": "1d885a18-cd80-4ae9-aed7-6893c754d20a",
   "metadata": {},
   "outputs": [],
   "source": [
    "supertypes = ad_mtg.obs.sort_values(by=['class', 'subclass', 'supertype_scANVI_leiden'])['supertype_scANVI_leiden'].unique().tolist()\n",
    "colors = ad_mtg.uns['cluster_colors']\n",
    "\n",
    "#umap of all supertypes for all sections\n",
    "fig, ax = plt.subplots()\n",
    "for i, stype in enumerate(supertypes):\n",
    "    subs = ad_mtg[ad_mtg.obs['supertype_scANVI_leiden']==stype]\n",
    "    plt.scatter(subs.obsm['X_umap'][:,0], subs.obsm['X_umap'][:,1], s=0.01, label = stype, axes=ax, color=colors[i])\n",
    "plt.axis('equal')\n",
    "plt.title('UMAP of supertypes for all sections')\n",
    "plt.xlabel('UMAP 0')\n",
    "plt.ylabel('UMAP 1')\n"
   ]
  },
  {
   "cell_type": "code",
   "execution_count": null,
   "id": "7a12b1d2-f295-4cc0-99b8-1d75ffe58a6e",
   "metadata": {},
   "outputs": [],
   "source": [
    "#umap of subclasses for a single random section\n",
    "fig, ax = plt.subplots()\n",
    "non_barcode_subset = ad_mtg[ad_mtg.obs['Barcode']!=sample_barcode]\n",
    "for i, subc in enumerate(subclasses):\n",
    "    subs = non_barcode_subset[non_barcode_subset.obs['subclass']==subc]\n",
    "    plt.scatter(subs.obsm['X_umap'][:,0], subs.obsm['X_umap'][:,1], s=0.1, axes=ax, color='grey', alpha=.5)\n",
    "barcode_subset = ad_mtg[ad_mtg.obs['Barcode']==sample_barcode]\n",
    "for i, subc in enumerate(subclasses):\n",
    "    subs = barcode_subset[barcode_subset.obs['subclass']==subc]\n",
    "    plt.scatter(subs.obsm['X_umap'][:,0], subs.obsm['X_umap'][:,1], s=0.1, axes=ax, color=colors[i], label=subc)\n",
    "            \n",
    "plt.axis('equal')\n",
    "plt.legend(bbox_to_anchor=[1.0, 1.03], markerscale=5, ncol=2, title='Subclasses')\n",
    "plt.title('UMAP of subclasses for Specimen Barcode '+sample_barcode)\n",
    "plt.xlabel('UMAP 0')\n",
    "plt.ylabel('UMAP 1') "
   ]
  },
  {
   "cell_type": "code",
   "execution_count": null,
   "id": "5a13ec79-c223-4b07-b71c-7efe74ee5c46",
   "metadata": {},
   "outputs": [],
   "source": [
    "supertypes = ad_mtg.obs.sort_values(by=['class', 'subclass', 'supertype_scANVI_leiden'])['supertype_scANVI_leiden'].unique().tolist()\n",
    "colors = ad_mtg.uns['cluster_colors']\n",
    "\n",
    "#umap of all supertypes for all sections\n",
    "fig, ax = plt.subplots()\n",
    "for i, stype in enumerate(supertypes):\n",
    "    subs = ad_mtg[ad_mtg.obs['supertype_scANVI_leiden']==stype]\n",
    "    plt.scatter(subs.obsm['X_umap'][:,0], subs.obsm['X_umap'][:,1], s=0.01, label = stype, axes=ax, color=colors[i])\n",
    "plt.axis('equal')\n",
    "plt.title('UMAP of supertypes for all sections')\n",
    "plt.xlabel('UMAP 0')\n",
    "plt.ylabel('UMAP 1')\n"
   ]
  },
  {
   "cell_type": "code",
   "execution_count": null,
   "id": "e1e9d32d-0b37-4e52-a2e6-f3d2242cd22d",
   "metadata": {},
   "outputs": [],
   "source": []
  }
 ],
 "metadata": {
  "kernelspec": {
   "display_name": "Python 3 (ipykernel)",
   "language": "python",
   "name": "python3"
  },
  "language_info": {
   "codemirror_mode": {
    "name": "ipython",
    "version": 3
   },
   "file_extension": ".py",
   "mimetype": "text/x-python",
   "name": "python",
   "nbconvert_exporter": "python",
   "pygments_lexer": "ipython3",
   "version": "3.11.8"
  }
 },
 "nbformat": 4,
 "nbformat_minor": 5
}
