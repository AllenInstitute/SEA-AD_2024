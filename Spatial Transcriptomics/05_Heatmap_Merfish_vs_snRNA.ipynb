{
 "cells": [
  {
   "cell_type": "markdown",
   "id": "3764b1a9-6d8b-4ac6-bb4a-910bef82d19f",
   "metadata": {},
   "source": [
    "## Load Libraries & Data"
   ]
  },
  {
   "cell_type": "code",
   "execution_count": null,
   "id": "8a11e88c-c0c4-41aa-806c-3d132e55d7ad",
   "metadata": {},
   "outputs": [],
   "source": [
    "import importlib\n",
    "import matplotlib.pyplot as plt\n",
    "import pathlib\n",
    "import seaborn as sns\n",
    "import scanpy as sc\n",
    "import pandas as pd\n",
    "import anndata\n",
    "import os \n",
    "import numpy as np \n",
    "\n",
    "local_path = os.getcwd()\n",
    "print(local_path)"
   ]
  },
  {
   "cell_type": "code",
   "execution_count": null,
   "id": "3d334323-d85c-4da6-9658-b907a7b41446",
   "metadata": {},
   "outputs": [],
   "source": [
    "## Load the reference dataset\n",
    "dataset = \"reference\"\n",
    "technology = \"singleomeCR6\"\n",
    "region = \"MTG\"\n",
    "date = \"2022-04-08\"\n",
    "filename=os.path.join(\"../../RNAseq\", \"ingest\",\"output\", region + \"_\" + dataset + \"_\" + technology + \".\" + date + \".h5ad\")\n",
    "print(filename)\n",
    "adata_ref = sc.read_h5ad(filename)\n",
    "    \n",
    "    "
   ]
  },
  {
   "cell_type": "code",
   "execution_count": null,
   "id": "9a963f91-8aaa-4930-957c-8f2dc572a6aa",
   "metadata": {},
   "outputs": [],
   "source": [
    "adata_spatial_new = anndata.read_h5ad(\"/allen/programs/celltypes/workgroups/hct/SEA-AD/MERSCOPE/MTG_PAPER_FINAL/MTG_Spatial_2024_07_26.h5ad\")"
   ]
  },
  {
   "cell_type": "code",
   "execution_count": null,
   "id": "112e3f3b-ac6f-4245-a836-e28d7d5402d9",
   "metadata": {},
   "outputs": [],
   "source": [
    "adata_spatial_new.obs.columns"
   ]
  },
  {
   "cell_type": "code",
   "execution_count": null,
   "id": "211d407e-c92a-46bb-a10e-294b542cfed4",
   "metadata": {},
   "outputs": [],
   "source": [
    "len(list(adata_spatial_new.obs[\"Unique Donor ID\"].unique()))"
   ]
  },
  {
   "cell_type": "code",
   "execution_count": null,
   "id": "9718f823-9db6-43bf-b427-36286db91bb7",
   "metadata": {},
   "outputs": [],
   "source": [
    "len(list(adata_spatial_new.obs[\"uwa\"].unique()))"
   ]
  },
  {
   "cell_type": "code",
   "execution_count": null,
   "id": "faf0cc6a-6886-4007-b83e-7a458515451c",
   "metadata": {},
   "outputs": [],
   "source": [
    "MERSCOPE_genes = [g for g in adata_spatial_new.var.index if \"Blank\" not in g]"
   ]
  },
  {
   "cell_type": "markdown",
   "id": "3fd1ad2c-ce7a-47c2-947e-0ceb8c40d5a4",
   "metadata": {},
   "source": [
    "## Compute Averages\n"
   ]
  },
  {
   "cell_type": "code",
   "execution_count": null,
   "id": "203976e0-bae6-40da-9fa9-f741305d1d38",
   "metadata": {},
   "outputs": [],
   "source": [
    "def compute_averages(temp_adata, subclass_field=\"subclass\", subset_genes_to = None):\n",
    "    avg_exp = []\n",
    "    subclass_name = []\n",
    "    subclass_records = []\n",
    "    for s_ in temp_adata.obs[subclass_field].unique().to_numpy():\n",
    "        temp = temp_adata[temp_adata.obs[subclass_field] == s_]\n",
    "        avg_info = dict(mean_expression= temp.X.mean(axis=0), subclass=s_)\n",
    "        avg_exp.append(temp.X.mean(axis=0))\n",
    "        subclass_name.append(s_)\n",
    "    avg_values = np.vstack(avg_exp)\n",
    "\n",
    "    if \"gene_ids\" in temp_adata.var.keys():\n",
    "        gene_names = temp_adata.var[\"gene_ids\"].values\n",
    "\n",
    "    else:\n",
    "        gene_names = temp_adata.var.index.values\n",
    "    if subset_genes_to:\n",
    "        if isinstance(subset_genes_to, list):\n",
    "        \n",
    "            gene_in_subset =[g in subset_genes_to for g in gene_names]\n",
    "            avg_values = avg_values[:,gene_in_subset]\n",
    "            gene_names = [g for g in gene_names if g in subset_genes_to ]\n",
    "        else:\n",
    "            raise ValueError(\"please supply a list of genes to use for subsetting output\")\n",
    "            \n",
    "    tdf = pd.DataFrame(data = avg_values)\n",
    "    tdf.index = subclass_name\n",
    "    tdf.columns = gene_names\n",
    "    return tdf"
   ]
  },
  {
   "cell_type": "code",
   "execution_count": null,
   "id": "1528231e-48f2-442f-9d4e-70b2df6a726e",
   "metadata": {},
   "outputs": [],
   "source": [
    "avgnew = compute_averages(adata_spatial_new, subset_genes_to=MERSCOPE_genes)\n",
    "avgsn = compute_averages(adata_ref, subclass_field=\"subclass\", subset_genes_to=MERSCOPE_genes)"
   ]
  },
  {
   "cell_type": "code",
   "execution_count": null,
   "id": "8f6e4fc2-dab2-4acb-ac23-b560c4605916",
   "metadata": {},
   "outputs": [],
   "source": [
    "# Re-arrangement Subclass\n",
    "new_subclass = ['Astro', 'OPC', 'Oligo', 'Micro-PVM', 'VLMC', 'Endo', \n",
    "                'Chandelier', 'Pvalb','Sst', 'Lamp5_Lhx6','Lamp5', 'Sncg', 'Pax6', 'Vip','Sst Chodl',\n",
    "                'L2/3 IT','L4 IT', 'L5 IT', 'L5 ET', 'L5/6 NP', \n",
    "                'L6 IT Car3', 'L6 IT',  'L6b', 'L6 CT',]\n",
    "\n",
    "avgnew = avgnew.loc[new_subclass,:]\n",
    "avgsn = avgsn.loc[new_subclass,:]"
   ]
  },
  {
   "cell_type": "code",
   "execution_count": null,
   "id": "d91d7b56-ff33-4938-9ea7-d3a958fecc91",
   "metadata": {},
   "outputs": [],
   "source": [
    "# Re-arrangement Genes\n",
    "new_genes = [ 'SLC14A1','ETNPPL', 'PAX6', 'RYR3',  'GPC5','FBXL7','CACHD1','NPAS3','LUZP2', 'GRM7',\n",
    "        'NLGN1', 'ITGA8', 'TNR','TMEM255A','PDZD2','PDE4B','MOG','CD22', 'CD74', 'CTSS', 'DCN','DLC1', 'SNTB1', 'EBF1','LAMA4','PRRX1','PRKG1','CDH6','DACH1', 'ID3','NOSTRIN','PALMD',\n",
    "             \n",
    "             'SLC32A1','GAD2','CNTNAP5','KAZN','UNC5B','CNTN5','HPSE2','ZNF804A','PVALB', 'ANK1','ASTN2','SOX6','BTBD11','ZNF385D','SULF1','CALB1','LHX6','STXBP6','GRIN3A', 'PRRT4','GRIP2','DLX1','PDGFD','LAMP5','EYA4','RGS12','EGFR','NDNF', 'VIP','ROBO1',\n",
    "         'L3MBTL4','SORCS3', 'NOS1','NPY','TACR1','CHODL',\n",
    "              \n",
    "             \n",
    "             'GRIN2A','SATB2', 'DCLK1', 'ATRNL1','CSMD1','RBFOX3',  'RBFOX1','CUX2','RFX3','HS6ST3', 'CLSTN2', 'SLC24A2','TSHZ2','RORB','LRRK1', 'DCC','CACNA2D3', \n",
    "       'KCNIP4','TAFA1','GRM8','NRG1', 'SV2C','CARTPT','HCN1','PEX5L','SLIT3','SORCS1',\n",
    "            'HS3ST2', 'TOX', 'FEZF2', 'HTR2C','NXPH2', 'TLL1','COL11A1','SMYD1', 'NTNG2','THEMIS','ITGB8','TH', 'SEMA6D',  'CBLN2', 'TMEM132D','ADAMTS3','DGKG','KIAA1217','GRIK3', 'SCUBE1','ADAMTSL1','SEMA3E',\n",
    "             \n",
    "             \n",
    "        \n",
    "         'MEIS2', 'LRP1B',  'KCNMB2', 'FOXP2', 'CA10', \n",
    "       'ROBO2', \n",
    "         'NFIA', 'FRMPD4',\n",
    "        'GRID2', 'FGF13', \n",
    "        'TENM2',  'GALNTL6',\n",
    "       'LRRC4C', 'KIRREL3', 'ASIC2', 'RGS6',   \n",
    "         \n",
    "         'NKAIN2', 'GRIP1', \n",
    "       'PLD5', 'PLCB1',    'FGF12',\n",
    "          \n",
    "         \n",
    "         'HTR2A', \n",
    "         'ZMAT4']"
   ]
  },
  {
   "cell_type": "code",
   "execution_count": null,
   "id": "571d833e-661a-4624-8f94-1856c60a1c23",
   "metadata": {},
   "outputs": [],
   "source": [
    "\n",
    "avgnew = avgnew.loc[:, new_genes]\n",
    "\n",
    "avgsn = avgsn.loc[:, new_genes]"
   ]
  },
  {
   "cell_type": "markdown",
   "id": "e1c44a8a-d417-4890-884c-de2279a1102f",
   "metadata": {},
   "source": [
    "## Plotting at the subclass level"
   ]
  },
  {
   "cell_type": "code",
   "execution_count": null,
   "id": "74ddf060-159a-402e-990d-9a70330f9114",
   "metadata": {},
   "outputs": [],
   "source": [
    "plt.figure(figsize=[60, 30]) # Total figure size\n",
    "sns.set(font_scale=1.8) # Size of fonts for genes and be able to read them\n",
    "\n",
    "plt.subplot(2, 1, 1)\n",
    "plt.title(\"MERFISH detection (z-score by gene)\")\n",
    "t = avgnew.values\n",
    "t = t - t.mean(axis=0)\n",
    "t = t / t.std(axis=0)\n",
    "out = sns.heatmap(t, vmin=-2,vmax=5, center=0,\n",
    "               yticklabels=avgnew.index,\n",
    "               xticklabels=avgnew.columns,\n",
    "               cmap = \"RdBu_r\")\n",
    "plt.subplot(2, 1, 2)\n",
    "plt.title(\"snRNASeq detection (z-score by gene)\")\n",
    "t = avgsn.values\n",
    "t = t - t.mean(axis=0)\n",
    "t = t / t.std(axis=0)\n",
    "out = sns.heatmap(t, vmin=-2,vmax=5, center=0,\n",
    "               yticklabels=avgsn.index,\n",
    "               xticklabels=avgsn.columns,\n",
    "               cmap = \"RdBu_r\")\n",
    "\n",
    "# plt.savefig(\"../plots_for_figures/new_detection_MERSCOPE_v_snRNASeq_subclass.pdf\")\n",
    "# plt.savefig(\"../plots_for_figures/new_detection_MERSCOPE_v_snRNASeq_subclass.svg\")"
   ]
  }
 ],
 "metadata": {
  "kernelspec": {
   "display_name": "Python 3 (ipykernel)",
   "language": "python",
   "name": "python3"
  },
  "language_info": {
   "codemirror_mode": {
    "name": "ipython",
    "version": 3
   },
   "file_extension": ".py",
   "mimetype": "text/x-python",
   "name": "python",
   "nbconvert_exporter": "python",
   "pygments_lexer": "ipython3",
   "version": "3.11.8"
  }
 },
 "nbformat": 4,
 "nbformat_minor": 5
}
