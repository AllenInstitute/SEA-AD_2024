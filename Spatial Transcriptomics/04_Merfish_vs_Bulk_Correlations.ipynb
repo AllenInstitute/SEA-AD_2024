{
 "cells": [
  {
   "cell_type": "markdown",
   "id": "ec833e7f-756f-4bca-b32e-29a0c5ce16bb",
   "metadata": {
    "tags": []
   },
   "source": [
    "## Load Libraries"
   ]
  },
  {
   "cell_type": "code",
   "execution_count": null,
   "id": "c793f9c9-eee5-470d-b02f-7159d10a45e7",
   "metadata": {},
   "outputs": [],
   "source": [
    "import importlib\n",
    "import matplotlib.pyplot as plt\n",
    "import pathlib\n",
    "import seaborn as sns\n",
    "import scanpy as sc\n",
    "import pandas as pd\n",
    "import anndata\n",
    "import os \n",
    "import numpy as np \n",
    "\n",
    "from scipy import stats\n",
    "\n",
    "\n",
    "local_path = os.getcwd()"
   ]
  },
  {
   "cell_type": "markdown",
   "id": "acd808b3-74f5-4792-bcbc-1e9e0b777867",
   "metadata": {
    "tags": []
   },
   "source": [
    "## Load Data"
   ]
  },
  {
   "cell_type": "code",
   "execution_count": null,
   "id": "73675a15-fb4c-4ade-a489-eca3d3be3487",
   "metadata": {},
   "outputs": [],
   "source": [
    "# segmented (and mapped) MERSCOPE data\n",
    "\n",
    "adata_spatial_file=  anndata.read_h5ad(\"/allen/programs/celltypes/workgroups/hct/SEA-AD/MERSCOPE/MTG_PAPER_FINAL/MTG_Spatial_2024_07_26.h5ad\")\n",
    "\n",
    "adata_spatial_new = adata_spatial_file[adata_spatial_file.obs.selected_cells]\n",
    "genes = [g for g in adata_spatial_new.var.index if \"Blank\" not in g]\n",
    "\n",
    "adata_spatial_new = adata_spatial_new[:,adata_spatial_new.var.index.isin(genes)].copy()\n",
    "\n",
    "anndata_genes = adata_spatial_new.var.index.values.copy()\n",
    "\n",
    "# load the average counts per donor in bulk RNASeq and MERSCOPE experiments\n",
    "spatial_and_bulk_counts = pd.read_csv(\"../scANVI/input/MERSCOPE_vs_Bulk_RNASeq_comparison_dataframe_2024_01_31.csv\", index_col=0)\n",
    "\n",
    "# reorder this dataframe to match the anndata object. this is brittle (e.g. if we have multiple gene panels on the same donor) but it's easier\n",
    "# than having to do a merge between an anndata object and a dataframe every time we want to do a comparison\n",
    "\n",
    "ad_order = np.array([np.nonzero(g==spatial_and_bulk_counts.loc[:,\"gene\"].values)[0][0] for g in anndata_genes])\n",
    "\n",
    "spatial_and_bulk_counts = spatial_and_bulk_counts.loc[ad_order,:]\n",
    "\n",
    "avg_ad_bulk = spatial_and_bulk_counts.loc[:,\"all_donors_bulk\"].copy()\n",
    "\n",
    "\n",
    "#mapping_filenames = np.array(list(adata_spatial_new.obs[['filename', 'Unique Donor ID']].value_counts().index))"
   ]
  },
  {
   "cell_type": "markdown",
   "id": "2c845e46-c751-45d9-a8eb-3c6c320cc5f3",
   "metadata": {
    "tags": []
   },
   "source": [
    "## Plotting per Sample Metrics"
   ]
  },
  {
   "cell_type": "code",
   "execution_count": null,
   "id": "4dc73d3b-27c5-4f74-985c-70d679e74e87",
   "metadata": {},
   "outputs": [],
   "source": [
    "spatial_and_bulk_counts"
   ]
  },
  {
   "cell_type": "markdown",
   "id": "09d4742f-b658-4d72-b953-1fcb1275651a",
   "metadata": {
    "tags": []
   },
   "source": [
    "## Make figures showing:\n",
    "- MERSCOPE correlation across replicates per donor\n",
    "- correlation between total reads in MERSCOPE  and summed reads across segmented cells in MERSCOPE\n",
    "- correlation between total reads in MERSCOPE and bulk RNASeq\n",
    "- correlation between summed reads in MERSCOPE and bulk RNASeq"
   ]
  },
  {
   "cell_type": "code",
   "execution_count": null,
   "id": "eb6326d9-16f7-4d93-b0c5-1939c1b2b560",
   "metadata": {},
   "outputs": [],
   "source": [
    "section_names = np.unique(np.array([string[:-3] for string in adata_spatial_new.obs[\"Unique Donor ID\"].unique()]))"
   ]
  },
  {
   "cell_type": "code",
   "execution_count": null,
   "id": "adae9022",
   "metadata": {},
   "outputs": [],
   "source": [
    "section_names"
   ]
  },
  {
   "cell_type": "code",
   "execution_count": null,
   "id": "a2d66822-aabf-413b-99b9-26913331c607",
   "metadata": {},
   "outputs": [],
   "source": [
    "\n",
    "for chosen_donor in section_names:\n",
    "\n",
    "    temp = adata_spatial_new[adata_spatial_new.obs.Donor.isin([chosen_donor])].copy()\n",
    "    temp\n",
    "    unique_id = temp.obs['Unique Donor ID'].unique()\n",
    "\n",
    "    ### plt.rcParams[\"figure.figsize\"] = (20, 4)\n",
    "\n",
    "\n",
    "    data = []\n",
    "    for uid in unique_id:\n",
    "        data.append(\n",
    "            np.array(temp.X[temp.obs['Unique Donor ID'].isin([uid]), ].sum(axis=0) ))\n",
    "\n",
    "    if len(data)==0:\n",
    "        continue\n",
    "        \n",
    "    donor_name = (\".\").join(unique_id[0].split(\".\")[:-1])\n",
    "    # Replicate Correlation\n",
    "    plt.figure(figsize=[30,6])\n",
    "    plt.subplot(1, 4, 1)\n",
    "\n",
    "    # if there's only one dataset, skip replicate correlation\n",
    "    if len(data)>1:\n",
    "        \n",
    "        plt.scatter(data[0], data[1], s=2)\n",
    "        plt.plot(data[0], data[0], c=\"red\")\n",
    "        corr_comp = np.corrcoef(data[0], data[1])[0, 1]\n",
    "        plt.title(\"Replicates Corr:{:.2f}   {} vs {}\".format(corr_comp, unique_id[0], unique_id[1]))\n",
    "        plt.grid(False)\n",
    "\n",
    "    # Correlation Against Total Transcript Before Segmentation\n",
    "    plt.subplot(1, 4, 2)\n",
    "    dat = spatial_and_bulk_counts.loc[:,donor_name]\n",
    "\n",
    "    plt.scatter(data[0], dat, s=2)\n",
    "    #plt.plot(data[0], data[0], c=\"red\")\n",
    "    corr_tot = np.corrcoef(dat, data[0])[0, 1]\n",
    "    plt.title(\"Total Transcripts Corr:{:.2f}   {} vs {}\".format(corr_tot, \"Total\", unique_id[0]))\n",
    "    plt.grid(False)\n",
    "\n",
    "    # Correlation of summed MERSCOPE cell data Against Avg Bulk\n",
    "    plt.subplot(1, 4, 3)\n",
    "    plt.scatter(avg_ad_bulk.to_numpy().squeeze(), data[0].squeeze(), s=2)\n",
    "    corr_comp = np.corrcoef(avg_ad_bulk.to_numpy().squeeze(), data[0])[0, 1]\n",
    "    plt.title(\"Bulk Corr:{:.2f}   {} vs average bulk RNAseq\".format(corr_comp, unique_id[0]))\n",
    "    plt.grid(False)\n",
    "\n",
    "    # Correlation of total MERSCOPE Against Avg Bulk\n",
    "    plt.subplot(1, 4, 4)\n",
    "    plt.scatter(avg_ad_bulk.to_numpy().squeeze(), dat, s=2)\n",
    "    corr_comp = np.corrcoef(avg_ad_bulk.to_numpy().squeeze(), dat)[0, 1]\n",
    "    plt.title(\"Bulk Corr:{:.2f}   {} vs average bulk RNASeq\".format(corr_comp, unique_id[0]))\n",
    "    plt.grid(False)\n",
    "\n",
    "    #plt.savefig(\"../plots_for_figures/donor_correlations/new_Donor_\"+chosen_donor+\"_correlations.svg\")"
   ]
  },
  {
   "cell_type": "code",
   "execution_count": null,
   "id": "07ef006c-e768-4690-ab04-06737bbf7d6a",
   "metadata": {},
   "outputs": [],
   "source": [
    "replicates_corr = []\n",
    "total_corr = []\n",
    "bulk_corr = []\n",
    "total_vs_bulk_corr = []\n",
    "slope_replicates = []\n",
    "\n",
    "for donor in adata_spatial_new.obs.Donor.unique():\n",
    "    temp = adata_spatial_new[adata_spatial_new.obs.Donor.isin([donor])].copy()\n",
    "    unique_id = temp.obs['Unique Donor ID'].unique()\n",
    "    donor_name = (\".\").join(unique_id[0].split(\".\")[:-1])\n",
    "    \n",
    "    if len(unique_id) > 1:\n",
    "        data = []\n",
    "        \n",
    "        for uid in unique_id:\n",
    "            data.append(\n",
    "                temp.X[temp.obs['Unique Donor ID'].isin([uid]), :].sum(axis=0) )\n",
    "            \n",
    "        for i_ in np.arange(1, len(data)):\n",
    "            slope, intercept, r_value, p_value, std_err = stats.linregress(data[0], data[i_])\n",
    "            slope_replicates.append(slope)\n",
    "            \n",
    "            replicates_corr.append(np.corrcoef(data[0], data[i_])[0, 1])\n",
    "            if donor_name in spatial_and_bulk_counts.columns:\n",
    "                dat = spatial_and_bulk_counts[donor_name]\n",
    "                total_corr.append(np.corrcoef(dat, data[i_])[0, 1])\n",
    "                total_vs_bulk_corr.append( np.corrcoef(dat, avg_ad_bulk.to_numpy().squeeze())[0, 1] )\n",
    "\n",
    "            # Correlation Against Avg Bulk\n",
    "            bulk_corr.append(np.corrcoef(avg_ad_bulk.to_numpy().squeeze(), data[i_])[0, 1])\n",
    "                "
   ]
  },
  {
   "cell_type": "code",
   "execution_count": null,
   "id": "e5c43bcc",
   "metadata": {},
   "outputs": [],
   "source": [
    "len(bulk_corr)"
   ]
  },
  {
   "cell_type": "code",
   "execution_count": null,
   "id": "88287142",
   "metadata": {},
   "outputs": [],
   "source": [
    "adata_spatial_new.obs.columns"
   ]
  },
  {
   "cell_type": "markdown",
   "id": "ceec71e9",
   "metadata": {},
   "source": [
    "# note: total sections analyzed here (42) is neither the number of donors used nor the number of sections- its the number of sections from donors where we also have bulk data"
   ]
  },
  {
   "cell_type": "code",
   "execution_count": null,
   "id": "b0898d70-2e93-461c-833d-f0bb77f6c33a",
   "metadata": {},
   "outputs": [],
   "source": [
    "# n sections: \n",
    "raw_total = len(adata_spatial_new.obs['Unique Donor ID'].unique())\n",
    "print(\"Number of Sections Considered: {}\".format(raw_total))\n",
    "layer_cells_total = len(adata_spatial_new.obs.loc[adata_spatial_new.obs.layer_annotation !=\"\",:][\"Unique Donor ID\"].unique())\n",
    "print(\"Number of Sections Used for proportion analysis: {}\".format(layer_cells_total))\n",
    "\n",
    "selected_cells_total = len(adata_spatial_new.obs.loc[adata_spatial_new.obs.selected_cells,:][\"Unique Donor ID\"].unique())\n",
    "print(\"Number of Sections with selected cells: {}\".format(selected_cells_total))\n",
    "\n",
    "# Number of Sections Considered: 69\n"
   ]
  },
  {
   "cell_type": "code",
   "execution_count": null,
   "id": "518b013d-579e-4aea-8716-ed46da301f04",
   "metadata": {},
   "outputs": [],
   "source": [
    "plt.figure(figsize = [18,3])\n",
    "plt.subplot(1, 5, 1)\n",
    "plt.title(\"Correlation across replicates\")\n",
    "plt.hist(replicates_corr, 20)\n",
    "plt.axis([0.5, 1, 0, 13])\n",
    "plt.xlabel(\"correlation\")\n",
    "plt.ylabel(\"sections\")\n",
    "plt.grid(False)\n",
    "\n",
    "plt.subplot(1, 5, 2)\n",
    "plt.title(\"Slope across donor replicates\")\n",
    "plt.hist(slope_replicates, 20)\n",
    "plt.axis([0.5, 4.0, 0, 15])\n",
    "plt.xlabel(\"slope\")\n",
    "plt.ylabel(\"sections\")\n",
    "plt.grid(False)\n",
    "\n",
    "plt.subplot(1, 5, 3)\n",
    "plt.title(\"Cell Transcripts vs Total\")\n",
    "plt.hist(total_corr, 20)\n",
    "plt.axis([0.5, 1, 0, 5])\n",
    "plt.xlabel(\"correlation\")\n",
    "plt.ylabel(\"sections\")\n",
    "plt.grid(False)\n",
    "\n",
    "\n",
    "plt.subplot(1, 5, 4)\n",
    "plt.title(\"Cell Transcripts vs Bulk\")\n",
    "plt.hist(bulk_corr, 20)\n",
    "plt.axis([0.5, 1, 0, 8])\n",
    "plt.xlabel(\"correlation\")\n",
    "plt.ylabel(\"sections\")\n",
    "plt.grid(False)\n",
    "\n",
    "plt.subplot(1, 5, 5)\n",
    "plt.title(\"Total Transcripts vs Bulk\")\n",
    "plt.hist(total_vs_bulk_corr, 20)\n",
    "plt.axis([0, 1, 0, 5])\n",
    "plt.xlabel(\"correlation\")\n",
    "plt.ylabel(\"sections\")\n",
    "plt.grid(False)\n",
    "plt.savefig(\"../plots_for_figures/new_Histogram_MERSCOPE_correlations.svg\")\n",
    "#plt.savefig(\"../plots_for_figures/new_Histogram_MERSCOPE_correlations.pdf\")"
   ]
  },
  {
   "cell_type": "code",
   "execution_count": null,
   "id": "0e79d7e0-8a79-4688-9035-451aafeab8af",
   "metadata": {},
   "outputs": [],
   "source": [
    "\n",
    "print(\"Correlation across replicates\")\n",
    "print(np.mean(replicates_corr))\n",
    "\n",
    "print(\"Slope across donor replicates\")\n",
    "print(np.mean(slope_replicates))\n",
    "\n",
    "print(\"Cell Transcripts vs Total\")\n",
    "print(np.mean(total_corr))\n",
    "\n",
    "\n",
    "\n",
    "print(\"Cell Transcripts vs Bulk\")\n",
    "print(np.mean(bulk_corr))\n",
    "\n",
    "\n",
    "\n",
    "print(\"Total Transcripts vs Bulk\")\n",
    "print(np.mean(total_vs_bulk_corr))"
   ]
  },
  {
   "cell_type": "code",
   "execution_count": null,
   "id": "4033adab",
   "metadata": {},
   "outputs": [],
   "source": []
  }
 ],
 "metadata": {
  "kernelspec": {
   "display_name": "Python 3 (ipykernel)",
   "language": "python",
   "name": "python3"
  },
  "language_info": {
   "codemirror_mode": {
    "name": "ipython",
    "version": 3
   },
   "file_extension": ".py",
   "mimetype": "text/x-python",
   "name": "python",
   "nbconvert_exporter": "python",
   "pygments_lexer": "ipython3",
   "version": "3.10.0"
  }
 },
 "nbformat": 4,
 "nbformat_minor": 5
}
