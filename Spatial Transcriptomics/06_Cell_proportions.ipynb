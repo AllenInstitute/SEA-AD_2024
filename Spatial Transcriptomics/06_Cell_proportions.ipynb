{
 "cells": [
  {
   "cell_type": "code",
   "execution_count": null,
   "id": "b887de8b",
   "metadata": {},
   "outputs": [],
   "source": [
    "%load_ext autoreload \n",
    "%autoreload 2\n",
    "%matplotlib inline\n",
    "from matplotlib import pyplot as plt\n",
    "from matplotlib.colors import Colormap\n",
    "from IPython.display import display, HTML\n",
    "display(HTML(\"<style>.container { width:100% !important; }</style>\"))\n",
    "\n",
    "\n",
    "import pathlib\n",
    "import pandas as pd\n",
    "import numpy as np\n",
    "\n",
    "import json\n",
    "from shapely.geometry import Polygon\n",
    "\n",
    "\n",
    "import geojson\n",
    "\n",
    "\n",
    "import anndata as ad\n",
    "import seaborn as sns\n",
    "\n",
    "from cycler import cycler\n",
    "import matplotlib\n",
    "matplotlib.rcParams['svg.fonttype']='none'\n",
    "matplotlib.rcParams['pdf.fonttype']=42\n",
    "\n",
    "import scipy"
   ]
  },
  {
   "cell_type": "markdown",
   "id": "edba73a4",
   "metadata": {},
   "source": [
    "## Import and organize the data\n",
    "\n"
   ]
  },
  {
   "cell_type": "code",
   "execution_count": null,
   "id": "9ff85f00-7256-40c2-b3f6-2c016ec6a8f9",
   "metadata": {},
   "outputs": [],
   "source": [
    "adad = ad.read_h5ad(\"/allen/programs/celltypes/workgroups/hct/SEA-AD/MERSCOPE/MTG_PAPER_FINAL/MTG_Spatial_2024_07_26.h5ad\")"
   ]
  },
  {
   "cell_type": "code",
   "execution_count": null,
   "id": "8dff2785-5016-459a-a2ab-618046117eb1",
   "metadata": {},
   "outputs": [],
   "source": [
    "[print(a) for a in adad.obs[\"Donor\"].unique()];"
   ]
  },
  {
   "cell_type": "code",
   "execution_count": null,
   "id": "a7a96322",
   "metadata": {},
   "outputs": [],
   "source": [
    "rnaseqprops = pd.read_csv(\"/allen/programs/celltypes/workgroups/hct/SEA-AD/MERSCOPE/proportion_analysis/MTG_AD_metadata_keepers.2022-04-13.csv\")"
   ]
  },
  {
   "cell_type": "code",
   "execution_count": null,
   "id": "3b3e1bf6",
   "metadata": {},
   "outputs": [],
   "source": [
    "# find the common donors between scRNASeq and MERSCOPE\n",
    "#alternative columns\n",
    "shared_donors = adad.obs[\"Donor\"].unique()\n",
    "\n",
    "shared_rnaseq = rnaseqprops.loc[rnaseqprops.donor_name.isin(shared_donors),:]\n",
    "print(shared_donors.shape)"
   ]
  },
  {
   "cell_type": "code",
   "execution_count": null,
   "id": "49424c81",
   "metadata": {},
   "outputs": [],
   "source": [
    "# list of vulnerable supertypes:\n",
    "vtypes = [\n",
    "\"Lamp5_3\",\n",
    "\"Lamp5_5\",\n",
    "\"Sncg_2\",\n",
    "\"Sncg_1\",\n",
    "\"Sncg_8\",\n",
    "\"Vip_2\",\n",
    "\"Vip_11\",\n",
    "\"Vip_13\",\n",
    "\"Vip_1\",\n",
    "\"Vip_12\",\n",
    "\"Sst_3\",\n",
    "\"Sst_19\",\n",
    "\"Sst_11\",\n",
    "\"Sst_20\",\n",
    "\"Sst_22\",\n",
    "\"Sst_23\",\n",
    "\"Sst_25\",\n",
    "\"Sst_2\",\n",
    "\"Pvalb_6\",\n",
    "\"Pvalb_5\",\n",
    "\"Pvalb_8\",\n",
    "\"Pvalb_3\",\n",
    "\"Pvalb_2\",\n",
    "\"Pvalb_15\",\n",
    "\"Pvalb_14\",\n",
    "\"L2/3 IT_1\",\n",
    "\"L2/3 IT_6\",\n",
    "\"L2/3 IT_7\",\n",
    "\"L2/3 IT_5\",\n",
    "\"L2/3 IT_13\",\n",
    "\"L2/3 IT_10\",\n",
    "\"L2/3 IT_8\",\n",
    "\"L2/3 IT_12\",\n",
    "\"L2/3 IT_3\",\n",
    "\"Astro_2\",\n",
    "\"OPC_2\",\n",
    "\"Oligo_2\",\n",
    "\"Micro-PVM_3-SEAAD\"\n",
    "]\n"
   ]
  },
  {
   "cell_type": "code",
   "execution_count": null,
   "id": "16a8d07e",
   "metadata": {},
   "outputs": [],
   "source": [
    "# RNASeq ONLY. ALL DONORS\n",
    "all_donor_records=[]\n",
    "for donor, gb in rnaseqprops.groupby(\"donor_name\"):\n",
    "    donor_dict = {\"donor\": donor}\n",
    "    total_neurons = np.sum(gb.class_scANVI != \"glia\")\n",
    "    donor_dict.update({\"total_neurons\":total_neurons})\n",
    "    for subclass in shared_rnaseq.subclass_scANVI.unique():\n",
    "        # RNAseq vulnerable and non-vulnerable\n",
    "        subclass_df = gb.loc[gb.subclass_scANVI==subclass,:]\n",
    "        n_vulnerable = np.sum(subclass_df.supertype_scANVI.isin(vtypes) )\n",
    "        n_nonvulnerable = subclass_df.shape[0] - n_vulnerable\n",
    "        donor_dict.update({subclass+\"*_v_RNASeq\" : n_vulnerable,\n",
    "                           subclass+\"*_nv_RNASeq\" : n_nonvulnerable})        \n",
    "        # now all clusters:\n",
    "        for supertype in list( subclass_df.supertype_scANVI.unique()):\n",
    "            gb_cl = subclass_df.loc[subclass_df.supertype_scANVI==supertype,:]\n",
    "            donor_dict.update({supertype+\"*_RNAseq\": gb_cl.shape[0]})\n",
    "            \n",
    "        \n",
    "            \n",
    "    all_donor_records.append(donor_dict)\n",
    "    \n",
    "    \n",
    "    \n",
    "all_donor_props = pd.DataFrame.from_records(all_donor_records)"
   ]
  },
  {
   "cell_type": "code",
   "execution_count": null,
   "id": "5ae988fc",
   "metadata": {},
   "outputs": [],
   "source": [
    "per_donor_records=[]\n",
    "for donor, gb in shared_rnaseq.groupby(\"donor_name\"):\n",
    "    print(donor)\n",
    "    total_neurons_RNASeq = np.sum(gb.class_scANVI != \"glia\")\n",
    "    \n",
    "\n",
    "    gb_MERSCOPE = adad.obs.loc[np.logical_and(adad.obs[\"selected_cells\"],adad.obs.Donor==donor),:].copy()\n",
    "    total_neurons_MERSCOPE = np.sum(gb_MERSCOPE[\"class\"] != \"glia\")\n",
    "\n",
    "    \n",
    "    donor_dict = {\"donor\": donor,\n",
    "             \"donor_pseudotime\": adad.obs.loc[adad.obs.Donor==donor,[\"donor_pseudotime\"]].values[0][0],\n",
    "             \"total_neurons_RNASeq\":total_neurons_RNASeq,\n",
    "                 \"total_neurons_MERSCOPE\":total_neurons_MERSCOPE}\n",
    "\n",
    " \n",
    "    \n",
    "    if gb_MERSCOPE.shape[0]==0:\n",
    "        print(\"no cells in this donor\")\n",
    "        continue\n",
    "    for subclass in shared_rnaseq.subclass_scANVI.unique():\n",
    "        # RNAseq vulnerable and non-vulnerable\n",
    "        subclass_df = gb.loc[gb.subclass_scANVI==subclass,:]\n",
    "        n_vulnerable = np.sum(subclass_df.supertype_scANVI_leiden.isin(vtypes) )\n",
    "        n_nonvulnerable = subclass_df.shape[0] - n_vulnerable\n",
    "\n",
    "        donor_dict.update({subclass+\"*_v_RNASeq\" : n_vulnerable,\n",
    "                           subclass+\"*_nv_RNASeq\" : n_nonvulnerable})        \n",
    "        # now all clusters:\n",
    "        for supertype in list( subclass_df.supertype_scANVI_leiden.unique()):\n",
    "            gb_cl = subclass_df.loc[subclass_df.supertype_scANVI_leiden==supertype,:]\n",
    "            donor_dict.update({supertype+\"*_RNAseq\": gb_cl.shape[0]})\n",
    "            \n",
    "        \n",
    "\n",
    "                          \n",
    "                          \n",
    "        # MERSCOPE\n",
    "        subclass_df = gb_MERSCOPE.loc[gb_MERSCOPE.subclass==subclass,:]\n",
    "        n_vulnerable = np.sum(subclass_df.supertype_scANVI_leiden.isin(vtypes) )\n",
    "        n_nonvulnerable = subclass_df.shape[0] - n_vulnerable\n",
    "        \n",
    "        donor_dict.update({subclass+\"*_v_MERSCOPE\" : n_vulnerable,\n",
    "                           subclass+\"*_nv_MERSCOPE\" : n_nonvulnerable})\n",
    "                                  \n",
    "                # now all clusters:\n",
    "        for supertype in list( subclass_df.supertype_scANVI_leiden.unique()):\n",
    "            gb_cl = subclass_df.loc[subclass_df.supertype_scANVI_leiden==supertype,:]\n",
    "            donor_dict.update({supertype+\"*_MERSCOPE\": gb_cl.shape[0]})\n",
    "            \n",
    "            \n",
    "    per_donor_records.append(donor_dict)\n",
    "    \n",
    "    \n",
    "    \n",
    "per_donor_props = pd.DataFrame.from_records(per_donor_records)"
   ]
  },
  {
   "cell_type": "markdown",
   "id": "63f372f6",
   "metadata": {},
   "source": [
    "# Article Figures"
   ]
  },
  {
   "cell_type": "code",
   "execution_count": null,
   "id": "837bac09",
   "metadata": {},
   "outputs": [],
   "source": [
    "\n",
    "plt.figure(figsize = [4,5])\n",
    "for ii,s in enumerate([\"Sst\"]):\n",
    "\n",
    "    sns.scatterplot(x = np.log( per_donor_props.loc[:,s+\"*_v_MERSCOPE\"]/per_donor_props.loc[:,\"total_neurons_MERSCOPE\"]) ,\n",
    "                               y = np.log10( per_donor_props.loc[:,s+\"*_v_RNASeq\"]/per_donor_props.loc[:,\"total_neurons_RNASeq\"])) #hue = per_donor_props.loc[:,\"donor_pseudotime\"],\n",
    "\n",
    "    corr_values = scipy.stats.pearsonr(per_donor_props.loc[:,s+\"*_v_MERSCOPE\"]/per_donor_props.loc[:,\"total_neurons_MERSCOPE\"], per_donor_props.loc[:,s+\"*_v_RNASeq\"]/per_donor_props.loc[:,\"total_neurons_RNASeq\"])\n",
    "    plt.title(s+ \" affected types in MERSCOPE and RNASeq\\n correlation = \"+str(corr_values[0])[:5] )\n",
    "    plt.xlabel(\"MERSCOPE log10(affected / total neurons)\")\n",
    "    plt.ylabel(\"RNASeq log10(affected / total neurons)\")\n",
    "    \n"
   ]
  },
  {
   "cell_type": "markdown",
   "id": "8ebf4207",
   "metadata": {},
   "source": [
    "# focus on affected SST supertypes over CPS:"
   ]
  },
  {
   "cell_type": "code",
   "execution_count": null,
   "id": "1331a01d",
   "metadata": {},
   "outputs": [],
   "source": [
    "matplotlib.rcParams['axes.prop_cycle'] = cycler(color=plt.cm.tab10.colors)\n",
    "\n",
    "\n",
    "\n",
    "\n",
    "plt.figure(figsize = [4,5])\n",
    "\n",
    "# plt.subplot(2,1,2)\n",
    "for s in [\"Sst\"]:\n",
    "\n",
    "    sns.regplot(x = per_donor_props.loc[:,\"donor_pseudotime\"], y = np.log10( per_donor_props.loc[:,s+\"*_v_MERSCOPE\"]/per_donor_props.loc[:,\"total_neurons_MERSCOPE\"]),order=1, label = s+\" MERSCOPE\")\n",
    "\n",
    "    \n",
    "for s in [\"Sst\"]:\n",
    "    \n",
    "    sns.regplot(x = per_donor_props.loc[:,\"donor_pseudotime\"], y = np.log10( per_donor_props.loc[:,s+\"*_v_RNASeq\"]/per_donor_props.loc[:,\"total_neurons_RNASeq\"]),order=1, label = s+\" RNASeq\")\n",
    "\n",
    "plt.title(\"Affected Sst loss over CPS\")\n",
    "plt.legend()\n",
    "plt.ylabel(\"log10(affected cell count / all neurons)\")\n",
    "plt.xlabel(\"CPS\")\n",
    "plt.savefig(\"/allen/programs/celltypes/workgroups/hct/SEA-AD/MERSCOPE/MTG_PAPER_FINAL/SST_proportions_vs_CPS.svg\")"
   ]
  },
  {
   "cell_type": "code",
   "execution_count": null,
   "id": "9f21bc07-72da-4d1c-b2e9-bbec4110eeff",
   "metadata": {},
   "outputs": [],
   "source": [
    "genes = [g for g in adad.var.index if \"Blank-\" not in g]\n",
    "adad.obs[\"transcript_counts\"] = adad[:,genes].layers[\"raw\"].sum(axis=1)\n"
   ]
  },
  {
   "cell_type": "code",
   "execution_count": null,
   "id": "c9ceece5-409a-4a1d-bdd9-1a4b4f0d030c",
   "metadata": {},
   "outputs": [],
   "source": [
    "print(\"mean transcripts in selected cells:\"+str(adad.obs.loc[adad.obs.selected_cells,:].transcript_counts.mean()))"
   ]
  },
  {
   "cell_type": "code",
   "execution_count": null,
   "id": "8ceebf80-e96f-4e1b-931b-52a40b74a26c",
   "metadata": {},
   "outputs": [],
   "source": [
    "print(\"mean volume in selected cells:\"+str(adad.obs.loc[adad.obs.selected_cells,:].volume.mean()))"
   ]
  }
 ],
 "metadata": {
  "kernelspec": {
   "display_name": "Python 3 (ipykernel)",
   "language": "python",
   "name": "python3"
  },
  "language_info": {
   "codemirror_mode": {
    "name": "ipython",
    "version": 3
   },
   "file_extension": ".py",
   "mimetype": "text/x-python",
   "name": "python",
   "nbconvert_exporter": "python",
   "pygments_lexer": "ipython3",
   "version": "3.11.8"
  }
 },
 "nbformat": 4,
 "nbformat_minor": 5
}
