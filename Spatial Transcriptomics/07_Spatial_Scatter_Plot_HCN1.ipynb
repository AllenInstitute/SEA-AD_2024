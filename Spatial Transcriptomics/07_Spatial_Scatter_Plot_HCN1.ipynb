{
 "cells": [
  {
   "cell_type": "code",
   "execution_count": null,
   "metadata": {},
   "outputs": [],
   "source": [
    "import squidpy as sq\n",
    "import scanpy as sc\n",
    "import numpy as np\n",
    "import pandas as pd\n",
    "from matplotlib import pyplot as plt\n",
    "from matplotlib import transforms as tsf\n",
    "import seaborn as sns\n",
    "\n",
    "from scipy.stats import energy_distance, wasserstein_distance, ranksums"
   ]
  },
  {
   "cell_type": "code",
   "execution_count": null,
   "metadata": {},
   "outputs": [],
   "source": [
    "h5ad_file = '/allen/programs/celltypes/workgroups/hct/SEA-AD/MERSCOPE/proportion_analysis/manuscript_with_all_mtg_tsne_selected_with_layers.h5ad'\n",
    "adata = sc.read_h5ad(h5ad_file)"
   ]
  },
  {
   "cell_type": "code",
   "execution_count": null,
   "metadata": {},
   "outputs": [],
   "source": [
    "#Remove blank genes from dataset\n",
    "blanks = np.array([i.startswith(\"Blank\") for i in adata.var_names])\n",
    "adata = adata[:, ~blanks]"
   ]
  },
  {
   "cell_type": "code",
   "execution_count": null,
   "metadata": {},
   "outputs": [],
   "source": [
    "adata.X = adata.layers[\"raw\"].copy()"
   ]
  },
  {
   "cell_type": "code",
   "execution_count": null,
   "metadata": {},
   "outputs": [],
   "source": [
    "scales_counts = sc.pp.normalize_total(adata, target_sum=None, inplace=False)\n",
    "# log1p transform\n",
    "adata.layers[\"log1p_norm\"] = sc.pp.log1p(scales_counts[\"X\"], copy=True)"
   ]
  },
  {
   "cell_type": "code",
   "execution_count": null,
   "metadata": {},
   "outputs": [],
   "source": [
    "vtypes = [\n",
    "\"Lamp5_3\",\n",
    "\"Lamp5_5\",\n",
    "\"Sncg_2\",\n",
    "\"Sncg_1\",\n",
    "\"Sncg_8\",\n",
    "\"Vip_2\",\n",
    "\"Vip_11\",\n",
    "\"Vip_13\",\n",
    "\"Vip_1\",\n",
    "\"Vip_12\",\n",
    "\"Sst_3\",\n",
    "\"Sst_19\",\n",
    "\"Sst_11\",\n",
    "\"Sst_20\",\n",
    "\"Sst_22\",\n",
    "\"Sst_23\",\n",
    "\"Sst_25\",\n",
    "\"Sst_2\",\n",
    "\"Pvalb_6\",\n",
    "\"Pvalb_5\",\n",
    "\"Pvalb_8\",\n",
    "\"Pvalb_3\",\n",
    "\"Pvalb_2\",\n",
    "\"Pvalb_15\",\n",
    "\"Pvalb_14\",\n",
    "\"L2/3 IT_1\",\n",
    "\"L2/3 IT_6\",\n",
    "\"L2/3 IT_7\",\n",
    "\"L2/3 IT_5\",\n",
    "\"L2/3 IT_13\",\n",
    "\"L2/3 IT_10\",\n",
    "\"L2/3 IT_8\",\n",
    "\"L2/3 IT_12\",\n",
    "\"L2/3 IT_3\",\n",
    "\"Astro_2\",\n",
    "\"OPC_2\",\n",
    "\"Oligo_2\",\n",
    "\"Micro-PVM_3-SEAAD\"\n",
    "]"
   ]
  },
  {
   "cell_type": "code",
   "execution_count": null,
   "metadata": {},
   "outputs": [],
   "source": [
    "adata.obs.columns"
   ]
  },
  {
   "cell_type": "code",
   "execution_count": null,
   "metadata": {},
   "outputs": [],
   "source": [
    "adata.obs[\"Affected\"] = adata.obs.supertype_scANVI_leiden.isin(vtypes)"
   ]
  },
  {
   "cell_type": "code",
   "execution_count": null,
   "metadata": {},
   "outputs": [],
   "source": [
    "layer_adata = adata[adata.obs[\"layer_annotation\"] != '']"
   ]
  },
  {
   "cell_type": "code",
   "execution_count": null,
   "metadata": {},
   "outputs": [],
   "source": [
    "section_key = \"filename\"\n",
    "sections = adata.obs[section_key].unique()"
   ]
  },
  {
   "cell_type": "code",
   "execution_count": null,
   "metadata": {},
   "outputs": [],
   "source": [
    "#Calculate the biggest difference in distributions  across samples\n",
    "cell_type_key = \"subclass\"\n",
    "cell_type = \"Sst\"\n",
    "gene = \"HCN1\"\n",
    "distance_dict = {}\n",
    "for section in sections:\n",
    "    print(section)\n",
    "    section_adata = adata[(adata.obs[section_key] == section) & (adata.obs[cell_type_key] == cell_type)]\n",
    "    affected_adata = section_adata[section_adata.obs[\"Affected\"]]\n",
    "    unaffected_adata = section_adata[~section_adata.obs[\"Affected\"]]\n",
    "\n",
    "    affected_gene = affected_adata[:, gene].X.squeeze()\n",
    "    unaffected_gene = unaffected_adata[:, gene].X.squeeze()\n",
    "    \n",
    "    distance_dict[section] = ranksums(affected_gene, unaffected_gene)[0]\n",
    "    "
   ]
  },
  {
   "cell_type": "code",
   "execution_count": null,
   "metadata": {},
   "outputs": [],
   "source": [
    "import matplotlib.pyplot as plt\n",
    "import numpy as np\n",
    "\n",
    "import matplotlib as mpl\n",
    "from matplotlib.colors import LinearSegmentedColormap, ListedColormap\n",
    "\n",
    "color_map = mpl.colormaps['YlGnBu']\n",
    "color_map = color_map(np.linspace(0.15, 1, 8))"
   ]
  },
  {
   "cell_type": "code",
   "execution_count": null,
   "metadata": {},
   "outputs": [],
   "source": [
    "sns.set(rc={'axes.facecolor':'white', 'figure.facecolor':'white', })\n",
    "\n",
    "section_value = sorted(((v,k) for k,v in distance_dict.items()))[-1][1]\n",
    "print(f\"Section Barcode: {section_value}\")\n",
    "section_adata = layer_adata[(layer_adata.obs[section_key] == section_value)]\n",
    "cell_adata = section_adata[(section_adata.obs[cell_type_key] == cell_type)]\n",
    "fig, ax = plt.subplots(nrows=1, ncols=2, dpi = 600)\n",
    "\n",
    "max_exp = cell_adata[cell_adata.obs[\"Affected\"], gene].layers[\"log1p_norm\"].max() * 0.75\n",
    "sq.pl.spatial_scatter(section_adata, shape=None, size=5, title = \"Affected\", alpha = 0.0025, ax = ax[0])\n",
    "sq.pl.spatial_scatter(cell_adata[cell_adata.obs[\"Affected\"]],title = f\"Affected {cell_type} {gene}\", color = \"HCN1\", shape = None, size = 5, ax = ax[0], vmin = 0, vmax = max_exp, layer = \"log1p_norm\", cmap = LinearSegmentedColormap.from_list(\"mycmap\", color_map))\n",
    "\n",
    "sq.pl.spatial_scatter(section_adata, shape=None, size=5, title = \"Unaffected\", alpha = 0.0025,  ax = ax[1])\n",
    "sq.pl.spatial_scatter(cell_adata[~cell_adata.obs[\"Affected\"]], color = \"HCN1\", title = f\"Unaffected {cell_type} {gene}\", shape = None, size = 5, ax = ax[1], vmin = 0, vmax = max_exp, layer = \"log1p_norm\",  cmap = LinearSegmentedColormap.from_list(\"mycmap\", color_map))\n",
    "fig.tight_layout()\n",
    "#plt.savefig(f\"../figures/{section_value}_HCN1_sst_spatial_scatter.png\", dpi = 600)"
   ]
  },
  {
   "cell_type": "code",
   "execution_count": null,
   "metadata": {},
   "outputs": [],
   "source": [
    "# section_value = max(distance_dict, key = distance_dict.get)\n",
    "# section_adata = adata[(adata.obs[section_key] == section_value)]\n",
    "# coords = section_adata.obsm[\"spatial\"]\n",
    "# section_adata.obsm[\"spatial_invert\"] = coords[:, [1, 0]]\n",
    "\n",
    "# cell_adata = section_adata[(section_adata.obs[cell_type_key] == cell_type)]\n",
    "# fig, ax = plt.subplots(nrows=1, ncols=2)\n",
    "# sq.pl.spatial_scatter(section_adata, shape=None, size=1, title = \"Affected\", alpha = 0.05, ax = ax[0], spatial_key=\"spatial_invert\")\n",
    "# sq.pl.spatial_scatter(cell_adata[cell_adata.obs[\"Affected\"]],title = f\"Affected {cell_type} {gene}\", color = \"HCN1\", shape = None, size = 5, ax = ax[0], vmin = 0,  vmax = 2.5, spatial_key=\"spatial_invert\", layer = \"log1p_norm\")\n",
    "\n",
    "# sq.pl.spatial_scatter(section_adata, shape=None, size=1, title = \"Unaffected\", alpha = 0.05, ax = ax[1], spatial_key=\"spatial_invert\")\n",
    "# sq.pl.spatial_scatter(cell_adata[~cell_adata.obs[\"Affected\"]], color = \"HCN1\", title = f\"Unaffected {cell_type} {gene}\", shape = None, size = 25, ax = ax[1], vmin = 0, vmax = 2.5, spatial_key=\"spatial_invert\", layer = \"log1p_norm\")\n",
    "\n",
    "# plt.show"
   ]
  },
  {
   "cell_type": "code",
   "execution_count": null,
   "metadata": {},
   "outputs": [],
   "source": [
    "gene = \"HCN1\"\n",
    "cell_adata = adata[adata.obs[cell_type_key] == cell_type]\n",
    "df = cell_adata.obs.copy()\n",
    "df[gene] = np.array(cell_adata[:, gene].layers[\"log1p_norm\"]).squeeze()"
   ]
  },
  {
   "cell_type": "code",
   "execution_count": null,
   "metadata": {},
   "outputs": [],
   "source": [
    "color = sns.color_palette(\"tab10\")"
   ]
  },
  {
   "cell_type": "code",
   "execution_count": null,
   "metadata": {},
   "outputs": [],
   "source": [
    "#plot histogram\n",
    "sns.displot(data = df, x = gene, hue = \"Affected\", stat = \"percent\", alpha = 0.5, legend = False, hue_order = [True, False])\n",
    "\n",
    "#Plot early median\n",
    "early_median = np.median(df[df[\"Affected\"]][gene])\n",
    "plt.axvline(early_median, color = color[0], label = \"Affected Median\", linestyle = \"--\")\n",
    "#Plot late median\n",
    "late_median = np.median(df[~df[\"Affected\"]][gene])\n",
    "plt.axvline(late_median, color = color[1], label = \"Unaffected Median\", linestyle = \"--\")\n",
    "\n",
    "#Add labels\n",
    "plt.xlabel(\"Normalized Expression\")\n",
    "plt.legend(loc='center left', bbox_to_anchor=(1, 0.5))\n",
    "plt.title(f\"{gene} expresion in {cell_type}\")"
   ]
  },
  {
   "cell_type": "code",
   "execution_count": null,
   "metadata": {},
   "outputs": [],
   "source": [
    "sns.violinplot(x = \"Affected\", y = gene, data = df, inner = \"quartile\",)\n",
    "plt.xticks([0, 1], [\"Unaffected\", \"Affected\"])\n",
    "plt.xlabel(None)"
   ]
  },
  {
   "cell_type": "code",
   "execution_count": null,
   "metadata": {},
   "outputs": [],
   "source": []
  }
 ],
 "metadata": {
  "kernelspec": {
   "display_name": "Python 3 (ipykernel)",
   "language": "python",
   "name": "python3"
  },
  "language_info": {
   "codemirror_mode": {
    "name": "ipython",
    "version": 3
   },
   "file_extension": ".py",
   "mimetype": "text/x-python",
   "name": "python",
   "nbconvert_exporter": "python",
   "pygments_lexer": "ipython3",
   "version": "3.11.8"
  }
 },
 "nbformat": 4,
 "nbformat_minor": 4
}
