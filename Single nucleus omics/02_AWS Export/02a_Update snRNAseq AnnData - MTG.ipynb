{
 "cells": [
  {
   "cell_type": "code",
   "execution_count": null,
   "id": "7c8a3f84-f1c5-49b0-a513-4d772b556ab5",
   "metadata": {},
   "outputs": [],
   "source": [
    "import os\n",
    "import numpy as np\n",
    "import anndata as ad\n",
    "import pandas as pd\n",
    "import scanpy as sc\n",
    "import copy\n",
    "import warnings\n",
    "from datetime import datetime\n",
    "\n",
    "sc.settings.n_jobs = 32\n",
    "warnings.filterwarnings(\"ignore\")\n",
    "\n",
    "pwd = os.getcwd()"
   ]
  },
  {
   "cell_type": "markdown",
   "id": "b0d21c0d-f84c-426f-a017-676bf0c862c9",
   "metadata": {},
   "source": [
    "### Update 1 - 2023-05-05: Add CPS and rename Microglia-PVM/VLMC supertypes"
   ]
  },
  {
   "cell_type": "code",
   "execution_count": null,
   "id": "aae25783-f13f-4b6c-b925-8155ea7e6eb9",
   "metadata": {},
   "outputs": [],
   "source": [
    "region = \"MTG\"\n",
    "date = \"2022-08-18\"\n",
    "adata = sc.read_h5ad(os.path.join(pwd, \"output\", region, \"SEAAD_MTG_RNAseq_all-nuclei.\" + date + \".h5ad\"))"
   ]
  },
  {
   "cell_type": "code",
   "execution_count": null,
   "id": "d9bd4c66-8f1b-4f3a-8132-f64bf8e9c50c",
   "metadata": {},
   "outputs": [],
   "source": [
    "adata.obs[\"Supertype\"].cat.rename_categories(\n",
    "    {\n",
    "        \"VLMC_2\": \"Pericyte_1\",\n",
    "        \"VLMC_2_1-SEAAD\": \"SMC-SEAAD\",\n",
    "        \"VLMC_2_2-SEAAD\": \"Pericyte_2-SEAAD\",\n",
    "        \"Micro-PVM_2_2-SEAAD\": \"Lymphocyte\",\n",
    "        \"Micro-PVM_1_1-SEAAD\": \"Monocyte\"\n",
    "    },\n",
    "    inplace=True\n",
    ")"
   ]
  },
  {
   "cell_type": "code",
   "execution_count": null,
   "id": "e09bb554-0398-42c9-817d-a32ef3bb5836",
   "metadata": {},
   "outputs": [],
   "source": [
    "CPS = pd.read_csv(os.path.join(pwd, \"input\", region, \"donor_name_CPS.csv\"), index_col=0)\n",
    "adata.obs = adata.obs.merge(CPS, left_on=\"Donor ID\", right_index=True, how=\"left\")\n",
    "adata.write(os.path.join(pwd, \"output\", region, \"SEAAD_MTG_RNAseq_all-nuclei.\" + str(datetime.date(datetime.now())) + \".h5ad\"), compression=\"gzip\")"
   ]
  },
  {
   "cell_type": "code",
   "execution_count": null,
   "id": "efc8a1ec-5dcf-4ce0-8c25-156adce187fc",
   "metadata": {},
   "outputs": [],
   "source": [
    "region = \"MTG\"\n",
    "date = \"2022-08-18\"\n",
    "adata = sc.read_h5ad(os.path.join(pwd, \"output\", region, \"SEAAD_MTG_RNAseq_final-nuclei.\" + date + \".h5ad\"))"
   ]
  },
  {
   "cell_type": "code",
   "execution_count": null,
   "id": "ed490d3e-d09c-4fc1-be88-ee677d295a74",
   "metadata": {},
   "outputs": [],
   "source": [
    "adata.obs[\"Supertype\"].cat.rename_categories(\n",
    "    {\n",
    "        \"VLMC_2\": \"Pericyte_1\",\n",
    "        \"VLMC_2_1-SEAAD\": \"SMC-SEAAD\",\n",
    "        \"VLMC_2_2-SEAAD\": \"Pericyte_2-SEAAD\",\n",
    "        \"Micro-PVM_2_2-SEAAD\": \"Lymphocyte\",\n",
    "        \"Micro-PVM_1_1-SEAAD\": \"Monocyte\"\n",
    "    },\n",
    "    inplace=True\n",
    ")"
   ]
  },
  {
   "cell_type": "code",
   "execution_count": null,
   "id": "1335b911-7458-4415-97ce-9bfec3450bea",
   "metadata": {},
   "outputs": [],
   "source": [
    "CPS = pd.read_csv(os.path.join(pwd, \"input\", region, \"donor_name_CPS.csv\"), index_col=0)\n",
    "adata.obs = adata.obs.merge(CPS, left_on=\"Donor ID\", right_index=True, how=\"left\")\n",
    "adata.write(os.path.join(pwd, \"output\", region, \"SEAAD_MTG_RNAseq_final-nuclei.\" + str(datetime.date(datetime.now())) + \".h5ad\"), compression=\"gzip\")"
   ]
  },
  {
   "cell_type": "markdown",
   "id": "a626e913-c09a-4b6c-bbbf-1dbac914aee9",
   "metadata": {},
   "source": [
    "### Update 2 - 2024-02-13: Add real ages for donors over 90 years old, full APOE4 genotypes, and whether a donor was severely affected. Also releasing donor-specific h5ad objects."
   ]
  },
  {
   "cell_type": "code",
   "execution_count": null,
   "id": "e3f6aaf2-c175-4e1d-a349-e0ff2695626b",
   "metadata": {},
   "outputs": [],
   "source": [
    "region = \"MTG\"\n",
    "date = \"2023-05-05\"\n",
    "adata = sc.read_h5ad(os.path.join(pwd, \"output\", region, \"SEAAD_MTG_RNAseq_all-nuclei.\" + date + \".h5ad\"))"
   ]
  },
  {
   "cell_type": "code",
   "execution_count": null,
   "id": "91e2544b-915d-42f2-be91-507a77b39ccb",
   "metadata": {},
   "outputs": [],
   "source": [
    "metadata = pd.read_excel(\n",
    "    os.path.join(pwd, \"input\", region, \"Supplementary Table 1.xlsx\"),\n",
    "    sheet_name=\"SEA-AD_Cohort_Metadata\",\n",
    "    index_col=0\n",
    ")\n",
    "updated_metadata = adata.obs.loc[:, [\"Donor ID\"]].merge(\n",
    "    metadata.loc[:, [\"Age at Death\", \"APOE Genotype\", \"Severely Affected Donor\"]].fillna(\"N\"),\n",
    "    left_on=\"Donor ID\",\n",
    "    right_index=True,\n",
    "    how=\"left\"\n",
    ")\n",
    "\n",
    "adata.obs[\"Age at Death\"] = updated_metadata[\"Age at Death\"].copy()\n",
    "adata.obs[\"APOE4 Status\"] = updated_metadata[\"APOE Genotype\"].copy()\n",
    "adata.obs = adata.obs.rename(\n",
    "    {\"APOE4 Status\": \"APOE Genotype\"},\n",
    "    axis=1,\n",
    ")\n",
    "adata.obs[\"Severely Affected Donor\"] = updated_metadata[\"Severely Affected Donor\"].copy()"
   ]
  },
  {
   "cell_type": "code",
   "execution_count": null,
   "id": "f87b281d-1eef-4bf1-9443-f41e4ba467c7",
   "metadata": {},
   "outputs": [],
   "source": [
    "adata.write(os.path.join(pwd, \"output\", region, \"SEAAD_MTG_RNAseq_all-nuclei.\" + str(datetime.date(datetime.now())) + \".h5ad\"), compression=\"gzip\")\n",
    "adata.obs.to_csv(os.path.join(pwd, \"output\", region, \"SEAAD_MTG_RNAseq_all-nuclei_metadata.\" + str(datetime.date(datetime.now())) + \".csv\"))"
   ]
  },
  {
   "cell_type": "code",
   "execution_count": null,
   "id": "e670f838-f96c-4919-afea-78460696e278",
   "metadata": {},
   "outputs": [],
   "source": [
    "region = \"MTG\"\n",
    "date = \"2023-05-05\"\n",
    "adata = sc.read_h5ad(os.path.join(pwd, \"output\", region, \"SEAAD_MTG_RNAseq_final-nuclei.\" + date + \".h5ad\"))"
   ]
  },
  {
   "cell_type": "code",
   "execution_count": null,
   "id": "ad06a128-d939-4177-8079-d50ccb26a3a2",
   "metadata": {},
   "outputs": [],
   "source": [
    "metadata = pd.read_excel(\n",
    "    os.path.join(pwd, \"input\", region, \"Supplementary Table 1.xlsx\"),\n",
    "    sheet_name=\"SEA-AD_Cohort_Metadata\",\n",
    "    index_col=0\n",
    ")\n",
    "updated_metadata = adata.obs.loc[:, [\"Donor ID\"]].merge(\n",
    "    metadata.loc[:, [\"Age at Death\", \"APOE Genotype\", \"Severely Affected Donor\"]].fillna(\"N\"),\n",
    "    left_on=\"Donor ID\",\n",
    "    right_index=True,\n",
    "    how=\"left\"\n",
    ")\n",
    "\n",
    "adata.obs[\"Age at Death\"] = updated_metadata[\"Age at Death\"].copy()\n",
    "adata.obs[\"APOE4 Status\"] = updated_metadata[\"APOE Genotype\"].copy()\n",
    "adata.obs = adata.obs.rename(\n",
    "    {\"APOE4 Status\": \"APOE Genotype\"},\n",
    "    axis=1,\n",
    ")\n",
    "adata.obs[\"Severely Affected Donor\"] = updated_metadata[\"Severely Affected Donor\"].copy()"
   ]
  },
  {
   "cell_type": "code",
   "execution_count": null,
   "id": "27ea639e-0252-44dc-8d8c-5ee995330962",
   "metadata": {},
   "outputs": [],
   "source": [
    "adata.write(os.path.join(pwd, \"output\", region, \"SEAAD_MTG_RNAseq_final-nuclei.\" + str(datetime.date(datetime.now())) + \".h5ad\"), compression=\"gzip\")\n",
    "adata.obs.to_csv(os.path.join(pwd, \"output\", region, \"SEAAD_MTG_RNAseq_final-nuclei_metadata.\" + str(datetime.date(datetime.now())) + \".csv\"))"
   ]
  },
  {
   "cell_type": "code",
   "execution_count": null,
   "id": "5f072a1d-9755-479f-a626-81b265976d58",
   "metadata": {},
   "outputs": [],
   "source": [
    "for i in adata.obs[\"Donor ID\"].cat.categories:\n",
    "    print(i)\n",
    "    adata[adata.obs[\"Donor ID\"] == i].write(os.path.join(pwd, \"output\", region, \"donor_objects\", i + \"_SEAAD_MTG_RNAseq_final-nuclei.\" + str(datetime.date(datetime.now())) + \".h5ad\"), compression=\"gzip\")"
   ]
  }
 ],
 "metadata": {
  "kernelspec": {
   "display_name": "Python 3 (ipykernel)",
   "language": "python",
   "name": "python3"
  },
  "language_info": {
   "codemirror_mode": {
    "name": "ipython",
    "version": 3
   },
   "file_extension": ".py",
   "mimetype": "text/x-python",
   "name": "python",
   "nbconvert_exporter": "python",
   "pygments_lexer": "ipython3",
   "version": "3.11.8"
  }
 },
 "nbformat": 4,
 "nbformat_minor": 5
}
