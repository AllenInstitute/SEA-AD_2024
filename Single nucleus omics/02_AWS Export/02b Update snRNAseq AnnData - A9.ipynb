{
 "cells": [
  {
   "cell_type": "code",
   "execution_count": null,
   "id": "7c8a3f84-f1c5-49b0-a513-4d772b556ab5",
   "metadata": {},
   "outputs": [],
   "source": [
    "import os\n",
    "import numpy as np\n",
    "import anndata as ad\n",
    "import pandas as pd\n",
    "import scanpy as sc\n",
    "import copy\n",
    "import warnings\n",
    "from datetime import datetime\n",
    "\n",
    "sc.settings.n_jobs = 32\n",
    "warnings.filterwarnings(\"ignore\")\n",
    "\n",
    "pwd = os.getcwd()"
   ]
  },
  {
   "cell_type": "markdown",
   "id": "a626e913-c09a-4b6c-bbbf-1dbac914aee9",
   "metadata": {},
   "source": [
    "### Update 1 - 2024-02-13: Add real ages for donors over 90 years old, full APOE4 genotypes, and whether a donor was severely affected. Also releasing donor-specific h5ad objects."
   ]
  },
  {
   "cell_type": "code",
   "execution_count": null,
   "id": "e3f6aaf2-c175-4e1d-a349-e0ff2695626b",
   "metadata": {},
   "outputs": [],
   "source": [
    "region = \"DLPFC\"\n",
    "date = \"2023-07-19\"\n",
    "adata = sc.read_h5ad(os.path.join(pwd, \"output\", region, \"SEAAD_DLPFC_RNAseq_all-nuclei.\" + date + \".h5ad\"))"
   ]
  },
  {
   "cell_type": "code",
   "execution_count": null,
   "id": "105bd0f7-b80f-4ff5-9e74-b15852cedf4d",
   "metadata": {},
   "outputs": [],
   "source": [
    "metadata = pd.read_excel(\n",
    "    os.path.join(pwd, \"input\", region, \"Supplementary Table 1.xlsx\"),\n",
    "    sheet_name=\"SEA-AD_Cohort_Metadata\",\n",
    "    index_col=0\n",
    ")\n",
    "updated_metadata = adata.obs.loc[:, [\"Donor ID\"]].merge(\n",
    "    metadata.loc[:, [\"Age at Death\", \"APOE Genotype\", \"Severely Affected Donor\"]].fillna(\"N\"),\n",
    "    left_on=\"Donor ID\",\n",
    "    right_index=True,\n",
    "    how=\"left\"\n",
    ")\n",
    "\n",
    "adata.obs[\"Age at Death\"] = updated_metadata[\"Age at Death\"].copy()\n",
    "adata.obs[\"APOE4 Status\"] = updated_metadata[\"APOE Genotype\"].copy()\n",
    "adata.obs = adata.obs.rename(\n",
    "    {\"APOE4 Status\": \"APOE Genotype\"},\n",
    "    axis=1,\n",
    ")\n",
    "adata.obs[\"Severely Affected Donor\"] = updated_metadata[\"Severely Affected Donor\"].copy()"
   ]
  },
  {
   "cell_type": "code",
   "execution_count": null,
   "id": "44cf8cc8-4ea3-4f10-898e-8c86169c504a",
   "metadata": {},
   "outputs": [],
   "source": [
    "adata.write(os.path.join(pwd, \"output\", region, \"SEAAD_DLPFC_RNAseq_all-nuclei.\" + str(datetime.date(datetime.now())) + \".h5ad\"), compression=\"gzip\")\n",
    "adata.obs.to_csv(os.path.join(pwd, \"output\", region, \"SEAAD_DLPFC_RNAseq_all-nuclei_metadata.\" + str(datetime.date(datetime.now())) + \".csv\"))"
   ]
  },
  {
   "cell_type": "code",
   "execution_count": null,
   "id": "e670f838-f96c-4919-afea-78460696e278",
   "metadata": {},
   "outputs": [],
   "source": [
    "region = \"DLPFC\"\n",
    "date = \"2023-07-19\"\n",
    "adata = sc.read_h5ad(os.path.join(pwd, \"output\", region, \"SEAAD_DLPFC_RNAseq_final-nuclei.\" + date + \".h5ad\"))"
   ]
  },
  {
   "cell_type": "code",
   "execution_count": null,
   "id": "ad06a128-d939-4177-8079-d50ccb26a3a2",
   "metadata": {},
   "outputs": [],
   "source": [
    "metadata = pd.read_excel(\n",
    "    os.path.join(pwd, \"input\", region, \"Supplementary Table 1.xlsx\"),\n",
    "    sheet_name=\"SEA-AD_Cohort_Metadata\",\n",
    "    index_col=0\n",
    ")\n",
    "updated_metadata = adata.obs.loc[:, [\"Donor ID\"]].merge(\n",
    "    metadata.loc[:, [\"Age at Death\", \"APOE Genotype\", \"Severely Affected Donor\"]].fillna(\"N\"),\n",
    "    left_on=\"Donor ID\",\n",
    "    right_index=True,\n",
    "    how=\"left\"\n",
    ")\n",
    "\n",
    "adata.obs[\"Age at Death\"] = updated_metadata[\"Age at Death\"].copy()\n",
    "adata.obs[\"APOE4 Status\"] = updated_metadata[\"APOE Genotype\"].copy()\n",
    "adata.obs = adata.obs.rename(\n",
    "    {\"APOE4 Status\": \"APOE Genotype\"},\n",
    "    axis=1,\n",
    ")\n",
    "adata.obs[\"Severely Affected Donor\"] = updated_metadata[\"Severely Affected Donor\"].copy()"
   ]
  },
  {
   "cell_type": "code",
   "execution_count": null,
   "id": "27ea639e-0252-44dc-8d8c-5ee995330962",
   "metadata": {},
   "outputs": [],
   "source": [
    "adata.write(os.path.join(pwd, \"output\", region, \"SEAAD_DLPFC_RNAseq_final-nuclei.\" + str(datetime.date(datetime.now())) + \".h5ad\"), compression=\"gzip\")\n",
    "adata.obs.to_csv(os.path.join(pwd, \"output\", region, \"SEAAD_DLPFC_RNAseq_final-nuclei_metadata.\" + str(datetime.date(datetime.now())) + \".csv\"))"
   ]
  },
  {
   "cell_type": "code",
   "execution_count": null,
   "id": "956c83df-8299-41ce-95d5-c9a794f84859",
   "metadata": {},
   "outputs": [],
   "source": [
    "for i in adata.obs[\"Donor ID\"].cat.categories:\n",
    "    print(i)\n",
    "    adata[adata.obs[\"Donor ID\"] == i].write(os.path.join(pwd, \"output\", region, \"donor_objects\", i + \"_SEAAD_DLPFC_RNAseq_final-nuclei.\" + str(datetime.date(datetime.now())) + \".h5ad\"), compression=\"gzip\")"
   ]
  }
 ],
 "metadata": {
  "kernelspec": {
   "display_name": "Python 3 (ipykernel)",
   "language": "python",
   "name": "python3"
  },
  "language_info": {
   "codemirror_mode": {
    "name": "ipython",
    "version": 3
   },
   "file_extension": ".py",
   "mimetype": "text/x-python",
   "name": "python",
   "nbconvert_exporter": "python",
   "pygments_lexer": "ipython3",
   "version": "3.11.8"
  }
 },
 "nbformat": 4,
 "nbformat_minor": 5
}
