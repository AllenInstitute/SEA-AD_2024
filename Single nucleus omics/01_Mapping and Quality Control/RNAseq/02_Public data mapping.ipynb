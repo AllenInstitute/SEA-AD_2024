{
 "cells": [
  {
   "cell_type": "markdown",
   "id": "4cb2aad0-38fa-45ce-b7ae-c7ff4cf2c4ca",
   "metadata": {
    "tags": []
   },
   "source": [
    "### Load needed libraries"
   ]
  },
  {
   "cell_type": "code",
   "execution_count": null,
   "id": "6a17b3b0-f02e-41b4-a60a-d1b83b9c7713",
   "metadata": {
    "tags": []
   },
   "outputs": [],
   "source": [
    "import importlib\n",
    "import iterative_scANVI\n",
    "importlib.reload(iterative_scANVI)\n",
    "from iterative_scANVI import *\n",
    "%matplotlib inline\n",
    "\n",
    "sc.settings.n_jobs = 32\n",
    "\n",
    "pwd = os.getcwd()"
   ]
  },
  {
   "cell_type": "markdown",
   "id": "c12606d3-8aa0-4e5b-a0f8-78407efbb2e1",
   "metadata": {
    "tags": []
   },
   "source": [
    "### Self projection with reference data"
   ]
  },
  {
   "cell_type": "code",
   "execution_count": null,
   "id": "5938878f-ec10-4ce6-b48e-41cdfbed2ba4",
   "metadata": {},
   "outputs": [],
   "source": [
    "## Load the reference MTG dataset\n",
    "dataset = \"reference\"\n",
    "technology = \"singleomeCR6\"\n",
    "region = \"MTG\"\n",
    "date = \"2022-04-08\"\n",
    "\n",
    "adata_ref_mtg = sc.read_h5ad(filename=os.path.join(pwd, \"input\", region + \"_\" + dataset + \"_\" + technology + \".\" + date + \".h5ad\"))\n",
    "\n",
    "# Define MTG supertypes based on results above\n",
    "\n",
    "low_confidence = [\"L2/3 IT_4\", \"L2/3 IT_9\", \"L2/3 IT_11\",\n",
    "                  \"L5 IT_4\",\n",
    "                  \"L5/6 NP_5\",\n",
    "                  \"Micro-PVM_3\",\n",
    "                  \"Pvalb_4\", \"Pvalb_11\",\n",
    "                  \"Sncg_7\",\n",
    "                  \"Sst_6\", \"Sst_8\", \"Sst_14\", \"Sst_15\", \"Sst_16\", \"Sst_17\", \"Sst_18\", \"Sst_21\", \"Sst_24\", \"Sst_26\", \n",
    "                  \"Vip_3\", \"Vip_7\",  \"Vip_8\", \"Vip_10\", \"Vip_17\", \"Vip_20\", \"Vip_22\"]\n",
    "\n",
    "adata_ref_mtg.obs[\"supertype\"] = adata_ref_mtg.obs[\"cluster\"].copy()\n",
    "adata_ref_mtg.obs[\"supertype\"] = adata_ref_mtg.obs[\"supertype\"].astype(\"object\")\n",
    "\n",
    "for i in low_confidence:\n",
    "    adata_ref_mtg.obs.loc[adata_ref_mtg.obs[\"cluster\"] == i, \"supertype\"] = \"Unknown\"\n",
    "\n",
    "adata_ref_mtg.obs[\"supertype\"] = adata_ref_mtg.obs[\"supertype\"].astype(\"category\")\n",
    "\n",
    "## Load the reference dataset\n",
    "dataset = \"reference\"\n",
    "technology = \"singleomeCR6\"\n",
    "region = \"A9\"\n",
    "date = \"2022-08-19\"\n",
    "\n",
    "adata_ref = sc.read_h5ad(filename=os.path.join(pwd, \"input\", region + \"_\" + dataset + \"_\" + technology + \".\" + date + \".h5ad\"))\n",
    "\n",
    "adata_ref.obs[\"class\"] = \"Unknown\"\n",
    "adata_ref.obs[\"subclass\"] = \"Unknown\"\n",
    "adata_ref.obs[\"supertype\"] = \"Unknown\"\n",
    "\n",
    "adata_ref = adata_ref.concatenate(adata_ref_mtg, index_unique=None)\n",
    "adata_ref.uns[\"Great Apes Metadata\"] = adata_ref_mtg.uns[\"Great Apes Metadata\"]\n",
    "del adata_ref_mtg\n",
    "\n",
    "output_dir=os.path.join(pwd, \"output\", region + \"_\" + dataset + \"_\"  + technology + \"_MTG_liftover\")\n",
    "results_file = \"iterative_scANVI_results.2023-06-08.csv\"\n",
    "scANVI_results = pd.read_csv(os.path.join(output_dir, results_file), index_col=0)\n",
    "adata_ref.obs.loc[scANVI_results[scANVI_results[\"class\"] == \"Unknown\"].index, \"class\"] = scANVI_results.loc[scANVI_results[\"class\"] == \"Unknown\", \"class_scANVI\"].copy()\n",
    "adata_ref.obs.loc[scANVI_results[scANVI_results[\"class\"] == \"Unknown\"].index, \"subclass\"] = scANVI_results.loc[scANVI_results[\"class\"] == \"Unknown\", \"subclass_scANVI\"].copy()\n",
    "adata_ref.obs.loc[scANVI_results[scANVI_results[\"class\"] == \"Unknown\"].index, \"supertype\"] = scANVI_results.loc[scANVI_results[\"class\"] == \"Unknown\", \"supertype_scANVI\"].copy()\n",
    "adata_ref.obs[\"Source\"] = \"Allen\""
   ]
  },
  {
   "cell_type": "markdown",
   "id": "b2709064-adda-4f15-b760-2e493067f8ad",
   "metadata": {
    "tags": []
   },
   "source": [
    "### Map external datasets to the reference"
   ]
  },
  {
   "cell_type": "code",
   "execution_count": null,
   "id": "a21ce0c5-ceb9-49c4-9019-00344647dcf9",
   "metadata": {
    "scrolled": true,
    "tags": []
   },
   "outputs": [],
   "source": [
    "external_datasets = np.array(glob.glob(os.path.join(pwd, \"input\", \"*_external_singleomeCR6_078.2023-10-12.h5ad\")))\n",
    "external_datasets = external_datasets[np.argsort([re.sub(\"^PFC_[A-Za-z]+_([0-9]{4})_external_singleomeCR6_078.2023-10-12.h5ad\", \"\\\\1\", os.path.basename(i)) for i in external_datasets])]\n",
    "\n",
    "for i in external_datasets:\n",
    "    print(os.path.basename(i))\n",
    "    adata_query = sc.read_h5ad(i)\n",
    "    Source = os.path.basename(i).replace(\"PFC_\", \"\").replace(\"_external_singleomeCR6_078.2023-10-12.h5ad\", \"\")\n",
    "    adata_query.obs[\"Source\"] = Source\n",
    "    iterative_scANVI(\n",
    "        adata_query,\n",
    "        adata_ref,\n",
    "        output_dir=os.path.join(pwd, \"external\", \"iterative_scANVI\", Source),\n",
    "        labels_keys=[\"class\", \"subclass\", \"supertype\"],\n",
    "        **{\n",
    "            \"layer\": \"UMIs\",\n",
    "            \"batch_key\": \"Source\",\n",
    "            \"categorical_covariate_keys\": [\"library_prep\"],\n",
    "            \"scVI_model_args\": {\n",
    "                \"n_layers\": 2,\n",
    "                \"dispersion\": \"gene-batch\",\n",
    "            },\n",
    "            \"scANVI_model_args\": {\n",
    "                \"n_layers\": 2,\n",
    "                \"dispersion\": \"gene-batch\",\n",
    "            }\n",
    "        }\n",
    "    )"
   ]
  },
  {
   "cell_type": "markdown",
   "id": "737023c9-6ef2-4182-8fa3-a8c7f9a62ee1",
   "metadata": {},
   "source": [
    "### Save the AnnData for each of the external datasets for reference"
   ]
  },
  {
   "cell_type": "code",
   "execution_count": null,
   "id": "a88a6fdf-6618-4319-af2c-0a0388969356",
   "metadata": {
    "scrolled": true,
    "tags": []
   },
   "outputs": [],
   "source": [
    "for i in external_datasets:\n",
    "    print(os.path.basename(i))\n",
    "    adata_query = sc.read_h5ad(i)\n",
    "    adata_ref.var = adata_query.var.copy()\n",
    "    adata_query.obs.index.name = \"index_name\"\n",
    "    Source = os.path.basename(i).replace(\"PFC_\", \"\").replace(\"_external_singleomeCR6_078.2023-10-12.h5ad\", \"\")\n",
    "    adata_query.obs[\"Source\"] = Source\n",
    "    \n",
    "    save_anndata(\n",
    "        adata_query=adata_query,\n",
    "        adata_ref=adata_ref,\n",
    "        split_key=None,\n",
    "        groupby=\"class\",\n",
    "        output_dir=os.path.join(pwd, \"external\", \"iterative_scANVI\", Source),\n",
    "        date = \"2023-11-13\",\n",
    "        model_args={\n",
    "            \"layer\": \"UMIs\",\n",
    "            \"batch_key\": \"Source\",\n",
    "            \"categorical_covariate_keys\": [\"library_prep\"],\n",
    "            \"continuous_covariate_keys\": None,\n",
    "            \"scVI_model_args\": {\n",
    "                \"n_layers\": 2,\n",
    "                \"dispersion\": \"gene-batch\",\n",
    "            },\n",
    "            \"scANVI_model_args\": {\n",
    "                \"n_layers\": 2,\n",
    "                \"dispersion\": \"gene-batch\",\n",
    "            }\n",
    "        },\n",
    "        **{\n",
    "            \"n_cores\": 32,\n",
    "            \"cluster_cells\": False,\n",
    "        }\n",
    "    )"
   ]
  }
 ],
 "metadata": {
  "kernelspec": {
   "display_name": "Python 3 (ipykernel)",
   "language": "python",
   "name": "python3"
  },
  "language_info": {
   "codemirror_mode": {
    "name": "ipython",
    "version": 3
   },
   "file_extension": ".py",
   "mimetype": "text/x-python",
   "name": "python",
   "nbconvert_exporter": "python",
   "pygments_lexer": "ipython3",
   "version": "3.11.8"
  }
 },
 "nbformat": 4,
 "nbformat_minor": 5
}
