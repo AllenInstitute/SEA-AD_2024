{
 "cells": [
  {
   "cell_type": "markdown",
   "id": "4cb2aad0-38fa-45ce-b7ae-c7ff4cf2c4ca",
   "metadata": {
    "tags": []
   },
   "source": [
    "### Load needed libraries"
   ]
  },
  {
   "cell_type": "code",
   "execution_count": null,
   "id": "6a17b3b0-f02e-41b4-a60a-d1b83b9c7713",
   "metadata": {
    "tags": []
   },
   "outputs": [],
   "source": [
    "import importlib\n",
    "import iterative_scANVI\n",
    "importlib.reload(iterative_scANVI)\n",
    "from iterative_scANVI import *\n",
    "%matplotlib inline\n",
    "\n",
    "sc.settings.n_jobs = 32\n",
    "\n",
    "pwd = os.getcwd()"
   ]
  },
  {
   "cell_type": "markdown",
   "id": "c12606d3-8aa0-4e5b-a0f8-78407efbb2e1",
   "metadata": {
    "tags": []
   },
   "source": [
    "### Self projection with reference data"
   ]
  },
  {
   "cell_type": "code",
   "execution_count": null,
   "id": "125673b6-6ea5-4082-8eef-60eb805921b9",
   "metadata": {},
   "outputs": [],
   "source": [
    "## Load the reference 10x snRNA-seq singleome dataset\n",
    "dataset = \"reference\"\n",
    "technology = \"singleomeCR6\"\n",
    "region = \"MTG\"\n",
    "date = \"2022-04-08\"\n",
    "\n",
    "adata_ref = sc.read_h5ad(filename=os.path.join(pwd, \"input\", region + \"_\" + dataset + \"_\" + technology + \".\" + date + \".h5ad\"))\n",
    "\n",
    "for i in adata_ref.obs[\"donor_name\"].unique():\n",
    "    ref = adata_ref.obs[\"donor_name\"] == i\n",
    "\n",
    "    for j in [\"class\", \"subclass\", \"cluster\"]:\n",
    "        adata_ref.obs[j + \"_held\"] = \"Unknown\"\n",
    "        adata_ref.obs.loc[ref, j + \"_held\"] = adata_ref.obs.loc[ref, i]\n",
    "        adata_ref.obs[j + \"_held\"] = adata_ref.obs[i + \"_held\"].astype(\"category\")\n",
    "\n",
    "    iterative_scANVI(\n",
    "        adata_ref[[not i for i in ref]], \n",
    "        adata_ref[ref],\n",
    "        output_dir=os.path.join(pwd, \"output\", region + \"_\" + dataset + \"_\" + technology + \"_\" + i), \n",
    "        labels_keys=[\"class_held\", \"subclass_held\", \"cluster_held\"],\n",
    "        **{\n",
    "            \"categorical_covariate_keys\": [\"donor_name\"],\n",
    "            \"continuous_covariate_keys\": [\"nFeature_RNA\"]\n",
    "          }\n",
    "    )"
   ]
  },
  {
   "cell_type": "code",
   "execution_count": null,
   "id": "e8a7a111-360a-43c7-9768-62dcdff3a4ae",
   "metadata": {
    "tags": []
   },
   "outputs": [],
   "source": [
    "# Define MTG supertypes based on results above\n",
    "\n",
    "low_confidence = [\"L2/3 IT_4\", \"L2/3 IT_9\", \"L2/3 IT_11\",\n",
    "                  \"L5 IT_4\",\n",
    "                  \"L5/6 NP_5\",\n",
    "                  \"Micro-PVM_3\",\n",
    "                  \"Pvalb_4\", \"Pvalb_11\",\n",
    "                  \"Sncg_7\",\n",
    "                  \"Sst_6\", \"Sst_8\", \"Sst_14\", \"Sst_15\", \"Sst_16\", \"Sst_17\", \"Sst_18\", \"Sst_21\", \"Sst_24\", \"Sst_26\", \n",
    "                  \"Vip_3\", \"Vip_7\",  \"Vip_8\", \"Vip_10\", \"Vip_17\", \"Vip_20\", \"Vip_22\"]\n",
    "\n",
    "adata_ref.obs[\"supertype\"] = adata_ref.obs[\"cluster\"].copy()\n",
    "adata_ref.obs[\"supertype\"] = adata_ref.obs[\"supertype\"].astype(\"object\")\n",
    "\n",
    "for i in low_confidence:\n",
    "    adata_ref.obs.loc[adata_ref.obs[\"cluster\"] == i, \"supertype\"] = \"Unknown\"\n",
    "\n",
    "adata_ref.obs[\"supertype\"] = adata_ref.obs[\"supertype\"].astype(\"category\")\n",
    "adata_ref.obs[\"Source\"] = \"10x\""
   ]
  },
  {
   "cell_type": "code",
   "execution_count": null,
   "id": "50267809-c33d-4a4f-b9c8-6840630434cd",
   "metadata": {},
   "outputs": [],
   "source": [
    "# Re-run the model with only the selected supertypes\n",
    "\n",
    "for i in adata_ref.obs[\"donor_name\"].unique():\n",
    "    ref = adata_ref.obs[\"donor_name\"] == i\n",
    "\n",
    "    for j in [\"class\", \"subclass\", \"supertype\"]:\n",
    "        adata_ref.obs[j + \"_held\"] = \"Unknown\"\n",
    "        adata_ref.obs.loc[ref, j + \"_held\"] = adata_ref.obs.loc[ref, i]\n",
    "        adata_ref.obs[j + \"_held\"] = adata_ref.obs[i + \"_held\"].astype(\"category\")\n",
    "\n",
    "    iterative_scANVI(\n",
    "        adata_ref[[not i for i in ref]], \n",
    "        adata_ref[ref],\n",
    "        output_dir=os.path.join(pwd, \"output\", region + \"_\" + dataset + \"_\" + technology + \"_supertype_\" + i), \n",
    "        labels_keys=[\"class_held\", \"subclass_held\", \"supertype_held\"],\n",
    "        **{\n",
    "            \"categorical_covariate_keys\": [\"donor_name\"],\n",
    "            \"continuous_covariate_keys\": [\"nFeature_RNA\"]\n",
    "          }\n",
    "    )"
   ]
  },
  {
   "cell_type": "markdown",
   "id": "b7198361-2a6b-4dc7-98f7-13d3e68c0d18",
   "metadata": {
    "tags": []
   },
   "source": [
    "### Self projection with smFISH genes"
   ]
  },
  {
   "cell_type": "code",
   "execution_count": null,
   "id": "40b592fb-c11f-4cf1-b61c-11b3bb7c020e",
   "metadata": {},
   "outputs": [],
   "source": [
    "## Load the list of MERFISH genes to evaluate supertype performance with this feature set\n",
    "mFISH_genes = pd.read_csv(os.path.join(pwd, \"input\", \"human_vizgen_genelist.csv\"), index_col=0)\n",
    "\n",
    "for i in adata_ref.obs[\"donor_name\"].unique():\n",
    "    ref = adata_ref.obs[\"donor_name\"] == i\n",
    "\n",
    "    for j in [\"class\", \"subclass\", \"supertype\"]:\n",
    "        adata_ref.obs[j + \"_held\"] = \"Unknown\"\n",
    "        adata_ref.obs.loc[ref, j + \"_held\"] = adata_ref.obs.loc[ref, i]\n",
    "        adata_ref.obs[j + \"_held\"] = adata_ref.obs[i + \"_held\"].astype(\"category\")\n",
    "\n",
    "    iterative_scANVI(\n",
    "        adata_ref[[not i for i in ref]], \n",
    "        adata_ref[ref],\n",
    "        output_dir=os.path.join(pwd, \"output\", region + \"_\" + dataset + \"_\" + technology + \"_supertype_MERFISH_\" + i), \n",
    "        labels_keys=[\"class_held\", \"subclass_held\", \"supertype_held\"],\n",
    "        **{\n",
    "            \"categorical_covariate_keys\": [\"donor_name\"],\n",
    "            \"continuous_covariate_keys\": [\"nFeature_RNA\"]\n",
    "            \"user_genes\": [mFISH_genes.index.to_list(), mFISH_genes.index.to_list(), mFISH_genes.index.to_list()]\n",
    "          }\n",
    "    )"
   ]
  },
  {
   "cell_type": "markdown",
   "id": "69cb14a7-0ac6-4e88-b406-346a68b23bdc",
   "metadata": {
    "tags": []
   },
   "source": [
    "### Run on AD singleome and multiome combined data"
   ]
  },
  {
   "cell_type": "code",
   "execution_count": null,
   "id": "bc533600-5151-402a-88f4-4775088cff2a",
   "metadata": {
    "scrolled": true,
    "tags": []
   },
   "outputs": [],
   "source": [
    "dataset = \"AD\"\n",
    "region = \"MTG\"\n",
    "date = \"2022-04-08\"\n",
    "\n",
    "adata_query = sc.read_h5ad(filename=os.path.join(pwd, \"input\", region + \"_\" + dataset + \"_combined.\" + date + \".h5ad\"))\n",
    "\n",
    "iterative_scANVI(\n",
    "    adata_query,\n",
    "    adata_ref,\n",
    "    output_dir=os.path.join(pwd, \"output\", region + \"_\" + dataset),\n",
    "    labels_keys=[\"class\", \"subclass\", \"supertype\"],\n",
    "    **{\n",
    "        \"categorical_covariate_keys\": [\"donor_name\"],\n",
    "        \"continuous_covariate_keys\": [\"nFeature_RNA\"]\n",
    "      }\n",
    ")"
   ]
  },
  {
   "cell_type": "markdown",
   "id": "c7bfa6f7-f5e6-4ccd-a32f-ba29e45bad81",
   "metadata": {},
   "source": [
    "### Save subclass AnnData objects for manual curation"
   ]
  },
  {
   "cell_type": "code",
   "execution_count": null,
   "id": "a88a6fdf-6618-4319-af2c-0a0388969356",
   "metadata": {
    "scrolled": true,
    "tags": []
   },
   "outputs": [],
   "source": [
    "save_anndata(\n",
    "    adata=adata,\n",
    "    adata_ref=adata_ref,\n",
    "    split_key=\"subclass_scANVI\",\n",
    "    groupby=\"supertype\",\n",
    "    output_dir=os.path.join(pwd, \"output\", region + \"_\" + dataset),\n",
    "    date=\"2022-03-24\",\n",
    "    model_args={\n",
    "        \"layer\": \"UMIs\",\n",
    "        \"categorical_covariate_keys\": [\"donor_name\"],\n",
    "        \"continuous_covariate_keys\": [\"nFeature_RNA\"]\n",
    "    },\n",
    "    **{\n",
    "        \"n_cores\": 32,\n",
    "        \"cluster_cells\": True\n",
    "    }\n",
    ")\n",
    "\n",
    "# These files were manually curated in cellxgene"
   ]
  },
  {
   "cell_type": "markdown",
   "id": "22a1b2d8-3def-4394-8f0b-df7615fb905c",
   "metadata": {},
   "source": [
    "### Leiden clustering refinement"
   ]
  },
  {
   "cell_type": "code",
   "execution_count": null,
   "id": "106208cf-4a7f-4649-839f-afe4e7338d21",
   "metadata": {
    "scrolled": true,
    "tags": []
   },
   "outputs": [],
   "source": [
    "region = \"MTG\"\n",
    "dataset = \"AD\"\n",
    "\n",
    "groups = {\n",
    "    \"Astro\": {\n",
    "        \"type\": \"glia\"\n",
    "    },\n",
    "    \"Endo\": {\n",
    "        \"type\": \"glia\"\n",
    "    },\n",
    "    \"Micro-PVM\": {\n",
    "        \"type\": \"glia\",\n",
    "        \"cutoffs\": {\n",
    "            \"nFeature_RNA\": (1000, \"gt\")\n",
    "        }\n",
    "    },\n",
    "    \"Oligo\": {\n",
    "        \"type\": \"glia\"\n",
    "    },\n",
    "    \"OPC\": {\n",
    "        \"type\": \"glia\"\n",
    "    },\n",
    "    \"VLMC\": {\n",
    "        \"type\": \"glia\"\n",
    "    }\n",
    "}\n",
    "\n",
    "clean_taxonomies(\n",
    "    groups=groups,\n",
    "    splitby=\"supertype_scANVI\",\n",
    "    reference_key=\"reference_cell\",\n",
    "    object_dir=os.path.join(pwd, \"output\", region + \"_\" + dataset, \"objects\"),\n",
    "    **{\n",
    "        \"layer\": \"UMIs\",\n",
    "        \"categorical_covariate_keys\": [\"donor_name\", \"sex\", \"ch_race___1\", \"method\"],\n",
    "        \"continuous_covariate_keys\": [\"nFeature_RNA\", \"age_at_death\", \"fraction_mito\"],\n",
    "        \"diagnostic_plots\": [\"sex\", \"age_at_death\", \"donor_name\", \"ch_cognitivestatus_id\", \"braak\", \"adneurochange\", \"method\", \"ch_race___1\", \"doublet_score\", \"nFeature_RNA\", \"fraction_mito\"],\n",
    "        \"use_markers\": True\n",
    "    }\n",
    ")"
   ]
  },
  {
   "cell_type": "code",
   "execution_count": null,
   "id": "1a127a35-2c0f-4e7b-a68c-46bb57c77913",
   "metadata": {
    "scrolled": true,
    "tags": []
   },
   "outputs": [],
   "source": [
    "region = \"DLPFC\"\n",
    "dataset = \"AD\"\n",
    "groups = {\n",
    "    \"L2/3 IT\": {\n",
    "        \"type\": \"excitatory\"\n",
    "    },\n",
    "    \"L4 IT\": {\n",
    "        \"type\": \"excitatory\"\n",
    "    },\n",
    "    \"L5 ET\": {\n",
    "        \"type\": \"excitatory\",\n",
    "        \"cutoffs\": {\n",
    "            \"doublet_score\": (0.7, \"lt\")\n",
    "        }\n",
    "    },\n",
    "    \"L5 IT\": {\n",
    "        \"type\": \"excitatory\"\n",
    "    },\n",
    "    \"L5/6 NP\": {\n",
    "        \"type\": \"excitatory\"\n",
    "    },\n",
    "    \"L6 CT\": {\n",
    "        \"type\": \"excitatory\"\n",
    "    },\n",
    "    \"L6 IT\": {\n",
    "        \"type\": \"excitatory\"\n",
    "    },\n",
    "    \"L6 IT Car3\": {\n",
    "        \"type\": \"excitatory\"\n",
    "    },\n",
    "    \"L6b\": {\n",
    "        \"type\": \"excitatory\"\n",
    "    },\n",
    "    \"Lamp5\": {\n",
    "        \"type\": \"inhibitory\"\n",
    "    },\n",
    "    \"Lamp5_Lhx6\": {\n",
    "        \"type\": \"inhibitory\"\n",
    "    },\n",
    "    \"Pax6\": {\n",
    "        \"type\": \"inhibitory\"\n",
    "    },\n",
    "    \"Pvalb\": {\n",
    "        \"type\": \"inhibitory\"\n",
    "    },\n",
    "    \"Sncg\": {\n",
    "        \"type\": \"inhibitory\"\n",
    "    },\n",
    "    \"Sst\": {\n",
    "        \"type\": \"inhibitory\"\n",
    "    },\n",
    "    \"Sst Chodl\": {\n",
    "        \"type\": \"inhibitory\"\n",
    "    },\n",
    "    \"Vip\": {\n",
    "        \"type\": \"inhibitory\"\n",
    "    }\n",
    "}\n",
    "\n",
    "clean_taxonomies(\n",
    "    groups=groups,\n",
    "    splitby=\"supertype_scANVI\",\n",
    "    reference_key=\"reference_cell\",\n",
    "    object_dir=os.path.join(pwd, \"output\", region + \"_\" + dataset, \"objects\"),\n",
    "    **{\n",
    "        \"layer\": \"UMIs\",\n",
    "        \"categorical_covariate_keys\": [\"donor_name\", \"sex\", \"ch_race___1\", \"method\"],\n",
    "        \"continuous_covariate_keys\": [\"nFeature_RNA\", \"age_at_death\", \"fraction_mito\"],\n",
    "        \"diagnostic_plots\": [\"sex\", \"age_at_death\", \"donor_name\", \"ch_cognitivestatus_id\", \"braak\", \"adneurochange\", \"method\", \"ch_race___1\", \"doublet_score\", \"nFeature_RNA\", \"fraction_mito\"],\n",
    "        \"use_markers\": True,\n",
    "        \"refine_supertypes\": False\n",
    "    }\n",
    ")"
   ]
  },
  {
   "cell_type": "markdown",
   "id": "7b626d28-449c-4b46-8048-db7ecf553526",
   "metadata": {},
   "source": [
    "### Expand the non-neuronal taxonomy and pull final QC together"
   ]
  },
  {
   "cell_type": "code",
   "execution_count": null,
   "id": "47963286-ae8f-4767-8b3e-0827fe06415e",
   "metadata": {
    "tags": []
   },
   "outputs": [],
   "source": [
    "region = \"MTG\"\n",
    "dataset = \"AD\"\n",
    "output_dir = os.path.join(pwd, \"output\", region + \"_\" + dataset)\n",
    "corrected_label = \"supertype_scANVI\"\n",
    "results_file = \"iterative_scANVI_results.2022-03-24.csv\"\n",
    "split_key = \"subclass_scANVI\"\n",
    "\n",
    "scANVI_results = pd.read_csv(os.path.join(output_dir, results_file), index_col=0)\n",
    "corrected = pd.DataFrame(columns=[corrected_label])\n",
    "\n",
    "for n,i in enumerate(os.listdir(os.path.join(output_dir, \"objects\"))):\n",
    "    if os.path.isdir(os.path.join(output_dir, \"objects\", i)) is False or i.startswith(\".\"):\n",
    "        continue\n",
    "\n",
    "    if i in scANVI_results[split_key].astype(\"category\").cat.categories is False:\n",
    "        continue\n",
    "\n",
    "    print(str(datetime.now()) + \" -- \" + i)\n",
    "    cell_labels = pd.read_csv(os.path.join(output_dir, \"objects\", i, \"corrections.csv\"), index_col=0)\n",
    "    corrected = pd.concat([corrected, cell_labels])\n",
    "\n",
    "corrected.loc[corrected[corrected_label + \"_leiden\"].isna(), corrected_label + \"_leiden\"] = corrected.loc[corrected[corrected_label + \"_leiden\"].isna(), corrected_label]\n",
    "scANVI_results.drop(corrected_label, axis=1, inplace=True)\n",
    "scANVI_results = pd.concat([scANVI_results, corrected.loc[scANVI_results.index, :]], axis=1)\n",
    "scANVI_results.to_csv(os.path.join(output_dir, \"iterative_scANVI_results_refined.\" + str(datetime.date(datetime.now())) + \".csv\"))"
   ]
  },
  {
   "cell_type": "markdown",
   "id": "cc9cbbf6-03f4-4092-b8b3-c8787178fcf0",
   "metadata": {},
   "source": [
    "### Add in finalized scANVI results to the AnnData"
   ]
  },
  {
   "cell_type": "code",
   "execution_count": null,
   "id": "f8d393b2-e64f-4f3c-933c-2ddaaf5ddb4c",
   "metadata": {
    "tags": []
   },
   "outputs": [],
   "source": [
    "dataset = \"AD\"\n",
    "region = \"MTG\"\n",
    "\n",
    "adata = sc.read_h5ad(\"MTG_combined.2022-04-08.h5ad\")\n",
    "\n",
    "output_dir = os.path.join(pwd, \"output\", region + \"_\" + dataset)\n",
    "results_file = \"iterative_scANVI_results_refined.2022-04-13.csv\"\n",
    "\n",
    "scANVI_results = pd.read_csv(os.path.join(output_dir, results_file), index_col=0)\n",
    "scANVI_results = scANVI_results.loc[:, np.setdiff1d(scANVI_results.columns, adata.obs.columns)]\n",
    "    \n",
    "if scANVI_results.shape[0] != adata.shape[0]:\n",
    "    common_cells = np.intersect1d(adata.obs_names, scANVI_results.index)\n",
    "    adata = adata[common_cells].copy()\n",
    "    print(\"WARNING: Mismatch between cells in scANVI results and merged AnnData object, using \" + str(len(common_cells)) + \" common cells. Was this expected?\") \n",
    "\n",
    "adata.obs = pd.concat([adata.obs, scANVI_results.loc[adata.obs_names, :]], axis=1)\n",
    "\n",
    "adata.obs.loc[adata.obs[\"supertype_scANVI\"] == \"Micro-PVM_reassign\", \"subclass_scANVI\"] = \"Micro-PVM\"\n",
    "adata.obs.loc[adata.obs[\"supertype_scANVI\"] == \"Micro-PVM_reassign\", \"supertype_scANVI\"] = \"Micro-PVM_2\"\n",
    "adata.obs.loc[adata.obs[\"supertype_scANVI_leiden\"] == \"Micro-PVM_reassign\", \"supertype_scANVI_leiden\"] = \"Micro-PVM_Unknown_200\""
   ]
  },
  {
   "cell_type": "markdown",
   "id": "7a6a34b5-af81-4e3f-aee8-33432e4d7333",
   "metadata": {},
   "source": [
    "### Rename new populations and create colors"
   ]
  },
  {
   "cell_type": "code",
   "execution_count": null,
   "id": "f17e90d1-e4da-452a-86a4-2437620c2fdd",
   "metadata": {},
   "outputs": [],
   "source": [
    "tmp = pd.read_csv(os.path.join(pwd, \"input\", \"Great_Ape_subclass_cluster_colors.csv\"))\n",
    "subclass_colors = tmp.loc[:,[\"subclass\", \"subclass_color\"]].drop_duplicates()\n",
    "subclass_colors.index = subclass_colors[\"subclass\"].copy()\n",
    "\n",
    "cluster_colors = tmp.loc[:,[\"cluster\", \"new_cluster_color\"]].drop_duplicates()\n",
    "cluster_colors.index = cluster_colors[\"cluster\"].copy()\n",
    "\n",
    "unknowns = np.setdiff1d(adata.obs[\"supertype_scANVI_leiden\"], cluster_colors[\"cluster\"])\n",
    "tag = \"SEAAD\"\n",
    "added = {}\n",
    "for i in unknowns:\n",
    "    tmp = adata.obs.loc[:,[\"supertype_scANVI\", \"supertype_scANVI_leiden\"]].groupby(\"supertype_scANVI_leiden\").value_counts(sort=False)[i]\n",
    "    tmp = tmp[tmp > 0] / tmp.sum()\n",
    "    if any(tmp > 0.85) is True:\n",
    "        base = tmp[tmp > 0.85].index[0]\n",
    "        if base in added.keys():\n",
    "            added[base] = added[base] + 1\n",
    "            number = copy.copy(added[base])\n",
    "        else:\n",
    "            number = 1\n",
    "            added[base] = 1\n",
    "    else:\n",
    "        base = re.sub(\"_Unknown_[0-9]{1,3}\", \"\", i)\n",
    "        if base in added.keys():\n",
    "            added[base] = added[base] + 1\n",
    "            number = added[base] + int(re.sub(\"^(.*)_([0-9]{1,2})$\", \"\\\\2\", tmp.index[-1]))\n",
    "        else:\n",
    "            added[base] = 1\n",
    "            number = added[base] + int(re.sub(\"^(.*)_([0-9]{1,2})$\", \"\\\\2\", tmp.index[-1]))\n",
    "    \n",
    "    new_name = base + \"_\" + str(number) + \"-\" + tag\n",
    "    \n",
    "    if \"_\" not in base:\n",
    "        ref_color = subclass_colors.loc[base, \"subclass_color\"]\n",
    "        if base == \"Micro-PVM\":\n",
    "            ref_color = cluster_colors.loc[\"Micro-PVM_3\", \"new_cluster_color\"]\n",
    "    else:\n",
    "        ref_color = cluster_colors.loc[base, \"new_cluster_color\"]\n",
    "        \n",
    "    new_color = colors.rgb_to_hsv(colors.to_rgb(ref_color))\n",
    "    \n",
    "    if new_color[2] > 0.5:\n",
    "        if new_color[1] > 0.5:\n",
    "            new_color[1] = new_color[1] - 0.2 * added[base]\n",
    "        else:\n",
    "            new_color[1] = new_color[1] + 0.2 * added[base]\n",
    "    else:\n",
    "        new_color[2] = new_color[2] + 0.2 * added[base]\n",
    "        \n",
    "        \n",
    "    new_color = colors.to_hex(colors.hsv_to_rgb(new_color))\n",
    "    \n",
    "    print(\"Converting \" + i + \" to \" + new_name + \" with color \" + new_color)\n",
    "    adata.obs[\"supertype_scANVI_leiden\"] = adata.obs[\"supertype_scANVI_leiden\"].astype(\"object\")\n",
    "    adata.obs.loc[adata.obs[\"supertype_scANVI_leiden\"] == i, \"supertype_scANVI_leiden\"] = new_name\n",
    "    adata.obs[\"supertype_scANVI_leiden\"] = adata.obs[\"supertype_scANVI_leiden\"].astype(\"category\")\n",
    "    cluster_colors = pd.concat([cluster_colors, pd.DataFrame(np.matrix([new_name, new_color]), columns=[\"cluster\", \"new_cluster_color\"], index=[new_name])], axis=0)\n",
    "\n",
    "\n",
    "subclass_colors = subclass_colors.loc[:, \"subclass_color\"].to_dict()\n",
    "cluster_colors = cluster_colors.loc[:, \"new_cluster_color\"].to_dict()"
   ]
  },
  {
   "cell_type": "markdown",
   "id": "c2824217-d985-40a1-896d-ec71382ae38c",
   "metadata": {},
   "source": [
    "### Write out final AnnData object/CSVs that includes all nuclei"
   ]
  },
  {
   "cell_type": "code",
   "execution_count": null,
   "id": "65b57f82-1fb5-4704-b48e-0c034e6aac63",
   "metadata": {},
   "outputs": [],
   "source": [
    "to_keep = ~(\n",
    "    ([i not in adata.obs[\"supertype\"].cat.categories for i in adata.obs[\"supertype_scANVI_leiden\"]]) & \n",
    "    (~adata.obs[\"supertype_scANVI_leiden\"].str.contains(\"_Unknown_\"))\n",
    "adata.obs[\"for_analysis\"] = to_keep\n",
    "    \n",
    "adata.write(os.path.join(pwd, \"output\", region + \"_\" + dataset, \"raw.\" + str(datetime.date(datetime.now())) + \".h5ad\"))"
   ]
  },
  {
   "cell_type": "markdown",
   "id": "0c188ac6-0ef2-432a-94bf-556b0d20fd00",
   "metadata": {},
   "source": [
    "### Remove low quality cells, train model for final representation and write out"
   ]
  },
  {
   "cell_type": "code",
   "execution_count": null,
   "id": "cbaedf18-e341-4386-a8e1-d6f591180991",
   "metadata": {},
   "outputs": [],
   "source": [
    "adata = adata[to_keep].copy()\n",
    "\n",
    "final_model_args = {\n",
    "    \"n_layers\": 2,\n",
    "    \"n_latent\": 20,\n",
    "    \"dispersion\": \"gene-label\"\n",
    "}\n",
    "print(\"Setting up AnnData...\")\n",
    "scvi.model.SCVI.setup_anndata(\n",
    "    adata,\n",
    "    layer=\"UMIs\",\n",
    "    categorical_covariate_keys=[\"donor_name\"],\n",
    "    continuous_covariate_keys=[\"nFeature_RNA\"],\n",
    "    labels_key=\"supertype_scANVI_leiden\"\n",
    ")\n",
    "if os.path.exists(os.path.join(pwd, \"output\", region + \"_\" + dataset, \"final_model\")) == False:\n",
    "    print(\"Creating model...\")\n",
    "    final_model = scvi.model.SCVI(adata, **final_model_args)\n",
    "    print(\"Training model...\")\n",
    "    final_model.train(max_epochs=200)\n",
    "    final_model.save(os.path.join(pwd, \"output\", region + \"_\" + dataset, \"final_model\"))\n",
    "else:\n",
    "    print(\"Loading model...\")\n",
    "    final_model = scvi.model.SCVI.load(os.path.join(pwd, \"output\", region + \"_\" + dataset, \"final_model\"), adata)\n",
    "\n",
    "print(\"Calculcating latent representation and UMAP...\")\n",
    "with parallel_backend('threading', n_jobs=32):\n",
    "    adata.obsm[\"X_scVI\"] = final_model.get_latent_representation()\n",
    "    sc.pp.neighbors(adata, use_rep=\"X_scVI\")\n",
    "    sc.tl.umap(adata)\n",
    "    \n",
    "plt.rcParams[\"figure.figsize\"] = (10, 10)\n",
    "sc.pl.umap(adata, color=\"subclass_scANVI\", palette=subclass_colors, legend_loc=\"on data\", frameon=False, size=3)\n",
    "sc.pl.umap(adata, color=\"supertype_scANVI_leiden\", palette=cluster_colors, legend_loc=\"on data\", frameon=False, size=3, legend_fontoutline=3)\n",
    "\n",
    "adata.write(os.path.join(pwd, \"output\", region + \"_\" + dataset, \"final.\" + str(datetime.date(datetime.now())) + \".h5ad\"))"
   ]
  },
  {
   "cell_type": "markdown",
   "id": "cd00c4a0-704f-4c9b-8c89-bde741091ca1",
   "metadata": {},
   "source": [
    "### Write out Subclass specific latent spaces and UMAP coordinates"
   ]
  },
  {
   "cell_type": "code",
   "execution_count": null,
   "id": "688bb34f-5e7a-449c-8160-5fa21bce293b",
   "metadata": {},
   "outputs": [],
   "source": [
    "for i in adata.obs[\"subclass_scANVI\"].cat.categories:\n",
    "\n",
    "    markers = pd.read_csv(os.path.join(pwd, \"output\", region + \"_\" + dataset, \"objects\", \"models\", split_value.replace(\"/\", \" \"), \"scVI_model\", \"var_names.csv\"), header=None)\n",
    "    markers = markers[0].to_list()\n",
    "\n",
    "    sub = adata[(adata.obs[\"subclass_scANVI\"] == i), markers].copy()\n",
    "    \n",
    "    model = scvi.model.SCVI.load(os.path.join(pwd, \"output\", region + \"_\" + dataset, \"objects\", \"models\", split_value.replace(\"/\", \" \"), \"scVI_model\"), sub)\n",
    "    \n",
    "    with parallel_backend('threading', n_jobs=32):\n",
    "        sub.obsm[\"X_scVI\"] = model.get_latent_representation()\n",
    "        sc.pp.neighbors(sub, use_rep=\"X_scVI\")\n",
    "        sc.tl.umap(sub)\n",
    "\n",
    "    np.save(os.path.join(pwd, \"output\", region + \"_\" + dataset, \"objects\", \"models\", split_value.replace(\"/\", \" \"), \"scVI_model\", \"X_scVI.npy\"), sub.obsm[\"X_scVI\"])\n",
    "    np.save(os.path.join(pwd, \"output\", region + \"_\" + dataset, \"objects\", \"models\", split_value.replace(\"/\", \" \"), \"scVI_model\", \"X_umap.npy\"), sub.obsm[\"X_umap\"])\n",
    "    pd.DataFrame(sub.obs_names).to_csv(os.path.join(pwd, \"output\", region + \"_\" + dataset, \"objects\", \"models\", split_value.replace(\"/\", \" \"), \"scVI_model\", \"obs_names.csv\"), index=False)    "
   ]
  },
  {
   "cell_type": "markdown",
   "id": "835e6de1-ade1-47bb-9ed0-fa424e1c3435",
   "metadata": {},
   "source": [
    "### Train a model on the MGE neighborhood"
   ]
  },
  {
   "cell_type": "code",
   "execution_count": null,
   "id": "2300d42f-932f-4860-8447-a2df90f1ceea",
   "metadata": {},
   "outputs": [],
   "source": [
    "sub = adata[[i in [\"Sst\", \"Pvalb\"] for i in adata.obs[\"subclass_scANVI\"]]].copy()\n",
    "\n",
    "final_model_args = {\n",
    "    \"n_layers\": 2,\n",
    "    \"n_latent\": 20,\n",
    "    \"dispersion\": \"gene-label\"\n",
    "}\n",
    "print(\"Setting up AnnData...\")\n",
    "scvi.model.SCVI.setup_anndata(\n",
    "    sub,\n",
    "    layer=\"UMIs\",\n",
    "    categorical_covariate_keys=[\"donor_name\"],\n",
    "    continuous_covariate_keys=[\"nFeature_RNA\"],\n",
    "    labels_key=\"supertype_scANVI_leiden\"\n",
    ")\n",
    "if os.path.exists(os.path.join(pwd, \"output\", region + \"_\" + dataset, \"neighborhood\", \"Sst_Pvalb\", \"final_model\")) is False:\n",
    "    print(\"Creating model...\")\n",
    "    final_model = scvi.model.SCVI(sub, **final_model_args)\n",
    "    print(\"Training model...\")\n",
    "    final_model.train(max_epochs=200)\n",
    "    final_model.save(os.path.join(pwd, \"output\", region + \"_\" + dataset, \"neighborhood\", \"Sst_Pvalb\", \"final_model\"))\n",
    "else:\n",
    "    print(\"Loading model...\")\n",
    "    final_model = scvi.model.SCVI.load(os.path.join(pwd, \"output\", region + \"_\" + dataset, \"neighborhood\", \"Sst_Pvalb\", \"final_model\"), sub)\n",
    "\n",
    "print(\"Calculcating latent representation and UMAP...\")\n",
    "with parallel_backend('threading', n_jobs=32):\n",
    "    sub.obsm[\"X_scVI\"] = final_model.get_latent_representation()\n",
    "    sc.pp.neighbors(sub, use_rep=\"X_scVI\")\n",
    "    sc.tl.umap(sub)\n",
    "\n",
    "np.save(os.path.join(pwd, \"output\", region + \"_\" + dataset,\"neighborhood\", \"Sst_Pvalb\", \"final_model\", \"X_scVI.npy\"), sub.obsm[\"X_scVI\"])\n",
    "np.save(os.path.join(pwd, \"output\", region + \"_\" + dataset, \"neighborhood\", \"Sst_Pvalb\", \"final_model\", \"X_umap.npy\"), sub.obsm[\"X_umap\"])\n",
    "pd.DataFrame(sub.obs_names).to_csv(os.path.join(pwd, \"output\", region + \"_\" + dataset, \"neighborhood\", \"Sst_Pvalb\", \"final_model\", \"obs_names.csv\"), index=False)    "
   ]
  }
 ],
 "metadata": {
  "kernelspec": {
   "display_name": "Python 3 (ipykernel)",
   "language": "python",
   "name": "python3"
  },
  "language_info": {
   "codemirror_mode": {
    "name": "ipython",
    "version": 3
   },
   "file_extension": ".py",
   "mimetype": "text/x-python",
   "name": "python",
   "nbconvert_exporter": "python",
   "pygments_lexer": "ipython3",
   "version": "3.11.8"
  }
 },
 "nbformat": 4,
 "nbformat_minor": 5
}
