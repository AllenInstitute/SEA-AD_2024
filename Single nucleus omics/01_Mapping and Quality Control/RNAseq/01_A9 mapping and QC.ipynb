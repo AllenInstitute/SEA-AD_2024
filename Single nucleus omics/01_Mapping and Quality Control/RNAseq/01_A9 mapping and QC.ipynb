{
 "cells": [
  {
   "cell_type": "markdown",
   "id": "4cb2aad0-38fa-45ce-b7ae-c7ff4cf2c4ca",
   "metadata": {
    "tags": []
   },
   "source": [
    "### Load needed libraries"
   ]
  },
  {
   "cell_type": "code",
   "execution_count": null,
   "id": "6a17b3b0-f02e-41b4-a60a-d1b83b9c7713",
   "metadata": {
    "tags": []
   },
   "outputs": [],
   "source": [
    "import importlib\n",
    "import iterative_scANVI\n",
    "importlib.reload(iterative_scANVI)\n",
    "from iterative_scANVI import *\n",
    "%matplotlib inline\n",
    "\n",
    "sc.settings.n_jobs = 32\n",
    "\n",
    "pwd = os.getcwd()"
   ]
  },
  {
   "cell_type": "markdown",
   "id": "c12606d3-8aa0-4e5b-a0f8-78407efbb2e1",
   "metadata": {
    "tags": []
   },
   "source": [
    "### Self projection with reference data"
   ]
  },
  {
   "cell_type": "code",
   "execution_count": null,
   "id": "5938878f-ec10-4ce6-b48e-41cdfbed2ba4",
   "metadata": {},
   "outputs": [],
   "source": [
    "## Load the MTG reference dataset\n",
    "dataset = \"reference\"\n",
    "technology = \"singleomeCR6\"\n",
    "region = \"MTG\"\n",
    "date = \"2022-04-08\"\n",
    "\n",
    "adata_ref_mtg = sc.read_h5ad(filename=os.path.join(pwd, \"input\", region + \"_\" + dataset + \"_\" + technology + \".\" + date + \".h5ad\"))\n",
    "\n",
    "# Define MTG supertypes based on MTG self-projection\n",
    "\n",
    "low_confidence = [\"L2/3 IT_4\", \"L2/3 IT_9\", \"L2/3 IT_11\",\n",
    "                  \"L5 IT_4\",\n",
    "                  \"L5/6 NP_5\",\n",
    "                  \"Micro-PVM_3\",\n",
    "                  \"Pvalb_4\", \"Pvalb_11\",\n",
    "                  \"Sncg_7\",\n",
    "                  \"Sst_6\", \"Sst_8\", \"Sst_14\", \"Sst_15\", \"Sst_16\", \"Sst_17\", \"Sst_18\", \"Sst_21\", \"Sst_24\", \"Sst_26\", \n",
    "                  \"Vip_3\", \"Vip_7\",  \"Vip_8\", \"Vip_10\", \"Vip_17\", \"Vip_20\", \"Vip_22\"]\n",
    "\n",
    "adata_ref_mtg.obs[\"supertype\"] = adata_ref_mtg.obs[\"cluster\"].copy()\n",
    "adata_ref_mtg.obs[\"supertype\"] = adata_ref_mtg.obs[\"supertype\"].astype(\"object\")\n",
    "\n",
    "for i in low_confidence:\n",
    "    adata_ref_mtg.obs.loc[adata_ref_mtg.obs[\"cluster\"] == i, \"supertype\"] = \"Unknown\"\n",
    "\n",
    "adata_ref_mtg.obs[\"supertype\"] = adata_ref_mtg.obs[\"supertype\"].astype(\"category\")\n",
    "\n",
    "## Load the A9 reference dataset\n",
    "dataset = \"reference\"\n",
    "technology = \"singleomeCR6\"\n",
    "region = \"A9\"\n",
    "date = \"2022-08-19\"\n",
    "\n",
    "adata_ref = sc.read_h5ad(filename=os.path.join(pwd, \"input\", region + \"_\" + dataset + \"_\" + technology + \".\" + date + \".h5ad\"))\n",
    "\n",
    "adata_ref.obs[\"class\"] = \"Unknown\"\n",
    "adata_ref.obs[\"subclass\"] = \"Unknown\"\n",
    "adata_ref.obs[\"supertype\"] = \"Unknown\"\n",
    "\n",
    "iterative_scANVI(\n",
    "    adata_ref,\n",
    "    adata_ref_mtg,\n",
    "    output_dir=os.path.join(pwd, \"output\", region + \"_\" + dataset + \"_\"  + technology + \"_MTG_liftover\"),\n",
    "    labels_keys=[\"class\", \"subclass\", \"supertype\"],\n",
    "    **{\n",
    "        \"categorical_covariate_keys\": [\"library_prep\"],\n",
    "        \"continuous_covariate_keys\": [\"nFeature_RNA\"]\n",
    "      }\n",
    ")"
   ]
  },
  {
   "cell_type": "markdown",
   "id": "b91792f3-8cef-4e29-b6fd-70301317926d",
   "metadata": {},
   "source": [
    "### Save subclass AnnData objects for reference"
   ]
  },
  {
   "cell_type": "code",
   "execution_count": null,
   "id": "09524c2a-e2f1-4f8b-bafa-187e2db45f89",
   "metadata": {},
   "outputs": [],
   "source": [
    "save_anndata(\n",
    "    adata_query=adata_ref,\n",
    "    adata_ref=adata_ref_mtg,\n",
    "    split_key=\"subclass_scANVI\",\n",
    "    groupby=\"supertype\",\n",
    "    output_dir=os.path.join(pwd, \"output\", region + \"_\" + dataset + \"_\"  + technology + \"_MTG_liftover\"),\n",
    "    date = \"2023-06-08\",\n",
    "    diagnostic_plots=[\"sex\", \"age_at_death\", \"donor_name\", \"roi\", \"doublet_score\", \"nFeature_RNA\", \"fraction_mito\"],\n",
    "    model_args={\n",
    "        \"layer\": \"UMIs\",\n",
    "        \"batch_key\": None,\n",
    "        \"categorical_covariate_keys\": [\"library_prep\"],\n",
    "        \"continuous_covariate_keys\": [\"nFeature_RNA\"]\n",
    "    },\n",
    "    **{\n",
    "        \"n_cores\": 32,\n",
    "        \"cluster_cells\": False,\n",
    "    }\n",
    ")"
   ]
  },
  {
   "cell_type": "markdown",
   "id": "42177f0b-655d-48aa-9ae7-be4d14f7a2ad",
   "metadata": {
    "tags": []
   },
   "source": [
    "### Concatenate A9 and MTG reference and lift over labels onto A9"
   ]
  },
  {
   "cell_type": "code",
   "execution_count": null,
   "id": "6c1e6945-4362-4ca7-9eda-91e287a50200",
   "metadata": {},
   "outputs": [],
   "source": [
    "adata_ref = adata_ref.concatenate(adata_ref_mtg, index_unique=None)\n",
    "adata_ref.uns[\"Great Apes Metadata\"] = adata_ref_mtg.uns[\"Great Apes Metadata\"]\n",
    "del adata_ref_mtg\n",
    "\n",
    "output_dir=os.path.join(pwd, \"output\", region + \"_\" + dataset + \"_\"  + technology + \"_MTG_liftover\")\n",
    "results_file = \"iterative_scANVI_results.2023-06-08.csv\"\n",
    "scANVI_results = pd.read_csv(os.path.join(output_dir, results_file), index_col=0)\n",
    "adata_ref.obs.loc[scANVI_results[scANVI_results[\"class\"] == \"Unknown\"].index, \"class\"] = scANVI_results.loc[scANVI_results[\"class\"] == \"Unknown\", \"class_scANVI\"].copy()\n",
    "adata_ref.obs.loc[scANVI_results[scANVI_results[\"class\"] == \"Unknown\"].index, \"subclass\"] = scANVI_results.loc[scANVI_results[\"class\"] == \"Unknown\", \"subclass_scANVI\"].copy()\n",
    "adata_ref.obs.loc[scANVI_results[scANVI_results[\"class\"] == \"Unknown\"].index, \"supertype\"] = scANVI_results.loc[scANVI_results[\"class\"] == \"Unknown\", \"supertype_scANVI\"].copy()"
   ]
  },
  {
   "cell_type": "markdown",
   "id": "b2709064-adda-4f15-b760-2e493067f8ad",
   "metadata": {
    "tags": []
   },
   "source": [
    "### Run on singleome and multiome combined data"
   ]
  },
  {
   "cell_type": "code",
   "execution_count": null,
   "id": "a8a2f584-ad33-42a6-a7c1-3b43e0200c12",
   "metadata": {
    "scrolled": true,
    "tags": []
   },
   "outputs": [],
   "source": [
    "dataset = \"AD\"\n",
    "region = \"A9\"\n",
    "date = \"2022-08-19\"\n",
    "\n",
    "adata_query = sc.read_h5ad(filename=os.path.join(pwd, \"input\", region + \"_\" + dataset + \"_combined.\" + date + \".h5ad\"))\n",
    "\n",
    "iterative_scANVI(\n",
    "    adata_query,\n",
    "    adata_ref,\n",
    "    output_dir=os.path.join(pwd, \"output\", region + \"_\" + dataset),\n",
    "    labels_keys=[\"class\", \"subclass\", \"supertype\"],\n",
    "    **{\n",
    "        \"categorical_covariate_keys\": [\"library_prep\"],\n",
    "        \"continuous_covariate_keys\": [\"nFeature_RNA\"]\n",
    "      }\n",
    ")"
   ]
  },
  {
   "cell_type": "markdown",
   "id": "b3880ecc-6645-4a30-810e-cf5cb61feff6",
   "metadata": {
    "tags": []
   },
   "source": [
    "#### Save subclass AnnData objects for manual curation"
   ]
  },
  {
   "cell_type": "code",
   "execution_count": null,
   "id": "a88a6fdf-6618-4319-af2c-0a0388969356",
   "metadata": {
    "scrolled": true,
    "tags": []
   },
   "outputs": [],
   "source": [
    "save_anndata(\n",
    "    adata=adata,\n",
    "    adata_ref=adata_ref,\n",
    "    split_key=\"subclass_scANVI\",\n",
    "    groupby=\"supertype\",\n",
    "    output_dir=os.path.join(pwd, \"output\", region + \"_\" + dataset),\n",
    "    date = \"2023-06-14\",\n",
    "    model_args={\n",
    "        \"layer\": \"UMIs\",\n",
    "        \"batch_key\": None,\n",
    "        \"categorical_covariate_keys\": [\"library_prep\"],\n",
    "        \"continuous_covariate_keys\": [\"nFeature_RNA\"]\n",
    "    },\n",
    "    **{\n",
    "        \"n_cores\": 32,\n",
    "        \"cluster_cells\": True,\n",
    "    }\n",
    ")\n",
    "\n",
    "# These files were manually curated in cellxgene"
   ]
  },
  {
   "cell_type": "markdown",
   "id": "3bea09fc-e84b-4bd0-a65c-4ec7a1274720",
   "metadata": {},
   "source": [
    "#### Leiden clustering refinement"
   ]
  },
  {
   "cell_type": "code",
   "execution_count": null,
   "id": "a675fc40-7309-46e5-a0b3-d2e69b1a862e",
   "metadata": {
    "scrolled": true,
    "tags": []
   },
   "outputs": [],
   "source": [
    "region = \"A9\"\n",
    "dataset = \"AD\"\n",
    "groups = {\"Astro\":\n",
    "            {\"type\": \"glia\"},\n",
    "          \"Endo\":\n",
    "            {\"type\": \"glia\"},\n",
    "          \"Micro-PVM\":\n",
    "            {\"type\": \"glia\",\n",
    "             \"cutoffs\": {\"nFeature_RNA\": (1000, \"gt\")}\n",
    "            },\n",
    "          \"Oligo\":\n",
    "            {\"type\": \"glia\"},\n",
    "          \"OPC\":\n",
    "            {\"type\": \"glia\"},\n",
    "          \"VLMC\":\n",
    "            {\"type\": \"glia\"},\n",
    "         }\n",
    "\n",
    "clean_taxonomies(\n",
    "    groups=groups,\n",
    "    splitby=\"supertype_scANVI\",\n",
    "    reference_key=\"reference_cell\",\n",
    "    object_dir=os.path.join(pwd, \"output\", region + \"_\" + dataset, \"objects\"),\n",
    "    **{\n",
    "        \"layer\": \"UMIs\",\n",
    "        \"categorical_covariate_keys\": [\"donor_name\", \"sex\", \"ch_race___1\", \"method\"],\n",
    "        \"continuous_covariate_keys\": [\"nFeature_RNA\", \"age_at_death\", \"fraction_mito\"],\n",
    "        \"diagnostic_plots\": [\"ch_cognitivestatus_binary\", \"adneurochange\", \"reference_cell\", \"sex\", \"roi\", \"age_at_death\", \"donor_name\", \"method\", \"doublet_score\", \"nFeature_RNA\", \"fraction_mito\"],\n",
    "        \"use_markers\": True,\n",
    "        \"refine_supertypes\": False\n",
    "    }\n",
    ")"
   ]
  },
  {
   "cell_type": "code",
   "execution_count": null,
   "id": "3a86be1c-9a4e-438e-b2f9-a2af422dc004",
   "metadata": {
    "scrolled": true,
    "tags": []
   },
   "outputs": [],
   "source": [
    "region = \"A9\"\n",
    "dataset = \"AD\"\n",
    "groups = {\"L2/3 IT\":\n",
    "            {\"type\": \"excitatory\"},\n",
    "          \"L4 IT\":\n",
    "            {\"type\": \"excitatory\"},\n",
    "          \"L5 ET\":\n",
    "            {\"type\": \"excitatory\",\n",
    "             \"cutoffs\": {\"doublet_score\": (0.5, \"lt\")}\n",
    "            },\n",
    "          \"L5 IT\":\n",
    "            {\"type\": \"excitatory\"},\n",
    "          \"L5/6 NP\":\n",
    "            {\"type\": \"excitatory\"},\n",
    "          \"L6 CT\":\n",
    "            {\"type\": \"excitatory\"},\n",
    "          \"L6 IT\":\n",
    "            {\"type\": \"excitatory\"},\n",
    "          \"L6 IT Car3\":\n",
    "            {\"type\": \"excitatory\"},\n",
    "          \"L6b\":\n",
    "            {\"type\": \"excitatory\"},\n",
    "          \"Lamp5\":\n",
    "            {\"type\": \"inhibitory\"},\n",
    "          \"Lamp5_Lhx6\":\n",
    "            {\"type\": \"inhibitory\"},\n",
    "          \"Pax6\":\n",
    "            {\"type\": \"inhibitory\"},\n",
    "          \"Pvalb\":\n",
    "            {\"type\": \"inhibitory\"},\n",
    "          \"Chandelier\":\n",
    "            {\"type\": \"inhibitory\"},\n",
    "          \"Sncg\":\n",
    "            {\"type\": \"inhibitory\"},\n",
    "          \"Sst\":\n",
    "            {\"type\": \"inhibitory\"},\n",
    "          \"Sst Chodl\":\n",
    "            {\"type\": \"inhibitory\"},\n",
    "          \"Vip\":\n",
    "            {\"type\": \"inhibitory\"},\n",
    "         }\n",
    "\n",
    "clean_taxonomies(\n",
    "    groups=groups,\n",
    "    splitby=\"supertype_scANVI\",\n",
    "    reference_key=\"reference_cell\",\n",
    "    object_dir=os.path.join(pwd, \"output\", region + \"_\" + dataset, \"objects\"),\n",
    "    **{\n",
    "        \"layer\": \"UMIs\",\n",
    "        \"categorical_covariate_keys\": [\"donor_name\", \"sex\", \"ch_race___1\", \"method\"],\n",
    "        \"continuous_covariate_keys\": [\"nFeature_RNA\", \"age_at_death\", \"fraction_mito\"],\n",
    "        \"diagnostic_plots\": [\"ch_cognitivestatus_binary\", \"adneurochange\", \"reference_cell\", \"sex\", \"roi\", \"age_at_death\", \"donor_name\", \"method\", \"doublet_score\", \"nFeature_RNA\", \"fraction_mito\"],\n",
    "        \"use_markers\": True,\n",
    "        \"refine_supertypes\": False\n",
    "    }\n",
    ")"
   ]
  },
  {
   "cell_type": "markdown",
   "id": "523a2f5c-360d-4e29-b764-3f0235153ee3",
   "metadata": {},
   "source": [
    "### Expand the non-neuronal taxonomy and pull final QC together"
   ]
  },
  {
   "cell_type": "code",
   "execution_count": null,
   "id": "b0ffc1e8-7ca9-4412-bc85-56e40f409f6f",
   "metadata": {
    "tags": []
   },
   "outputs": [],
   "source": [
    "region = \"A9\"\n",
    "dataset = \"AD\"\n",
    "output_dir = os.path.join(pwd, \"output\", region + \"_\" + dataset)\n",
    "corrected_label = \"supertype_scANVI\"\n",
    "results_file = \"iterative_scANVI_results.2023-06-14.csv\"\n",
    "split_key = \"subclass_scANVI\"\n",
    "\n",
    "scANVI_results = pd.read_csv(os.path.join(output_dir, results_file), index_col=0)\n",
    "corrected = pd.DataFrame(columns=[corrected_label])\n",
    "\n",
    "for n,i in enumerate(os.listdir(os.path.join(output_dir, \"objects\"))):\n",
    "    if os.path.isdir(os.path.join(output_dir, \"objects\", i)) is False or i.startswith(\".\"):\n",
    "        continue\n",
    "\n",
    "    if i in scANVI_results[split_key].astype(\"category\").cat.categories is False:\n",
    "        continue\n",
    "\n",
    "    print(str(datetime.now()) + \" -- \" + i)\n",
    "    cell_labels = pd.read_csv(os.path.join(output_dir, \"objects\", i, \"corrections.csv\"), index_col=0)\n",
    "    corrected = pd.concat([corrected, cell_labels])\n",
    "\n",
    "corrected[corrected_label + \"_leiden\"] = corrected[corrected_label].copy()\n",
    "corrected.drop(corrected_label, axis=1, inplace=True)\n",
    "scANVI_results = pd.concat([scANVI_results, corrected.loc[scANVI_results.index, :]], axis=1)\n",
    "scANVI_results.to_csv(os.path.join(output_dir, \"iterative_scANVI_results_refined.\" + str(datetime.date(datetime.now())) + \".csv\"))"
   ]
  },
  {
   "cell_type": "markdown",
   "id": "0f249f40-1032-4f12-a285-bba9d53c3969",
   "metadata": {},
   "source": [
    "### Add in finalized scANVI results to the AnnData"
   ]
  },
  {
   "cell_type": "code",
   "execution_count": null,
   "id": "269838de-8508-4637-b82f-ba53ab868af1",
   "metadata": {
    "tags": []
   },
   "outputs": [],
   "source": [
    "dataset = \"AD\"\n",
    "region = \"A9\"\n",
    "\n",
    "adata = sc.read_h5ad(\"A9_combined.2023-06-09.h5ad\")\n",
    "\n",
    "output_dir = os.path.join(pwd, \"output\", region + \"_\" + dataset)\n",
    "results_file = \"iterative_scANVI_results_refined.2023-07-10.csv\"\n",
    "\n",
    "scANVI_results = pd.read_csv(os.path.join(output_dir, results_file), index_col=0)\n",
    "scANVI_results = scANVI_results.loc[:, np.setdiff1d(scANVI_results.columns, adata.obs.columns)]\n",
    "    \n",
    "if scANVI_results.shape[0] != adata.shape[0]:\n",
    "    common_cells = np.intersect1d(adata.obs_names, scANVI_results.index)\n",
    "    adata = adata[common_cells].copy()\n",
    "    print(\"WARNING: Mismatch between cells in scANVI results and merged AnnData object, using \" + str(len(common_cells)) + \" common cells. Was this expected?\") \n",
    "\n",
    "adata.obs = pd.concat([adata.obs, scANVI_results.loc[adata.obs_names, :]], axis=1)"
   ]
  },
  {
   "cell_type": "markdown",
   "id": "3e18e89c-9439-4d45-ab1c-2008c3979237",
   "metadata": {},
   "source": [
    "### Write out final AnnData object/CSVs that includes all nuclei"
   ]
  },
  {
   "cell_type": "code",
   "execution_count": null,
   "id": "ce006a0f-82bc-47d2-8e4b-0424b4efc7d6",
   "metadata": {},
   "outputs": [],
   "source": [
    "to_keep = ~(\n",
    "    ([i not in adata.obs[\"supertype\"].cat.categories for i in adata.obs[\"supertype_scANVI_leiden\"]]) & \n",
    "    (~adata.obs[\"supertype_scANVI_leiden\"].str.contains(\"-SEAAD\")) &\n",
    "    (~adata.obs[\"supertype_scANVI_leiden\"].str.contains(\"Endo_\"))\n",
    ")\n",
    "adata.obs[\"for_analysis\"] = to_keep\n",
    "\n",
    "adata.write(os.path.join(pwd, \"output\", region + \"_\" + dataset, \"raw.\" + str(datetime.date(datetime.now())) + \".h5ad\"))"
   ]
  },
  {
   "cell_type": "markdown",
   "id": "55e497f5-c53f-41a7-93aa-776dba419017",
   "metadata": {},
   "source": [
    "### Remove low quality cells, train model for final representation and write out"
   ]
  },
  {
   "cell_type": "code",
   "execution_count": null,
   "id": "086d6e55-021d-45bb-9212-c482a2365f91",
   "metadata": {},
   "outputs": [],
   "source": [
    "adata = adata[to_keep].copy()\n",
    "\n",
    "final_model_args = {\n",
    "    \"n_layers\": 2,\n",
    "    \"n_latent\": 20,\n",
    "    \"dispersion\": \"gene-label\"\n",
    "}\n",
    "print(\"Setting up AnnData...\")\n",
    "scvi.model.SCVI.setup_anndata(\n",
    "    adata,\n",
    "    layer=\"UMIs\",\n",
    "    categorical_covariate_keys=[\"library_prep\"],\n",
    "    continuous_covariate_keys=[\"nFeature_RNA\"],\n",
    "    labels_key=\"supertype_scANVI_leiden\"\n",
    ")\n",
    "if os.path.exists(os.path.join(pwd, \"output\", region + \"_\" + dataset, \"final_model\")) is False:\n",
    "    print(\"Creating model...\")\n",
    "    final_model = scvi.model.SCVI(adata, **final_model_args)\n",
    "    print(\"Training model...\")\n",
    "    final_model.train(max_epochs=200, early_stopping=True)\n",
    "    final_model.save(os.path.join(pwd, \"output\", region + \"_\" + dataset, \"final_model\"))\n",
    "else:\n",
    "    print(\"Loading model...\")\n",
    "    final_model = scvi.model.SCVI.load(os.path.join(pwd, \"output\", region + \"_\" + dataset, \"final_model\"), adata)\n",
    "\n",
    "print(\"Calculcating latent representation and UMAP...\")\n",
    "with parallel_backend('threading', n_jobs=32):\n",
    "    adata.obsm[\"X_scVI\"] = final_model.get_latent_representation()\n",
    "    sc.pp.neighbors(adata, use_rep=\"X_scVI\")\n",
    "    sc.tl.umap(adata)\n",
    "    \n",
    "colors = pd.read_csv(os.path.join(pwd, \"input\", \"cluster_order_and_colors.csv\"))\n",
    "subclass_colors = colors.loc[:, [\"subclass_label\", \"subclass_color\"]].drop_duplicates()\n",
    "subclass_colors.index = subclass_colors[\"subclass_label\"].copy()\n",
    "subclass_colors = subclass_colors[\"subclass_color\"].to_dict()\n",
    "\n",
    "supertype_colors = colors.loc[:, [\"cluster_label\", \"cluster_color\"]]\n",
    "supertype_colors.index = supertype_colors[\"cluster_label\"].copy()\n",
    "supertype_colors = supertype_colors[\"cluster_color\"].to_dict()\n",
    "\n",
    "plt.rcParams[\"figure.figsize\"] = (10, 10)\n",
    "sc.pl.umap(adata, color=\"subclass_scANVI\", palette=subclass_colors, legend_loc=\"on data\", frameon=False, size=3)\n",
    "sc.pl.umap(adata, color=\"supertype_scANVI_leiden\", palette=supertype_colors, legend_loc=\"on data\", frameon=False, size=3, legend_fontoutline=3)\n",
    "\n",
    "adata.write(os.path.join(pwd, \"output\", region + \"_\" + dataset, \"final.\" + str(datetime.date(datetime.now())) + \".h5ad\"))"
   ]
  },
  {
   "cell_type": "markdown",
   "id": "cbc097c6-0911-434b-8df6-677684de91b4",
   "metadata": {},
   "source": [
    "### Write out Subclass specific latent spaces and UMAP coordinates"
   ]
  },
  {
   "cell_type": "code",
   "execution_count": null,
   "id": "85842ff8-e604-4415-b2e5-cdfc4cd31d43",
   "metadata": {},
   "outputs": [],
   "source": [
    "for i in adata.obs[\"subclass_scANVI\"].cat.categories:\n",
    "\n",
    "    markers = pd.read_csv(os.path.join(pwd, \"output\", region + \"_\" + dataset, \"objects\", \"models\", split_value.replace(\"/\", \" \"), \"scVI_model\", \"var_names.csv\"), header=None)\n",
    "    markers = markers[0].to_list()\n",
    "\n",
    "    sub = adata[(adata.obs[\"subclass_scANVI\"] == i), markers].copy()\n",
    "    \n",
    "    model = scvi.model.SCVI.load(os.path.join(pwd, \"output\", region + \"_\" + dataset, \"objects\", \"models\", split_value.replace(\"/\", \" \"), \"scVI_model\"), sub)\n",
    "    \n",
    "    with parallel_backend('threading', n_jobs=32):\n",
    "        sub.obsm[\"X_scVI\"] = model.get_latent_representation()\n",
    "        sc.pp.neighbors(sub, use_rep=\"X_scVI\")\n",
    "        sc.tl.umap(sub)\n",
    "\n",
    "    np.save(os.path.join(pwd, \"output\", region + \"_\" + dataset, \"objects\", \"models\", split_value.replace(\"/\", \" \"), \"scVI_model\", \"X_scVI.npy\"), sub.obsm[\"X_scVI\"])\n",
    "    np.save(os.path.join(pwd, \"output\", region + \"_\" + dataset, \"objects\", \"models\", split_value.replace(\"/\", \" \"), \"scVI_model\" \"X_umap.npy\"), sub.obsm[\"X_umap\"])\n",
    "    pd.DataFrame(sub.obs_names).to_csv(os.path.join(pwd, \"output\", region + \"_\" + dataset, \"objects\", \"models\", split_value.replace(\"/\", \" \"), \"scVI_model\" \"obs_names.csv\"), index=False)    "
   ]
  }
 ],
 "metadata": {
  "kernelspec": {
   "display_name": "Python 3 (ipykernel)",
   "language": "python",
   "name": "python3"
  },
  "language_info": {
   "codemirror_mode": {
    "name": "ipython",
    "version": 3
   },
   "file_extension": ".py",
   "mimetype": "text/x-python",
   "name": "python",
   "nbconvert_exporter": "python",
   "pygments_lexer": "ipython3",
   "version": "3.11.8"
  }
 },
 "nbformat": 4,
 "nbformat_minor": 5
}
