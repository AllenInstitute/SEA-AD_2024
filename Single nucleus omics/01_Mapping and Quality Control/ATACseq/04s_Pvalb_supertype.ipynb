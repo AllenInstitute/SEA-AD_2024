{
 "cells": [
  {
   "cell_type": "markdown",
   "id": "c6c5df28-4ab2-49ab-86fa-32f67fbd9a90",
   "metadata": {},
   "source": [
    "### Load required packages"
   ]
  },
  {
   "cell_type": "code",
   "execution_count": null,
   "id": "2c8d76d8-bf00-4a9a-8960-4019b5c758b1",
   "metadata": {},
   "outputs": [],
   "source": [
    "import os\n",
    "import warnings\n",
    "import scvi\n",
    "import anndata\n",
    "import scipy\n",
    "import numpy as np\n",
    "import pandas as pd\n",
    "import scanpy as sc\n",
    "import matplotlib.pyplot as plt\n",
    "%matplotlib inline\n",
    "\n",
    "sc.settings.n_jobs = 32\n",
    "warnings.filterwarnings(\"ignore\")\n",
    "\n",
    "pwd = os.getcwd()"
   ]
  },
  {
   "cell_type": "markdown",
   "id": "33e9eb4a-3f85-4484-b1d6-873c6b309972",
   "metadata": {},
   "source": [
    "### Load singleome ATAC dataset and filter peak features"
   ]
  },
  {
   "cell_type": "code",
   "execution_count": null,
   "id": "3f56def3-5a8a-4780-9022-d73312ad2115",
   "metadata": {},
   "outputs": [],
   "source": [
    "adata_atac_only = anndata.read_h5ad(filename=\"atac_Pvalb_12.06.2022.h5ad\")"
   ]
  },
  {
   "cell_type": "code",
   "execution_count": null,
   "id": "487e6b04-93cf-4716-af5c-131242390b62",
   "metadata": {},
   "outputs": [],
   "source": [
    "min_cells = int(adata_atac_only.shape[0] * 0.01)\n",
    "sc.pp.filter_genes(adata_atac_only, min_cells=min_cells)"
   ]
  },
  {
   "cell_type": "code",
   "execution_count": null,
   "id": "7dfbc1e4-a89a-4410-bf36-6af8357c7e36",
   "metadata": {},
   "outputs": [],
   "source": [
    "peaks = adata_atac_only.var_names"
   ]
  },
  {
   "cell_type": "markdown",
   "id": "df1f81b6-0574-4d39-a854-dcc899e4824e",
   "metadata": {},
   "source": [
    "### Prepare singleome RNA dataset"
   ]
  },
  {
   "cell_type": "code",
   "execution_count": null,
   "id": "afd8710c-6afa-4aba-88a0-dfc291b537e6",
   "metadata": {},
   "outputs": [],
   "source": [
    "adata_rna_only = anndata.read_h5ad(filename='/allen/programs/celltypes/workgroups/hct/SEA-AD/Integration/multivi_subclasses/singleomeRNA_MTG_Full/Pvalb.h5ad')"
   ]
  },
  {
   "cell_type": "code",
   "execution_count": null,
   "id": "e53a1149-56a7-4117-826d-a0f0a9b924ce",
   "metadata": {},
   "outputs": [],
   "source": [
    "min_cells = int(adata_rna_only.shape[0] * 0.01)\n",
    "sc.pp.filter_genes(adata_rna_only, min_cells=min_cells)"
   ]
  },
  {
   "cell_type": "code",
   "execution_count": null,
   "id": "eb21b857-95fa-4139-9f01-06f86e0bb287",
   "metadata": {},
   "outputs": [],
   "source": [
    "genes = adata_rna_only.var_names\n",
    "features = genes.union(peaks)"
   ]
  },
  {
   "cell_type": "code",
   "execution_count": null,
   "id": "37205801-66cf-4862-b979-b0634895f87f",
   "metadata": {},
   "outputs": [],
   "source": [
    "adata_rna_only.write(filename='rna_Pvalb_all_02.23.2023.h5ad')"
   ]
  },
  {
   "cell_type": "markdown",
   "id": "20cbfcd2-5814-42fb-9902-01cf461abaaf",
   "metadata": {},
   "source": [
    "## Prepare multiome dataset and filter features based on singleome ATAC and RNA"
   ]
  },
  {
   "cell_type": "code",
   "execution_count": null,
   "id": "e84b504b-b64f-4356-b377-c3376a35bffd",
   "metadata": {},
   "outputs": [],
   "source": [
    "adata_mult = anndata.read_h5ad(filename='mult_Pvalb_12.06.2022.h5ad')\n",
    "adata_mult = adata_mult[:, features].copy()"
   ]
  },
  {
   "cell_type": "markdown",
   "id": "bcc8b898-0600-4286-baa1-d9a83b1aa0dc",
   "metadata": {},
   "source": [
    "### Prepare MVI dataset and run MultiVI"
   ]
  },
  {
   "cell_type": "code",
   "execution_count": null,
   "id": "2c88ec2e-2ac0-4210-94dc-b043433842c7",
   "metadata": {},
   "outputs": [],
   "source": [
    "mvi_anno = pd.read_csv(\"/allen/programs/celltypes/workgroups/hct/SEA-AD/Integration/multivi_AD_3cohorts_RNA_ATAC_Multiome_v2.0_annotation_updated_refined_1.0_obs_meta.csv\")\n",
    "mvi_anno = mvi_anno[(mvi_anno['modality'] == 'accessibility') & (mvi_anno['label_transfer'] == 'Pvalb')]\n",
    "mvi_anno = mvi_anno[['sample_id', 'age', 'sex', 'medical_conditions', 'donor_name', 'method']]\n",
    "mvi_anno['sex'] = np.where(mvi_anno['sex'] == 'Male', 'M', 'F')\n",
    "mvi_anno['sex'] = mvi_anno['sex'].astype('category')"
   ]
  },
  {
   "cell_type": "code",
   "execution_count": null,
   "id": "f1c2e1b4-d7f5-406c-b1b8-9786487455d2",
   "metadata": {},
   "outputs": [],
   "source": [
    "df = adata_atac_only.obs.copy()\n",
    "df.reset_index(inplace=True)\n",
    "df_new = pd.merge(df, mvi_anno, how='left', on='sample_id')"
   ]
  },
  {
   "cell_type": "code",
   "execution_count": null,
   "id": "5fbe5502-a528-4333-a5cc-653daaf5fde8",
   "metadata": {},
   "outputs": [],
   "source": [
    "adata_atac_only.obs = df_new\n",
    "adata_atac_only.obs.set_index(\"barcode\", inplace=True)"
   ]
  },
  {
   "cell_type": "code",
   "execution_count": null,
   "id": "fc8779f6-bf32-4478-87e1-387905c439cf",
   "metadata": {},
   "outputs": [],
   "source": [
    "adata_rna_only.var[\"modality\"] = \"Gene Expression\""
   ]
  },
  {
   "cell_type": "code",
   "execution_count": null,
   "id": "4960e5da-e8a8-406a-872d-53784e84cecc",
   "metadata": {},
   "outputs": [],
   "source": [
    "del adata_mult.obsm['_scvi_extra_categoricals']\n",
    "del adata_mult.obsm['_scvi_extra_continuous']\n",
    "del adata_rna_only.obsm['_scvi_extra_categoricals']\n",
    "del adata_rna_only.obsm['_scvi_extra_continuous']"
   ]
  },
  {
   "cell_type": "code",
   "execution_count": null,
   "id": "e470563f-f040-44b8-b325-47cbe82ef5fe",
   "metadata": {},
   "outputs": [],
   "source": [
    "# We can now use the organizing method from scvi to concatenate these anndata\n",
    "adata_mvi = scvi.data.organize_multiome_anndatas(adata_mult, adata_rna_only, adata_atac_only)"
   ]
  },
  {
   "cell_type": "code",
   "execution_count": null,
   "id": "39ca385f-2caa-46a3-be06-5341fece4e37",
   "metadata": {},
   "outputs": [],
   "source": [
    "adata_mvi = adata_mvi[:, adata_mvi.var[\"modality\"].argsort()].copy()"
   ]
  },
  {
   "cell_type": "code",
   "execution_count": null,
   "id": "c5a74cd3-6c28-4ad5-a6ff-744f94030dd0",
   "metadata": {},
   "outputs": [],
   "source": [
    "scvi.model.MULTIVI.setup_anndata(adata_mvi, batch_key='modality', categorical_covariate_keys=[\"donor_name\", \"sex\"])\n",
    "\n",
    "mvi = scvi.model.MULTIVI(\n",
    "    adata_mvi,\n",
    "    n_genes=(adata_mvi.var['modality']=='Gene Expression').sum(),\n",
    "    n_regions=(adata_mvi.var['modality']=='Peaks').sum(),\n",
    ")"
   ]
  },
  {
   "cell_type": "code",
   "execution_count": null,
   "id": "dd23e512-d3d4-4bc7-97e0-097b6d6af208",
   "metadata": {},
   "outputs": [],
   "source": [
    "mvi.train()"
   ]
  },
  {
   "cell_type": "code",
   "execution_count": null,
   "id": "63cfdcea-746b-42fb-b0b3-6ab2e7e63ad1",
   "metadata": {},
   "outputs": [],
   "source": [
    "adata_mvi.obsm[\"X_MultiVI\"] = mvi.get_latent_representation()\n",
    "sc.pp.neighbors(adata_mvi, use_rep=\"X_MultiVI\")\n",
    "sc.tl.umap(adata_mvi, min_dist=0.2)"
   ]
  },
  {
   "cell_type": "code",
   "execution_count": null,
   "id": "a9130391-97e0-438d-a5ee-cc50ea3f060d",
   "metadata": {},
   "outputs": [],
   "source": [
    "plt.rcParams[\"figure.figsize\"] = (5, 5)\n",
    "sc.pl.umap(adata_mvi, color='modality')"
   ]
  },
  {
   "cell_type": "code",
   "execution_count": null,
   "id": "43df59bc-dedd-4128-87f1-eae494d603e9",
   "metadata": {},
   "outputs": [],
   "source": [
    "sc.pl.umap(adata_mvi, color='sex')"
   ]
  },
  {
   "cell_type": "code",
   "execution_count": null,
   "id": "bfdfbace-ac32-4779-8b78-c2776c37131e",
   "metadata": {},
   "outputs": [],
   "source": [
    "sc.pl.umap(adata_mvi, color='donor_name')"
   ]
  },
  {
   "cell_type": "code",
   "execution_count": null,
   "id": "66beccbf-ace2-47c3-a6f3-4c63d66a3bd0",
   "metadata": {},
   "outputs": [],
   "source": [
    "def compute_label_purity_slot(adata_mvi, cell_idx, slot=\"subclass_scANVI\"):\n",
    "    idx = np.where(adata_mvi.uns['neighbors']['connectivities'][cell_idx].todense()>0)[1]\n",
    "    df = adata_mvi.obs[[slot]].iloc[idx]\n",
    "    df = df.loc[~df[slot].isnull()]\n",
    "    u, c = np.unique(df, return_counts=True)\n",
    "    if np.size(c) == 0:\n",
    "        ratio = 0\n",
    "        label = np.nan\n",
    "    else:\n",
    "        ratio = c[np.argmax(c)] / c.sum()\n",
    "        label = u[np.argmax(c)]\n",
    "    \n",
    "    return ratio, label"
   ]
  },
  {
   "cell_type": "code",
   "execution_count": null,
   "id": "a8705950-1491-4786-b6c2-c9fe9f008df9",
   "metadata": {},
   "outputs": [],
   "source": [
    "cells = adata_mvi.shape[0]\n",
    "purity_ratios = np.zeros(cells)\n",
    "labels = adata_mvi.obs[\"supertype_scANVI\"].to_numpy()\n",
    "for i in np.arange(cells):\n",
    "    ratio, label_ = compute_label_purity_slot(adata_mvi, i, slot=\"supertype_scANVI\")\n",
    "    purity_ratios[i] = ratio\n",
    "    labels[i] = label_\n",
    "\n",
    "adata_mvi.obs[\"supertype_scANVI_purity_ratio\"] = purity_ratios\n",
    "adata_mvi.obs[\"supertype_scANVI_label_transfer\"] = labels"
   ]
  },
  {
   "cell_type": "code",
   "execution_count": null,
   "id": "f937008f-2e83-4d18-89ea-7d875c134f85",
   "metadata": {},
   "outputs": [],
   "source": [
    "for i in np.where(adata_mvi.obs[\"supertype_scANVI_label_transfer\"].isnull())[0]:\n",
    "    ratio, label_ = compute_label_purity_slot(adata_mvi, i, slot=\"supertype_scANVI_label_transfer\")\n",
    "    adata_mvi.obs[\"supertype_scANVI_purity_ratio\"].loc[i] = ratio\n",
    "    adata_mvi.obs[\"supertype_scANVI_label_transfer\"].loc[i] = label_"
   ]
  },
  {
   "cell_type": "code",
   "execution_count": null,
   "id": "ec29ee61-f99a-4ba8-97fe-c416471c0c9b",
   "metadata": {},
   "outputs": [],
   "source": [
    "print(adata_mvi.obs[\"supertype_scANVI_label_transfer\"].isnull().sum())"
   ]
  },
  {
   "cell_type": "code",
   "execution_count": null,
   "id": "9c197aa6-779b-4e64-80ef-72828b840738",
   "metadata": {},
   "outputs": [],
   "source": [
    "cells = adata_mvi.shape[0]\n",
    "purity_ratios = np.zeros(cells)\n",
    "labels = adata_mvi.obs[\"supertype_scANVI_leiden\"].to_numpy()\n",
    "for i in np.arange(cells):\n",
    "    ratio, label_ = compute_label_purity_slot(adata_mvi, i, slot=\"supertype_scANVI_leiden\")\n",
    "    purity_ratios[i] = ratio\n",
    "    labels[i] = label_\n",
    "\n",
    "adata_mvi.obs[\"supertype_scANVI_leiden_purity_ratio\"] = purity_ratios\n",
    "adata_mvi.obs[\"supertype_scANVI_leiden_label_transfer\"] = labels"
   ]
  },
  {
   "cell_type": "code",
   "execution_count": null,
   "id": "460c381a-4a3e-4673-a41c-72fd25d121bf",
   "metadata": {},
   "outputs": [],
   "source": [
    "for i in np.where(adata_mvi.obs[\"supertype_scANVI_leiden_label_transfer\"].isnull())[0]:\n",
    "    ratio, label_ = compute_label_purity_slot(adata_mvi, i, slot=\"supertype_scANVI_leiden_label_transfer\")\n",
    "    adata_mvi.obs[\"supertype_scANVI_leiden_purity_ratio\"].loc[i] = ratio\n",
    "    adata_mvi.obs[\"supertype_scANVI_leiden_label_transfer\"].loc[i] = label_"
   ]
  },
  {
   "cell_type": "code",
   "execution_count": null,
   "id": "834c9bbf-f559-4e6b-8aef-ddefa35c2b8d",
   "metadata": {},
   "outputs": [],
   "source": [
    "print(adata_mvi.obs[\"supertype_scANVI_leiden_label_transfer\"].isnull().sum())"
   ]
  },
  {
   "cell_type": "code",
   "execution_count": null,
   "id": "8f5fcd3d-7085-4f59-a965-15ee0c336716",
   "metadata": {},
   "outputs": [],
   "source": [
    "plt.rcParams[\"figure.figsize\"] = (6, 6)\n",
    "sc.pl.umap(adata_mvi, color='supertype_scANVI_leiden_label_transfer', legend_loc=\"on data\")"
   ]
  },
  {
   "cell_type": "code",
   "execution_count": null,
   "id": "07b6e188-3b04-44f9-82d1-aac008953752",
   "metadata": {},
   "outputs": [],
   "source": [
    "sc.pl.umap(adata_mvi, color='supertype_scANVI_leiden_label_transfer')"
   ]
  },
  {
   "cell_type": "code",
   "execution_count": null,
   "id": "604a60e8-7581-4a79-9465-426ef8fd0a9c",
   "metadata": {},
   "outputs": [],
   "source": [
    "from joblib import parallel_backend\n",
    "sc.settings.n_jobs=32\n",
    "with parallel_backend('threading', n_jobs=32):\n",
    "    sc.tl.leiden(adata_mvi, key_added = \"leiden_1.0\") # default resolution in 1.0\n"
   ]
  },
  {
   "cell_type": "code",
   "execution_count": null,
   "id": "ef8b4481-854b-49ed-95fd-3a8a4ba96358",
   "metadata": {},
   "outputs": [],
   "source": [
    "sc.pl.umap(adata_mvi, color=['leiden_1.0'], legend_loc='on data') ## this is default resolution"
   ]
  },
  {
   "cell_type": "code",
   "execution_count": null,
   "id": "a9ec9e01-59e7-44d6-a180-d2fabf341818",
   "metadata": {},
   "outputs": [],
   "source": [
    "total_peaks = np.asarray(np.sum(adata_mvi[:, adata_mvi.var.modality == 'Peaks'].X, axis=1)).reshape(-1)"
   ]
  },
  {
   "cell_type": "code",
   "execution_count": null,
   "id": "88476652-f1be-4cf2-bc63-920e662fcb9e",
   "metadata": {},
   "outputs": [],
   "source": [
    "adata_mvi.obs['total_peak_count'] = total_peaks"
   ]
  },
  {
   "cell_type": "code",
   "execution_count": null,
   "id": "0b1fed00-4c0b-4bd6-9f2a-2f4d609b43eb",
   "metadata": {},
   "outputs": [],
   "source": [
    "dtypes = adata_mvi.obs.dtypes\n",
    "non_string_cols = dtypes[dtypes == 'object'].index.tolist()\n",
    "adata_mvi.obs[non_string_cols] = adata_mvi.obs[non_string_cols].astype(str)"
   ]
  },
  {
   "cell_type": "code",
   "execution_count": null,
   "id": "ef20555e-fa8b-4bca-b703-25df88dcdd5d",
   "metadata": {},
   "outputs": [],
   "source": [
    "adata_mvi.write(\"multivi_AD_Pvalb_02.23.23.h5ad\")"
   ]
  },
  {
   "cell_type": "code",
   "execution_count": null,
   "id": "507bde74-a442-4696-bce5-b04ecf9f7928",
   "metadata": {},
   "outputs": [],
   "source": [
    "mvi.save(\"trained_multivi_AD_Pvalb_02.23.23\", save_anndata=True)"
   ]
  }
 ],
 "metadata": {
  "kernelspec": {
   "display_name": "Python 3 (ipykernel)",
   "language": "python",
   "name": "python3"
  },
  "language_info": {
   "codemirror_mode": {
    "name": "ipython",
    "version": 3
   },
   "file_extension": ".py",
   "mimetype": "text/x-python",
   "name": "python",
   "nbconvert_exporter": "python",
   "pygments_lexer": "ipython3",
   "version": "3.11.8"
  },
  "toc-autonumbering": false,
  "toc-showmarkdowntxt": true,
  "toc-showtags": false
 },
 "nbformat": 4,
 "nbformat_minor": 5
}
