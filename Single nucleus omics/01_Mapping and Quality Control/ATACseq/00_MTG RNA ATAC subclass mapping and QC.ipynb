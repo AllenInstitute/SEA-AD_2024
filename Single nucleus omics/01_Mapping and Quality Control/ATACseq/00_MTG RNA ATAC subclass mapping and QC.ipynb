{
 "cells": [
  {
   "cell_type": "markdown",
   "id": "c6c5df28-4ab2-49ab-86fa-32f67fbd9a90",
   "metadata": {},
   "source": [
    "### Load required packages"
   ]
  },
  {
   "cell_type": "code",
   "execution_count": null,
   "id": "2c8d76d8-bf00-4a9a-8960-4019b5c758b1",
   "metadata": {},
   "outputs": [],
   "source": [
    "import os\n",
    "import warnings\n",
    "import scvi\n",
    "import scipy\n",
    "import numpy as np\n",
    "import pandas as pd\n",
    "import scanpy as sc\n",
    "import matplotlib.pyplot as plt\n",
    "%matplotlib inline\n",
    "from helper_functions import *\n",
    "\n",
    "sc.settings.n_jobs = 32\n",
    "warnings.filterwarnings(\"ignore\")\n",
    "\n",
    "pwd = os.getcwd()"
   ]
  },
  {
   "cell_type": "markdown",
   "id": "201af4aa-368c-4cd9-ae04-4d2633803896",
   "metadata": {},
   "source": [
    "### Load and prepare data"
   ]
  },
  {
   "cell_type": "code",
   "execution_count": null,
   "id": "7b669d0e-21b5-4bf4-a4d7-e33eae17c1be",
   "metadata": {
    "tags": []
   },
   "outputs": [],
   "source": [
    "adata_mvi = sc.read_h5ad(filename=\"multivi_AD_3cohorts_RNA_ATAC_Multiome_v1.2_trained.h5ad\")\n",
    "\n",
    "ad_obs = adata_mvi.obs.copy()\n",
    "ad_obs.reset_index(inplace=True)\n",
    "column_select = ['donor_name', 'external_donor_name', 'age', 'sex', 'medical_conditions', 'method', 'library_prep']\n",
    "ad_obs_1 = ad_obs[['level_0', 'sample_id', 'batch_id', 'modality', '_scvi_batch', '_scvi_labels'] + column_select]\n",
    "\n",
    "rna_mult_anno = pd.read_csv(\"/allen/programs/celltypes/workgroups/hct/SEA-AD/RNAseq/scANVI/output/MTG_AD/metadata/MTG_combined_metadata_full.2022-04-13.csv\")\n",
    "rna_mult_anno_1 = rna_mult_anno.drop(column_select + [\"index_name\"], axis=1)\n",
    "ad_obs_2 = pd.merge(ad_obs_1, rna_mult_anno_1, how='left', on='sample_id')\n",
    "\n",
    "b = np.array(ad_obs_2['sample_id'].str.split(\"-\", expand=True))\n",
    "ad_obs_2['barcodes_out'] = b[:, 0] + \"-1\"\n",
    "\n",
    "atac_only_anno = pd.read_csv(\"/allen/programs/celltypes/workgroups/rnaseqanalysis/ATAC-Seq/Arrow/ATAC_AD_Center_Grant_complete/ATAC_AD_Center_Grant_complete.csv\")\n",
    "atac_only_anno[\"path_to_fragments\"] = atac_only_anno[\"ar_directory\"] + atac_only_anno[\"ar_id\"].astype(str) + \"/outs/fragments.tsv.gz\"\n",
    "atac_only_anno = atac_only_anno.loc[:, [\"library_prep\", \"path_to_fragments\"]]\n",
    "\n",
    "mult_only_anno = pd.read_csv(\"/allen/programs/celltypes/workgroups/rnaseqanalysis/10x/ARC/Human/ARC_AD_Center_Grant_MTG/ARC_AD_Center_Grant_MTG_MTX-2036_human.csv\")\n",
    "mult_only_anno[\"path_to_fragments\"] = mult_only_anno[\"ar_directory\"] + mult_only_anno[\"ar_id\"].astype(str) + \"/outs/atac_fragments.tsv.gz\"\n",
    "mult_only_anno = mult_only_anno.loc[:, [\"library_prep\", \"path_to_fragments\"]]\n",
    "\n",
    "atac_anno = pd.concat([mult_only_anno, atac_only_anno])\n",
    "ad_obs_3 = pd.merge(ad_obs_2, atac_anno, how='left', on='library_prep')\n",
    "\n",
    "ad_obs_3.set_index(\"level_0\", inplace=True)\n",
    "ad_obs_3.index.name = None\n",
    "adata_mvi.obs = ad_obs_3"
   ]
  },
  {
   "cell_type": "markdown",
   "id": "afaad921-fff1-4dbe-aa21-1899575ea6a8",
   "metadata": {},
   "source": [
    "### Calculate QC metrics and perform label transfer"
   ]
  },
  {
   "cell_type": "code",
   "execution_count": null,
   "id": "ed00d424-d9fa-4f03-af06-38437b943a50",
   "metadata": {
    "tags": []
   },
   "outputs": [],
   "source": [
    "adata_mvi.obs[\"Doublet_or_LowQuality\"] = np.where(adata_mvi.obs.for_analysis == False,\n",
    "                                                  \"RNA doublet or LQ cells\", \n",
    "                                                  \"RNA high quality cells or ATAC cells\")\n"
   ]
  },
  {
   "cell_type": "code",
   "execution_count": null,
   "id": "8f1b1993-c8ab-4216-a9b2-287246015589",
   "metadata": {},
   "outputs": [],
   "source": [
    "cells = adata_mvi.uns['neighbors']['connectivities'].shape[0]\n",
    "qc_ratios = np.zeros(cells)\n",
    "for i in np.arange(cells):\n",
    "    ratio = compute_cell_quality(adata_mvi, i)\n",
    "    qc_ratios[i] = ratio\n",
    "    \n",
    "adata_mvi.obs[\"rna_neighbors_qc_ratio\"] = qc_ratios\n",
    "sc.pl.umap(adata_mvi, color=\"rna_neighbors_qc_ratio\")\n",
    "\n",
    "label = adata_mvi.obs['modality']\n",
    "# label: paired, accessibility or expression\n",
    "\n",
    "_, c = np.unique(label, return_counts=True)\n",
    "theoretic_score = ((c / c.sum()) ** 2).sum()\n",
    "\n",
    "modality_mixing = np.zeros(cells)\n",
    "for i in np.arange(cells):\n",
    "    ratio = compute_cell_mixing(adata_mvi, i)\n",
    "    modality_mixing[i] = ratio\n",
    "    \n",
    "adata_mvi.obs[\"modality_mixing_ratio\"] = modality_mixing\n",
    "sc.pl.umap(adata_mvi, color='modality_mixing_ratio')\n",
    "\n",
    "cells = adata_mvi.shape[0]\n",
    "purity_ratios = np.zeros(cells)\n",
    "labels = adata_mvi.obs[\"subclass_scANVI\"].to_numpy()\n",
    "for i in np.arange(cells):\n",
    "    ratio, label_ = compute_label_purity(adata_mvi, i)\n",
    "    purity_ratios[i] = ratio\n",
    "    labels[i] = label_\n",
    "    \n",
    "adata_mvi.obs[\"subclass_purity_ratio\"] = purity_ratios\n",
    "adata_mvi.obs[\"label_transfer\"] = labels\n",
    "sc.pl.umap(adata_mvi, color='subclass_purity_ratio')\n",
    "\n",
    "sc.pl.umap(adata_mvi, color='label_transfer', legend_loc=\"on data\")"
   ]
  },
  {
   "cell_type": "code",
   "execution_count": null,
   "id": "0146b3b8-2624-4dab-8d82-3c2559661042",
   "metadata": {},
   "outputs": [],
   "source": [
    "adata_mvi.obs[\"rna_neighbors_qc_ratio_new\"] = adata_mvi.obs[\"rna_neighbors_qc_ratio\"]\n",
    "\n",
    "def compute_cell_quality_all_neighbors(adata_mvi, cell_idx):\n",
    "    idx = np.where(adata_mvi.uns['neighbors']['connectivities'][cell_idx].todense()>0)[1]\n",
    "    df = adata_mvi.obs[[\"rna_neighbors_qc_ratio_new\", \"modality\"]].iloc[idx]\n",
    "    ratio = df[\"rna_neighbors_qc_ratio_new\"].mean(skipna=True)\n",
    "    return ratio\n",
    "\n",
    "for i in np.where(adata_mvi.obs[\"rna_neighbors_qc_ratio_new\"].isnull())[0]:\n",
    "    adata_mvi.obs[\"rna_neighbors_qc_ratio_new\"][i] = compute_cell_quality_all_neighbors(adata_mvi, i)\n",
    "\n",
    "adata_mvi.obs[\"all_neighbors_NA\"] = adata_mvi.obs[\"rna_neighbors_qc_ratio_new\"].isnull() * 1.0\n",
    "\n",
    "def compute_label_purity_slot(adata_mvi, cell_idx, slot=\"subclass_scANVI\"):\n",
    "    idx = np.where(adata_mvi.uns['neighbors']['connectivities'][cell_idx].todense()>0)[1]\n",
    "    df = adata_mvi.obs[[slot]].iloc[idx]\n",
    "    df = df.loc[~df[slot].isnull()]\n",
    "    u, c = np.unique(df, return_counts=True)\n",
    "    if np.size(c) == 0:\n",
    "        ratio = 0\n",
    "        label = np.nan\n",
    "    else:\n",
    "        ratio = c[np.argmax(c)] / c.sum()\n",
    "        label = u[np.argmax(c)]\n",
    "    \n",
    "    return ratio, label\n",
    "\n",
    "cells = adata_mvi.shape[0]\n",
    "purity_ratios = np.zeros(cells)\n",
    "labels = adata_mvi.obs[\"subclass_scANVI\"].to_numpy()\n",
    "for i in np.arange(cells):\n",
    "    ratio, label_ = compute_label_purity_slot(adata_mvi, i, slot=\"subclass_scANVI\")\n",
    "    purity_ratios[i] = ratio\n",
    "    labels[i] = label_\n",
    "\n",
    "adata_mvi.obs[\"subclass_purity_ratio\"] = purity_ratios\n",
    "adata_mvi.obs[\"label_transfer\"] = labels\n",
    "\n",
    "for i in np.where(adata_mvi.obs[\"label_transfer\"].isnull())[0]:\n",
    "    ratio, label_ = compute_label_purity_slot(adata_mvi, i, slot=\"label_transfer\")\n",
    "    adata_mvi.obs[\"subclass_purity_ratio\"].loc[i] = ratio\n",
    "    adata_mvi.obs[\"label_transfer\"].loc[i] = label_\n"
   ]
  },
  {
   "cell_type": "code",
   "execution_count": null,
   "id": "e07356b6-db5c-4f1c-b4ab-98a796700d0b",
   "metadata": {},
   "outputs": [],
   "source": [
    "from joblib import parallel_backend\n",
    "\n",
    "sc.settings.n_jobs=32\n",
    "with parallel_backend('threading', n_jobs=32):\n",
    "    sc.tl.leiden(adata_mvi, key_added = \"leiden_1.0\")"
   ]
  },
  {
   "cell_type": "code",
   "execution_count": null,
   "id": "65ca92bf-6dec-4b33-86f0-1bc0bdd3134c",
   "metadata": {},
   "outputs": [],
   "source": [
    "adata_mvi.obs.experiment_component_failed = adata_mvi.obs.experiment_component_failed.astype(str)\n",
    "\n",
    "convert_columns = ['class',\n",
    " 'neighborhood',\n",
    " 'subclass',\n",
    " 'subclass_color',\n",
    " 'cluster',\n",
    " 'cluster_color',\n",
    " 'class_held',\n",
    " 'subclass_held',\n",
    " 'cluster_held',\n",
    " 'supertype',\n",
    " 'for_analysis']\n",
    "\n",
    "adata_mvi.obs[convert_columns] = adata_mvi.obs[convert_columns].astype(str)\n",
    "adata_mvi.write(\"multivi_AD_3cohorts_RNA_ATAC_Multiome_v2.0_annotation_updated.h5ad\")"
   ]
  },
  {
   "cell_type": "markdown",
   "id": "8c992f37-2b75-467a-b5ce-f1339a353675",
   "metadata": {},
   "source": [
    "### Filter bad quality cells"
   ]
  },
  {
   "cell_type": "code",
   "execution_count": null,
   "id": "1756d2ba-b4a0-4477-943e-3acd76aceb80",
   "metadata": {},
   "outputs": [],
   "source": [
    "bad_clusters = ['33', '22', '21', '6', '29', '10', '25', '36', '39', '47', '32']\n",
    "cut_off = (~adata_mvi.obs['leiden_1.0'].isin(bad_clusters)) & (adata_mvi.obs[\"rna_neighbors_qc_ratio_new\"].to_numpy() <= 0.2)\n",
    "adata = adata_mvi[cut_off].copy()\n",
    "\n",
    "adata.obs[\"subclass_purity_ratio_new\"] = adata.obs[\"subclass_purity_ratio\"]\n",
    "adata.obs[\"label_transfer_new\"] = adata.obs[\"label_transfer\"]\n",
    "\n",
    "for i in np.where(adata.obs[\"label_transfer_new\"].isnull())[0]:\n",
    "    ratio, label_ = compute_label_purity_slot(ad, i, slot=\"label_transfer_new\")\n",
    "    adata.obs[\"subclass_purity_ratio_new\"].loc[i] = ratio\n",
    "    adata.obs[\"label_transfer_new\"].loc[i] = label_\n",
    "    \n",
    "adata.write(\"multivi_AD_3cohorts_RNA_ATAC_Multiome_v2.0_annotation_updated_refined_1.0.h5ad\")"
   ]
  }
 ],
 "metadata": {
  "kernelspec": {
   "display_name": "Python 3 (ipykernel)",
   "language": "python",
   "name": "python3"
  },
  "language_info": {
   "codemirror_mode": {
    "name": "ipython",
    "version": 3
   },
   "file_extension": ".py",
   "mimetype": "text/x-python",
   "name": "python",
   "nbconvert_exporter": "python",
   "pygments_lexer": "ipython3",
   "version": "3.11.8"
  },
  "toc-autonumbering": false,
  "toc-showmarkdowntxt": true,
  "toc-showtags": false
 },
 "nbformat": 4,
 "nbformat_minor": 5
}
