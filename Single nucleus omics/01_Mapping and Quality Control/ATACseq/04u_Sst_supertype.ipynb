{
 "cells": [
  {
   "cell_type": "markdown",
   "id": "c6c5df28-4ab2-49ab-86fa-32f67fbd9a90",
   "metadata": {},
   "source": [
    "### Load required packages"
   ]
  },
  {
   "cell_type": "code",
   "execution_count": null,
   "id": "2c8d76d8-bf00-4a9a-8960-4019b5c758b1",
   "metadata": {},
   "outputs": [],
   "source": [
    "import os\n",
    "import warnings\n",
    "import scvi\n",
    "import anndata\n",
    "import scipy\n",
    "import numpy as np\n",
    "import pandas as pd\n",
    "import scanpy as sc\n",
    "import matplotlib.pyplot as plt\n",
    "%matplotlib inline\n",
    "\n",
    "sc.settings.n_jobs = 32\n",
    "warnings.filterwarnings(\"ignore\")\n",
    "\n",
    "pwd = os.getcwd()\n"
   ]
  },
  {
   "cell_type": "markdown",
   "id": "33e9eb4a-3f85-4484-b1d6-873c6b309972",
   "metadata": {},
   "source": [
    "### Prepare singleome ATAC dataset "
   ]
  },
  {
   "cell_type": "code",
   "execution_count": null,
   "id": "c84de86f-2d22-4295-a2d1-71de75324191",
   "metadata": {},
   "outputs": [],
   "source": [
    "mvi_anno = pd.read_csv(\"/allen/programs/celltypes/workgroups/hct/SEA-AD/Integration/multivi_AD_3cohorts_RNA_ATAC_Multiome_v2.0_annotation_updated_refined_1.0_obs_meta.csv\")\n",
    "df = mvi_anno[['sample_id', 'path_to_fragments', 'donor_name', 'library_prep', 'modality']]\n",
    "df['ar_id'] = df.sample_id.str.split(\"-\").str[-1]\n",
    "df.drop(columns=['sample_id'], inplace=True)\n",
    "df.drop_duplicates(inplace=True)\n",
    "df = df[df.modality == 'accessibility']\n",
    "mapping = pd.read_csv(\"/allen/programs/celltypes/workgroups/hct/SEA-AD/Integration/subclasses_files/filter_files/mapping_filter_atac_libraries.csv\")\n",
    "df_new = pd.merge(df, mapping, how='left', left_on='path_to_fragments', right_on='1')\n",
    "df_new = df_new.drop(columns=['Unnamed: 0', '1'])\n",
    "df_new['prefix_frags'] = df_new['library_prep'] + '-' + df_new['ar_id']\n",
    "df_new['frags'] = 'fragments.tsv.gz_filter' + df_new['0'].astype(str) + 'Sst.tsv'\n",
    "name_change = pd.Series(df_new.prefix_frags.values,index=df_new.frags).to_dict()\n"
   ]
  },
  {
   "cell_type": "code",
   "execution_count": null,
   "id": "11370317-e32b-4338-bf3e-78753440b538",
   "metadata": {},
   "outputs": [],
   "source": [
    "# Preprocess and load the ATAC datasets from singleome (file processed by Mariano).\n",
    "def create_atac_anndata(base_path, mtx_ext, peak_ext, barcode_ext, name_change_dict, dict_key):\n",
    "    adata = anndata.read_mtx(os.path.join(base_path, dict_key + mtx_ext))\n",
    "    coords = pd.read_csv(\n",
    "        os.path.join(base_path, dict_key + peak_ext),\n",
    "        sep=\"\\t\",\n",
    "        header=None,\n",
    "        index_col=None,\n",
    "    )\n",
    "    coords.rename({0: \"chr\", 1: \"start\", 2: \"end\"}, axis=\"columns\", inplace=True)\n",
    "    coords.set_index(\n",
    "        coords.chr.astype(str)\n",
    "        + \":\"\n",
    "        + coords.start.astype(str)\n",
    "        + \"-\"\n",
    "        + coords.end.astype(str),\n",
    "        inplace=True,\n",
    "    )\n",
    "    coords.index = coords.index.astype(str)\n",
    "    \n",
    "    cell_annot = pd.read_csv(\n",
    "        os.path.join(base_path, dict_key + barcode_ext), \n",
    "        sep=\"-\", \n",
    "        header=None, \n",
    "        index_col=None\n",
    "    )\n",
    "    cell_annot.rename({0: \"barcode\", 1: \"batch_id\"}, axis=\"columns\", inplace=True)\n",
    "    \n",
    "    ## pay atention to changes below.\n",
    "    cell_annot[\"library_prep\"] = name_change_dict[dict_key].split(\"-\")[0]\n",
    "    cell_annot[\"sample_id\"] = cell_annot[\"barcode\"] + \"-\" + name_change_dict[dict_key]\n",
    "    cell_annot[\"barcode\"] = cell_annot[\"barcode\"] + \"-\" + cell_annot[\"library_prep\"]\n",
    "    cell_annot.set_index(\"barcode\", inplace=True)\n",
    "    cell_annot.index = cell_annot.index.astype(str)\n",
    "    \n",
    "    adata.obs = cell_annot\n",
    "    # adata.obs[\"modality\"] = \"accessibility\"\n",
    "    adata.var = coords\n",
    "    adata.var[\"modality\"] = \"Peaks\"\n",
    "    return adata.copy()"
   ]
  },
  {
   "cell_type": "code",
   "execution_count": null,
   "id": "b00efe27-64ee-4766-a54a-71c0e427b2c4",
   "metadata": {},
   "outputs": [],
   "source": [
    "# Preprocess and merge multiome-rna and multiome-atac datasets.\n",
    "base_path = \"/allen/programs/celltypes/workgroups/hct/SEA-AD/Integration/subclasses_files/filter_files/Sst/\"\n",
    "mtx_ext = \"_SST_ADNC.concat.merged_counts.mtx\"\n",
    "peak_ext = \"_SST_ADNC.concat.merged_peaks.bed\"\n",
    "barcode_ext = \"_SST_ADNC.concat.merged_barcodes.tsv\""
   ]
  },
  {
   "cell_type": "code",
   "execution_count": null,
   "id": "0f970334-3afc-4fbd-8e71-66b80f326922",
   "metadata": {},
   "outputs": [],
   "source": [
    "## https://stackoverflow.com/questions/2225564/get-a-filtered-list-of-files-in-a-directory\n",
    "included_extensions = [\"_SST_ADNC.concat.merged_barcodes.tsv\"]\n",
    "file_names = [fn for fn in os.listdir(base_path)\n",
    "              if any(fn.endswith(ext) for ext in included_extensions)]"
   ]
  },
  {
   "cell_type": "code",
   "execution_count": null,
   "id": "cfe2a7d7-787a-4bfb-97a9-12fd1c728fbd",
   "metadata": {},
   "outputs": [],
   "source": [
    "adata_atac_list = []\n",
    "\n",
    "for fl in file_names:\n",
    "    adata_atac = create_atac_anndata(base_path, mtx_ext, peak_ext, barcode_ext, name_change, fl.split(\"_SST_\")[0])\n",
    "    adata_atac_list.append(adata_atac)\n",
    "\n",
    "adata_atac_only = anndata.concat(adata_atac_list, merge = \"same\")"
   ]
  },
  {
   "cell_type": "code",
   "execution_count": null,
   "id": "3f56def3-5a8a-4780-9022-d73312ad2115",
   "metadata": {},
   "outputs": [],
   "source": [
    "adata_atac_only.write(filename=\"atac_Sst_12.08.2022.h5ad\")"
   ]
  },
  {
   "cell_type": "code",
   "execution_count": null,
   "id": "b9d110fc-4519-4619-9505-292cd2eb9db9",
   "metadata": {},
   "outputs": [],
   "source": [
    "## add filter steps here to reduce memory usage.\n",
    "# We also filter features to remove those that appear in fewer than 1% of the cells\n",
    "# This instruction removes genes or peaks that are not expressed/accessible in more than 1% of the cells.\n",
    "print(adata_atac_only.shape)\n",
    "min_cells = int(adata_atac_only.shape[0] * 0.01)\n",
    "sc.pp.filter_genes(adata_atac_only, min_cells=min_cells)\n",
    "print(adata_atac_only.shape)\n",
    "\n",
    "peaks = adata_atac_only.var_names"
   ]
  },
  {
   "cell_type": "markdown",
   "id": "6f49a450-5bec-4458-9a74-d988dc5d67de",
   "metadata": {},
   "source": [
    "## Prepare singleome RNA datasets"
   ]
  },
  {
   "cell_type": "code",
   "execution_count": null,
   "id": "e9c1405c-79ae-4fbe-93dd-305dabb8db7b",
   "metadata": {},
   "outputs": [],
   "source": [
    "adata_rna_only = anndata.read_h5ad(filename='/allen/programs/celltypes/workgroups/hct/SEA-AD/Integration/multivi_subclasses/singleomeRNA_MTG_Full/Sst.h5ad')\n",
    "\n",
    "min_cells = int(adata_rna_only.shape[0] * 0.01)\n",
    "sc.pp.filter_genes(adata_rna_only, min_cells=min_cells)\n",
    "\n",
    "genes = adata_rna_only.var_names\n",
    "features = genes.union(peaks)\n",
    "\n",
    "adata_rna_only.write(filename='rna_Sst_all_02.23.2023.h5ad')"
   ]
  },
  {
   "cell_type": "code",
   "execution_count": null,
   "id": "0270924c-62a2-4451-80f1-21c12885696e",
   "metadata": {},
   "outputs": [],
   "source": [
    "adata_mult = anndata.read_h5ad(filename='mult_Sst_12.08.2022.h5ad')\n",
    "adata_mult = adata_mult[:, features].copy()"
   ]
  },
  {
   "cell_type": "markdown",
   "id": "bcc8b898-0600-4286-baa1-d9a83b1aa0dc",
   "metadata": {},
   "source": [
    "### Prepare MVI dataset and run MultiVI"
   ]
  },
  {
   "cell_type": "code",
   "execution_count": null,
   "id": "b016c722-15a5-4401-981d-96fb44665c8e",
   "metadata": {},
   "outputs": [],
   "source": [
    "mvi_anno = pd.read_csv(\"/allen/programs/celltypes/workgroups/hct/SEA-AD/Integration/multivi_AD_3cohorts_RNA_ATAC_Multiome_v2.0_annotation_updated_refined_1.0_obs_meta.csv\")\n",
    "mvi_anno = mvi_anno[(mvi_anno['modality'] == 'accessibility') & (mvi_anno['label_transfer'] == 'Sst')]\n",
    "mvi_anno = mvi_anno[['sample_id', 'age', 'sex', 'medical_conditions', 'donor_name', 'method']]\n",
    "mvi_anno['sex'] = np.where(mvi_anno['sex'] == 'Male', 'M', 'F')\n",
    "mvi_anno['sex'] = mvi_anno['sex'].astype('category')"
   ]
  },
  {
   "cell_type": "code",
   "execution_count": null,
   "id": "f1c2e1b4-d7f5-406c-b1b8-9786487455d2",
   "metadata": {},
   "outputs": [],
   "source": [
    "df = adata_atac_only.obs.copy()\n",
    "df.reset_index(inplace=True)\n",
    "df_new = pd.merge(df, mvi_anno, how='left', on='sample_id')"
   ]
  },
  {
   "cell_type": "code",
   "execution_count": null,
   "id": "5fbe5502-a528-4333-a5cc-653daaf5fde8",
   "metadata": {},
   "outputs": [],
   "source": [
    "adata_atac_only.obs = df_new\n",
    "adata_atac_only.obs.set_index(\"barcode\", inplace=True)"
   ]
  },
  {
   "cell_type": "code",
   "execution_count": null,
   "id": "19e052e3-d2a3-41f8-8423-7646984b685c",
   "metadata": {},
   "outputs": [],
   "source": [
    "adata_rna_only.var[\"modality\"] = \"Gene Expression\""
   ]
  },
  {
   "cell_type": "code",
   "execution_count": null,
   "id": "4960e5da-e8a8-406a-872d-53784e84cecc",
   "metadata": {},
   "outputs": [],
   "source": [
    "del adata_mult.obsm['_scvi_extra_categoricals']\n",
    "del adata_mult.obsm['_scvi_extra_continuous']\n",
    "del adata_rna_only.obsm['_scvi_extra_categoricals']\n",
    "del adata_rna_only.obsm['_scvi_extra_continuous']"
   ]
  },
  {
   "cell_type": "code",
   "execution_count": null,
   "id": "e470563f-f040-44b8-b325-47cbe82ef5fe",
   "metadata": {},
   "outputs": [],
   "source": [
    "# We can now use the organizing method from scvi to concatenate these anndata\n",
    "adata_mvi = scvi.data.organize_multiome_anndatas(adata_mult, adata_rna_only, adata_atac_only)"
   ]
  },
  {
   "cell_type": "code",
   "execution_count": null,
   "id": "39ca385f-2caa-46a3-be06-5341fece4e37",
   "metadata": {},
   "outputs": [],
   "source": [
    "adata_mvi = adata_mvi[:, adata_mvi.var[\"modality\"].argsort()].copy()"
   ]
  },
  {
   "cell_type": "code",
   "execution_count": null,
   "id": "c5a74cd3-6c28-4ad5-a6ff-744f94030dd0",
   "metadata": {},
   "outputs": [],
   "source": [
    "scvi.model.MULTIVI.setup_anndata(adata_mvi, batch_key='modality', categorical_covariate_keys=[\"donor_name\", \"sex\"])\n",
    "\n",
    "mvi = scvi.model.MULTIVI(\n",
    "    adata_mvi,\n",
    "    n_genes=(adata_mvi.var['modality']=='Gene Expression').sum(),\n",
    "    n_regions=(adata_mvi.var['modality']=='Peaks').sum(),\n",
    ")"
   ]
  },
  {
   "cell_type": "code",
   "execution_count": null,
   "id": "dd23e512-d3d4-4bc7-97e0-097b6d6af208",
   "metadata": {},
   "outputs": [],
   "source": [
    "mvi.train()"
   ]
  },
  {
   "cell_type": "code",
   "execution_count": null,
   "id": "4aa8aa65-f34d-4ae1-a72c-4b523a7ddf7e",
   "metadata": {},
   "outputs": [],
   "source": [
    "adata_mvi.obsm[\"X_MultiVI\"] = mvi.get_latent_representation()\n",
    "sc.pp.neighbors(adata_mvi, use_rep=\"X_MultiVI\")\n",
    "sc.tl.umap(adata_mvi, min_dist=0.2)"
   ]
  },
  {
   "cell_type": "code",
   "execution_count": null,
   "id": "e07c61f4-3177-4b2d-acff-139d74dc1cdc",
   "metadata": {},
   "outputs": [],
   "source": [
    "plt.rcParams[\"figure.figsize\"] = (5, 5)\n",
    "sc.pl.umap(adata_mvi, color='modality')"
   ]
  },
  {
   "cell_type": "code",
   "execution_count": null,
   "id": "0a9a074f-e2f5-4ced-93db-568fb54049ca",
   "metadata": {},
   "outputs": [],
   "source": [
    "sc.pl.umap(adata_mvi, color='sex')"
   ]
  },
  {
   "cell_type": "code",
   "execution_count": null,
   "id": "d7cbd963-de6d-47de-a21c-ba0704fe3729",
   "metadata": {},
   "outputs": [],
   "source": [
    "sc.pl.umap(adata_mvi, color='donor_name')"
   ]
  },
  {
   "cell_type": "code",
   "execution_count": null,
   "id": "a436f8f5-5761-4c9f-9252-d20c49122a03",
   "metadata": {},
   "outputs": [],
   "source": [
    "sc.pl.umap(adata_mvi, color='supertype_scANVI')"
   ]
  },
  {
   "cell_type": "code",
   "execution_count": null,
   "id": "11400551-e363-4b6d-a826-32b333abc5e3",
   "metadata": {},
   "outputs": [],
   "source": [
    "def compute_label_purity_slot(adata_mvi, cell_idx, slot=\"subclass_scANVI\"):\n",
    "    idx = np.where(adata_mvi.uns['neighbors']['connectivities'][cell_idx].todense()>0)[1]\n",
    "    df = adata_mvi.obs[[slot]].iloc[idx]\n",
    "    df = df.loc[~df[slot].isnull()]\n",
    "    u, c = np.unique(df, return_counts=True)\n",
    "    if np.size(c) == 0:\n",
    "        ratio = 0\n",
    "        label = np.nan\n",
    "    else:\n",
    "        ratio = c[np.argmax(c)] / c.sum()\n",
    "        label = u[np.argmax(c)]\n",
    "    \n",
    "    return ratio, label"
   ]
  },
  {
   "cell_type": "code",
   "execution_count": null,
   "id": "8e32543c-1d3a-4ce3-a577-8d94ced52e35",
   "metadata": {},
   "outputs": [],
   "source": [
    "cells = adata_mvi.shape[0]\n",
    "purity_ratios = np.zeros(cells)\n",
    "labels = adata_mvi.obs[\"supertype_scANVI\"].to_numpy()\n",
    "for i in np.arange(cells):\n",
    "    ratio, label_ = compute_label_purity_slot(adata_mvi, i, slot=\"supertype_scANVI\")\n",
    "    purity_ratios[i] = ratio\n",
    "    labels[i] = label_\n",
    "\n",
    "adata_mvi.obs[\"supertype_scANVI_purity_ratio\"] = purity_ratios\n",
    "adata_mvi.obs[\"supertype_scANVI_label_transfer\"] = labels"
   ]
  },
  {
   "cell_type": "code",
   "execution_count": null,
   "id": "872c2198-d800-4235-b617-af9a8ba6126a",
   "metadata": {},
   "outputs": [],
   "source": [
    "for i in np.where(adata_mvi.obs[\"supertype_scANVI_label_transfer\"].isnull())[0]:\n",
    "    ratio, label_ = compute_label_purity_slot(adata_mvi, i, slot=\"supertype_scANVI_label_transfer\")\n",
    "    adata_mvi.obs[\"supertype_scANVI_purity_ratio\"].loc[i] = ratio\n",
    "    adata_mvi.obs[\"supertype_scANVI_label_transfer\"].loc[i] = label_"
   ]
  },
  {
   "cell_type": "code",
   "execution_count": null,
   "id": "de19bb46-fc33-46cb-a658-e5404f06aad8",
   "metadata": {},
   "outputs": [],
   "source": [
    "print(adata_mvi.obs[\"supertype_scANVI_label_transfer\"].isnull().sum())"
   ]
  },
  {
   "cell_type": "code",
   "execution_count": null,
   "id": "3bcf2d41-4b82-4bdd-a85b-d240e6c4f489",
   "metadata": {},
   "outputs": [],
   "source": [
    "cells = adata_mvi.shape[0]\n",
    "purity_ratios = np.zeros(cells)\n",
    "labels = adata_mvi.obs[\"supertype_scANVI_leiden\"].to_numpy()\n",
    "for i in np.arange(cells):\n",
    "    ratio, label_ = compute_label_purity_slot(adata_mvi, i, slot=\"supertype_scANVI_leiden\")\n",
    "    purity_ratios[i] = ratio\n",
    "    labels[i] = label_\n",
    "\n",
    "adata_mvi.obs[\"supertype_scANVI_leiden_purity_ratio\"] = purity_ratios\n",
    "adata_mvi.obs[\"supertype_scANVI_leiden_label_transfer\"] = labels"
   ]
  },
  {
   "cell_type": "code",
   "execution_count": null,
   "id": "dcdfac18-e208-4742-8d2b-55ffc42a7790",
   "metadata": {},
   "outputs": [],
   "source": [
    "for i in np.where(adata_mvi.obs[\"supertype_scANVI_leiden_label_transfer\"].isnull())[0]:\n",
    "    ratio, label_ = compute_label_purity_slot(adata_mvi, i, slot=\"supertype_scANVI_leiden_label_transfer\")\n",
    "    adata_mvi.obs[\"supertype_scANVI_leiden_purity_ratio\"].loc[i] = ratio\n",
    "    adata_mvi.obs[\"supertype_scANVI_leiden_label_transfer\"].loc[i] = label_"
   ]
  },
  {
   "cell_type": "code",
   "execution_count": null,
   "id": "6dc99c98-9237-4ed9-a23b-2c1cc603bd45",
   "metadata": {},
   "outputs": [],
   "source": [
    "print(adata_mvi.obs[\"supertype_scANVI_leiden_label_transfer\"].isnull().sum())"
   ]
  },
  {
   "cell_type": "code",
   "execution_count": null,
   "id": "8e7fe979-b227-4683-a692-e42e7820c6c4",
   "metadata": {},
   "outputs": [],
   "source": [
    "sc.pl.umap(adata_mvi, color='supertype_scANVI_leiden_label_transfer', legend_loc=\"on data\")"
   ]
  },
  {
   "cell_type": "code",
   "execution_count": null,
   "id": "553b8bb9-12f9-4fb9-acd1-916acbb09ec9",
   "metadata": {},
   "outputs": [],
   "source": [
    "from joblib import parallel_backend\n",
    "sc.settings.n_jobs=32\n",
    "with parallel_backend('threading', n_jobs=32):\n",
    "    sc.tl.leiden(adata_mvi, key_added = \"leiden_1.0\") # default resolution in 1.0\n"
   ]
  },
  {
   "cell_type": "code",
   "execution_count": null,
   "id": "1b4d7ad2-6c89-4737-a735-278a253b4511",
   "metadata": {},
   "outputs": [],
   "source": [
    "sc.pl.umap(adata_mvi, color=['leiden_1.0'], legend_loc='on data') ## this is default resolution"
   ]
  },
  {
   "cell_type": "code",
   "execution_count": null,
   "id": "d9c5195b-faf4-499e-a2ea-67b8bc053449",
   "metadata": {},
   "outputs": [],
   "source": [
    "total_peaks = np.asarray(np.sum(adata_mvi[:, adata_mvi.var.modality == 'Peaks'].X, axis=1)).reshape(-1)\n",
    "adata_mvi.obs['total_peak_count'] = total_peaks"
   ]
  },
  {
   "cell_type": "code",
   "execution_count": null,
   "id": "f29e18d8-6b03-40f4-9322-0374a7a5d5ae",
   "metadata": {},
   "outputs": [],
   "source": [
    "dtypes = adata_mvi.obs.dtypes\n",
    "non_string_cols = dtypes[dtypes == 'object'].index.tolist()\n",
    "adata_mvi.obs[non_string_cols] = adata_mvi.obs[non_string_cols].astype(str)"
   ]
  },
  {
   "cell_type": "code",
   "execution_count": null,
   "id": "77558111-754f-4344-987c-db7d2f14e451",
   "metadata": {},
   "outputs": [],
   "source": [
    "adata_mvi.write(\"multivi_AD_Sst_02.23.23.h5ad\")"
   ]
  },
  {
   "cell_type": "code",
   "execution_count": null,
   "id": "31b3403f-c7eb-4950-88ef-51cb9095bd24",
   "metadata": {},
   "outputs": [],
   "source": [
    "mvi.save(\"trained_multivi_AD_Sst_02.23.23\", save_anndata=True)"
   ]
  }
 ],
 "metadata": {
  "kernelspec": {
   "display_name": "Python 3 (ipykernel)",
   "language": "python",
   "name": "python3"
  },
  "language_info": {
   "codemirror_mode": {
    "name": "ipython",
    "version": 3
   },
   "file_extension": ".py",
   "mimetype": "text/x-python",
   "name": "python",
   "nbconvert_exporter": "python",
   "pygments_lexer": "ipython3",
   "version": "3.11.8"
  },
  "toc-autonumbering": false,
  "toc-showmarkdowntxt": true,
  "toc-showtags": false
 },
 "nbformat": 4,
 "nbformat_minor": 5
}
