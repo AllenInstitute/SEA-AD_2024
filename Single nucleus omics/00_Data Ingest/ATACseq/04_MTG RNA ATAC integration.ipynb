{
 "cells": [
  {
   "cell_type": "markdown",
   "id": "c6c5df28-4ab2-49ab-86fa-32f67fbd9a90",
   "metadata": {},
   "source": [
    "### Load required packages"
   ]
  },
  {
   "cell_type": "code",
   "execution_count": null,
   "id": "2c8d76d8-bf00-4a9a-8960-4019b5c758b1",
   "metadata": {},
   "outputs": [],
   "source": [
    "import os\n",
    "import warnings\n",
    "import scvi\n",
    "import anndata\n",
    "import scipy\n",
    "import numpy as np\n",
    "import pandas as pd\n",
    "import scanpy as sc\n",
    "import matplotlib.pyplot as plt\n",
    "from joblib import parallel_backend\n",
    "%matplotlib inline\n",
    "from helper_functions import *\n",
    "\n",
    "sc.settings.n_jobs = 32\n",
    "warnings.filterwarnings(\"ignore\")\n",
    "\n",
    "pwd = os.getcwd()"
   ]
  },
  {
   "cell_type": "markdown",
   "id": "201af4aa-368c-4cd9-ae04-4d2633803896",
   "metadata": {},
   "source": [
    "### Load and prepare data"
   ]
  },
  {
   "cell_type": "code",
   "execution_count": null,
   "id": "5a29070f-6520-4366-ba80-ef114375a027",
   "metadata": {
    "tags": []
   },
   "outputs": [],
   "source": [
    "adata_rna = sc.read_h5ad(os.path.join(\"input\", \"MTG_RNAseq\", \"final.2022-04-14.h5ad\")\n",
    "adata_rna.obs.groupby([\"studies\", \"method\"]).size()\n",
    "\n",
    "cohorts = [\"AD_Center_Grant, AD_Mult_Cohort\", \"AD_Center_Grant, AD_Mult_Cohort2\", \"AD_Center_Grant, AD_Mult_Cohort3\", \"AD_Mult_Cohort2, AD_Center_Grant\", \"AD_Mult_Cohort3, AD_Center_Grant\", \"AD_Mult_Cohort, AD_Center_Grant\"]\n",
    "adata_rna_sub = adata_rna[[i in cohorts for i in adata_rna.obs[\"studies\"]]].copy()\n",
    "\n",
    "adata_mult_rna = adata_rna_sub[[i in [\"10xMulti\"] for i in adata_rna_sub.obs[\"method\"]]].copy()\n",
    "\n",
    "adata_mult_rna.var[\"modality\"] = \"Gene Expression\""
   ]
  },
  {
   "cell_type": "code",
   "execution_count": null,
   "id": "27f41ec5-7a5f-4dab-a738-d9a80a0d8098",
   "metadata": {},
   "outputs": [],
   "source": [
    "library_prep_ar_id = adata_mult_rna.obs['library_prep'].astype(str) + \"-\" + adata_mult_rna.obs['ar_id'].astype(str)\n",
    "library_prep_ar_id = library_prep_ar_id.unique()\n",
    "\n",
    "base_path = \"/allen/programs/celltypes/workgroups/hct/SEA-AD/ATACseq/Human_AD_MTG_peakCounts/multiome_ATAC/\"\n",
    "mtx_ext = \".multiome.atac.tsv_grps13-6.merged_counts.mtx\"\n",
    "peak_ext = \".multiome.atac.tsv_grps13-6.merged_peaks.bed\"\n",
    "barcode_ext = \".multiome.atac.tsv_grps13-6.merged_barcodes.tsv\"\n",
    "adata_mult_atac_list = []\n",
    "\n",
    "for lib in library_prep_ar_id:\n",
    "    adata_atac = create_atac_anndata(base_path, lib, mtx_ext, peak_ext, barcode_ext)\n",
    "    adata_mult_atac_list.append(adata_atac)\n",
    "\n",
    "adata_mult_atac = anndata.concat(adata_mult_atac_list, merge = \"same\")\n"
   ]
  },
  {
   "cell_type": "code",
   "execution_count": null,
   "id": "3476f295-2aed-4846-a68a-2cffe5a1b202",
   "metadata": {},
   "outputs": [],
   "source": [
    "cells = np.intersect1d(adata_mult_rna.obs.index, adata_mult_atac.obs.index, assume_unique=True)\n",
    "\n",
    "adata_mult_atac = adata_mult_atac[cells, :].copy()\n",
    "adata_mult_rna = adata_mult_rna[cells, :].copy()\n",
    "\n",
    "adata_mult_rna = adata_mult_rna[adata_mult_rna.obs.index.argsort(), :].copy()\n",
    "adata_mult_atac = adata_mult_atac[adata_mult_atac.obs.index.argsort(), :].copy()\n",
    "\n",
    "adata_mult = anndata.concat([adata_mult_rna, adata_mult_atac], axis=1, join=\"inner\", merge=\"unique\")\n"
   ]
  },
  {
   "cell_type": "markdown",
   "id": "148c7947-1b3f-4e07-9507-525c69d9555e",
   "metadata": {},
   "source": [
    "### Prepare singleome ATAC anndata"
   ]
  },
  {
   "cell_type": "code",
   "execution_count": null,
   "id": "c8a5d83b-7f99-4917-afdb-6141ca1cf2e3",
   "metadata": {},
   "outputs": [],
   "source": [
    "base_path = \"/allen/programs/celltypes/workgroups/hct/SEA-AD/ATACseq/Human_AD_MTG_peakCounts/singleome_ATAC/\"\n",
    "mtx_ext = \".tsv_grps13-6.merged_counts.mtx\"\n",
    "peak_ext = \".tsv_grps13-6.merged_peaks.bed\"\n",
    "barcode_ext = \".tsv_grps13-6.merged_barcodes.tsv\"\n",
    "adata_atac_list = []\n",
    "\n",
    "file_names = [fn for fn in os.listdir(base_path) if fn.endswith(mtx_ext)]\n",
    "print(file_names[:3])\n",
    "print(\"there are \" + str(len(file_names)) + \" libraries in this folder\")\n",
    "library_prep_ar_id = [lib.split(mtx_ext)[0] for lib in file_names]\n",
    "\n",
    "for lib in library_prep_ar_id:\n",
    "    adata_atac = create_atac_anndata(base_path, lib, mtx_ext, peak_ext, barcode_ext)\n",
    "    adata_atac_list.append(adata_atac)\n",
    "\n",
    "adata_atac_only = anndata.concat(adata_atac_list, merge = \"same\")\n"
   ]
  },
  {
   "cell_type": "markdown",
   "id": "73796acd-6d0a-464b-81bc-0ee3aa0bce90",
   "metadata": {},
   "source": [
    "### Prepare MVI datasets and run MultiVI"
   ]
  },
  {
   "cell_type": "code",
   "execution_count": null,
   "id": "696f7b51-e580-4124-a9ce-ea15dde50bcd",
   "metadata": {
    "tags": []
   },
   "outputs": [],
   "source": [
    "atac_only_anno = pd.read_csv(\"/allen/programs/celltypes/workgroups/rnaseqanalysis/ATAC-Seq/Arrow/ATAC_AD_Center_Grant_complete/ATAC_AD_Center_Grant_complete.csv\")\n",
    "atac_only_anno = atac_only_anno.loc[:, ['age', 'sex', 'medical_conditions', 'donor_name', 'method', 'library_prep']]\n",
    "atac_only_anno['sex'] = np.where(atac_only_anno['sex'] == 'M', 'Male', 'Female')\n",
    "atac_only_anno['sex'] = atac_only_anno['sex'].astype('category')\n",
    "\n",
    "df = adata_atac_only.obs\n",
    "df.reset_index(inplace=True)\n",
    "df_new = pd.merge(df, atac_only_anno, how='left', on='library_prep')\n",
    "adata_atac_only.obs = df_new\n",
    "adata_atac_only.obs.set_index(\"barcode\", inplace=True)\n",
    "\n",
    "min_cells = int(adata_atac_only.shape[0] * 0.01)\n",
    "sc.pp.filter_genes(adata_atac_only, min_cells=min_cells)\n",
    "\n",
    "peaks = adata_atac_only.var_names\n",
    "\n",
    "adata_rna_only = anndata.read_h5ad(filename=\"AD_cohort2_RNA_only_anndata.h5ad\")\n",
    "min_cells = int(adata_rna_only.shape[0] * 0.01)\n",
    "sc.pp.filter_genes(adata_rna_only, min_cells=min_cells)\n",
    "genes = adata_rna_only.var_names\n",
    "features = genes.union(peaks)\n",
    "adata_mult = adata_mult[:, features].copy()\n",
    "\n",
    "adata_mvi = scvi.data.organize_multiome_anndatas(adata_mult, adata_rna_only, adata_atac_only)\n",
    "\n",
    "adata_mvi = adata_mvi[:, adata_mvi.var[\"modality\"].argsort()].copy()\n",
    "sc.pp.filter_cells(adata_mvi, min_genes=1000)\n",
    "adata_mvi.write(filename='multivi_AD_3cohorts_RNA_ATAC_Multiome_v1.2_anndata.h5ad')"
   ]
  },
  {
   "cell_type": "markdown",
   "id": "56826dd9-02e3-408f-b381-9ee5cd84cf16",
   "metadata": {},
   "source": [
    "### Run MultiVI"
   ]
  },
  {
   "cell_type": "code",
   "execution_count": null,
   "id": "c0869062-d50d-4bed-ad3b-031bca91e1d5",
   "metadata": {
    "tags": []
   },
   "outputs": [],
   "source": [
    "scvi.model.MULTIVI.setup_anndata(adata_mvi, batch_key='modality', categorical_covariate_keys=[\"donor_name\", \"sex\"])\n",
    "\n",
    "mvi = scvi.model.MULTIVI(\n",
    "    adata_mvi,\n",
    "    n_genes=(adata_mvi.var['modality']=='Gene Expression').sum(),\n",
    "    n_regions=(adata_mvi.var['modality']=='Peaks').sum(),\n",
    ")\n",
    "\n",
    "mvi.train()\n",
    "mvi.save(\"trained_multivi_AD_3cohorts_RNA_ATAC_Multiome_v1.2\", save_anndata=True)"
   ]
  },
  {
   "cell_type": "markdown",
   "id": "1b0a070d-5c32-4e3f-b1fc-b8fe96fbfd56",
   "metadata": {},
   "source": [
    "### Reload trained data and construct latent space"
   ]
  },
  {
   "cell_type": "code",
   "execution_count": null,
   "id": "21a1b4ea-a970-402c-b4f3-b80fe540c7d3",
   "metadata": {},
   "outputs": [],
   "source": [
    "adata_mvi = anndata.read_h5ad(filename='multivi_AD_3cohorts_RNA_ATAC_Multiome_v1.2_anndata.h5ad')\n",
    "mvi = scvi.model.MULTIVI.load(\"trained_multivi_AD_3cohorts_RNA_ATAC_Multiome_v1.2\", adata=adata_mvi)\n",
    "\n",
    "cds1 = mvi.get_latent_representation(adata_mvi[0:100000])\n",
    "left = 0\n",
    "step = 100000\n",
    "cds_ls = []\n",
    "while left < adata_mvi.shape[0]:\n",
    "    right = min(left + step, adata_mvi.shape[0])\n",
    "    print(left, right)\n",
    "    cds_ls.append(mvi.get_latent_representation(adata_mvi[left:right]))\n",
    "    left += step\n",
    "    \n",
    "adata_mvi.obsm[\"X_MultiVI\"] = np.concatenate(tuple(cds_ls), axis=0)\n",
    "sc.pp.neighbors(adata_mvi, use_rep=\"X_MultiVI\")\n",
    "\n",
    "sc.settings.n_jobs=32\n",
    "with parallel_backend('threading', n_jobs=32):\n",
    "    sc.tl.umap(adata_mvi, min_dist=0.2)\n",
    "\n",
    "adata_mvi.write(\"multivi_AD_3cohorts_RNA_ATAC_Multiome_v1.2_trained.h5ad\")"
   ]
  }
 ],
 "metadata": {
  "kernelspec": {
   "display_name": "Python 3 (ipykernel)",
   "language": "python",
   "name": "python3"
  },
  "language_info": {
   "codemirror_mode": {
    "name": "ipython",
    "version": 3
   },
   "file_extension": ".py",
   "mimetype": "text/x-python",
   "name": "python",
   "nbconvert_exporter": "python",
   "pygments_lexer": "ipython3",
   "version": "3.11.8"
  },
  "toc-autonumbering": false,
  "toc-showmarkdowntxt": true,
  "toc-showtags": false
 },
 "nbformat": 4,
 "nbformat_minor": 5
}
