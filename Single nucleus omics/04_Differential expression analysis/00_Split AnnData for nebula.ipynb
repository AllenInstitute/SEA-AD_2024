{
 "cells": [
  {
   "cell_type": "markdown",
   "id": "1d58bc23-ddde-4183-9dd0-eda855b13817",
   "metadata": {},
   "source": [
    "### Load needed libraries"
   ]
  },
  {
   "cell_type": "code",
   "execution_count": null,
   "id": "026461e8-a3c7-402b-bf02-e1471432f27d",
   "metadata": {
    "tags": []
   },
   "outputs": [],
   "source": [
    "import os\n",
    "import scanpy as sc\n",
    "import pandas as pd\n",
    "import numpy as np\n",
    "import warnings\n",
    "from datetime import datetime\n",
    "\n",
    "sc.settings.n_jobs = 32\n",
    "warnings.filterwarnings(\"ignore\")\n",
    "\n",
    "pwd = os.getcwd()"
   ]
  },
  {
   "cell_type": "markdown",
   "id": "b848a211-2ba7-4f1f-b848-906c0e889a44",
   "metadata": {
    "tags": []
   },
   "source": [
    "### Load the MTG dataset"
   ]
  },
  {
   "cell_type": "code",
   "execution_count": null,
   "id": "d6b232b9-c2df-4ff5-b0fc-fa16be96a72b",
   "metadata": {},
   "outputs": [],
   "source": [
    "region = \"MTG\"\n",
    "dataset = \"RNAseq\"\n",
    "date = \"2024-02-13\"\n",
    "adata = sc.read_h5ad(os.path.join(pwd, \"input\", \"SEAAD_\" + region + \"_\" + dataset + \"_final-nuclei.\" + date +\".h5ad\"))\n",
    "\n",
    "# Subset on the SEA-AD cells not severely affected donors\n",
    "adata = adata[(adata.obs[\"Neurotypical reference\"] == \"False\") & (adata.obs[\"Severely Affected Donor\"] == \"N\")].copy()\n",
    "\n",
    "# Move UMIs back to X and delete layers to reduce memory demands\n",
    "adata.X = adata.layers[\"UMIs\"].copy()\n",
    "del adata.layers[\"UMIs\"]\n",
    "\n",
    "# Format and scale metadata for the differential expression test\n",
    "adata.obs[\"Continuous_Pseudo-progression_Score\"] = adata.obs[\"Continuous Pseudo-progression Score\"].copy()\n",
    "\n",
    "adata.obs[\"Age at Death\"] = adata.obs[\"Age at Death\"].astype(\"object\")\n",
    "adata.obs[\"Age at Death\"] = [np.float32(i) for i in adata.obs[\"Age at Death\"]]\n",
    "adata.obs[\"Age_at_Death_binned\"] = pd.cut(adata.obs[\"Age at Death\"], bins=5)\n",
    "adata.obs[\"Age_at_Death_binned_codes\"] = adata.obs[\"Age_at_Death_binned\"].cat.codes\n",
    "adata.obs[\"Age_at_Death_binned_codes\"] = adata.obs[\"Age_at_Death_binned_codes\"] /  adata.obs[\"Age_at_Death_binned_codes\"].max()\n",
    "\n",
    "adata.obs[\"Sex\"] = adata.obs[\"Sex\"].astype(\"category\")\n",
    "adata.obs[\"Sex\"] = adata.obs[\"Sex\"].cat.remove_unusued_categories()\n",
    "adata.obs[\"Sex\"] = adata.obs[\"Sex\"].cat.reorder_categories([\"F\", \"M\"])\n",
    "\n",
    "adata.obs[\"Race_choice_White\"] = adata.obs[\"Race (choice=White)\"].astype(\"category\")\n",
    "adata.obs[\"Race_choice_White\"] = adata.obs[\"Race_choice_White\"].cat.remove_unusued_categories()\n",
    "adata.obs[\"Race_choice_White\"] = adata.obs[\"Race_choice_White\"].cat.reorder_categories([\"Unchecked\", \"Checked\"])\n",
    "\n",
    "adata.obs[\"method\"] = adata.obs[\"method\"].cat.remove_unusued_categories()\n",
    "\n",
    "adata.obs[\"Genes_detected\"] = (adata.obs[\"Genes detected\"] - adata.obs[\"Genes detected\"].min()) /  (adata.obs[\"Genes detected\"].max() - adata.obs[\"Genes detected\"].min())\n",
    "\n",
    "adata.obs[\"Donor_ID\"] = adata.obs[\"Donor ID\"].copy()\n",
    "\n",
    "adata.obs[\"Number_of_UMIs\"] = adata.obs[\"Number of UMIs\"].copy()\n",
    "\n",
    "adata.obs[\"PMI\"] = (adata.obs[\"PMI\"] - adata.obs[\"PMI\"].min()) /  (adata.obs[\"PMI\"].max() - adata.obs[\"PMI\"].min())\n",
    "\n",
    "adata.obs[\"APOE4_Status\"] = adata.obs.obs[\"APOE Genotype\"].str.contains(\"4\")\n",
    "adata.obs[\"APOE4_Status\"] = adata.obs[\"APOE4 Status\"].astype(\"category\")\n",
    "adata.obs[\"APOE4_Status\"] = adata.obs[\"APOE4_Status\"].cat.reorder_categories([False, True])\n",
    "adata.obs[\"APOE4_Status\"] = adata.obs[\"APOE4_Status\"].cat.rename_categories(\n",
    "    {\n",
    "        False: \"N\",\n",
    "        True: \"Y\",\n",
    "    }\n",
    ")"
   ]
  },
  {
   "cell_type": "markdown",
   "id": "86fa60b0-56b3-4451-9717-d03d230d2dda",
   "metadata": {},
   "source": [
    "### Prepare dataset splits to distribute differential expression testing"
   ]
  },
  {
   "cell_type": "code",
   "execution_count": null,
   "id": "70a2c212-4972-4ba0-9e9b-3040b6acd2b8",
   "metadata": {
    "scrolled": true,
    "tags": []
   },
   "outputs": [],
   "source": [
    "# These objects were also symlinked to MTG_No_Genes_detected, MTG_PMI, and MTG_APOE4_Status\n",
    "region = \"MTG\"  \n",
    "for i in adata.obs[\"Subclass\"].cat.categories:\n",
    "    adata[\n",
    "        (adata.obs[\"Subclass\"] == i)\n",
    "    ].write(os.path.join(pwd, \"tmp\", region, i.replace(\"/\", \" \") + \".h5ad\"))\n",
    "    \n",
    "# Objects used for early tests\n",
    "region = \"MTG_early\"      \n",
    "for i in adata.obs[\"Subclass\"].cat.categories:\n",
    "    adata[\n",
    "        (adata.obs[\"Subclass\"] == i) &\n",
    "        (adata.obs[\"Continuous_Pseudo-progression_Score\"] <= 0.55)\n",
    "        \n",
    "    ].write(os.path.join(pwd, \"tmp\", region, i.replace(\"/\", \" \") + \".h5ad\"))\n",
    "    \n",
    "# Objects used for late tests\n",
    "region = \"MTG_late\"      \n",
    "for i in adata.obs[\"Subclass\"].cat.categories:\n",
    "    adata[\n",
    "        (adata.obs[\"Subclass\"] == i) &\n",
    "        (adata.obs[\"Continuous_Pseudo-progression_Score\"] > 0.45)\n",
    "    ].write(os.path.join(pwd, \"tmp\", region, i.replace(\"/\", \" \") + \".h5ad\"))"
   ]
  }
 ],
 "metadata": {
  "kernelspec": {
   "display_name": "Python 3 (ipykernel)",
   "language": "python",
   "name": "python3"
  },
  "language_info": {
   "codemirror_mode": {
    "name": "ipython",
    "version": 3
   },
   "file_extension": ".py",
   "mimetype": "text/x-python",
   "name": "python",
   "nbconvert_exporter": "python",
   "pygments_lexer": "ipython3",
   "version": "3.11.8"
  }
 },
 "nbformat": 4,
 "nbformat_minor": 5
}
