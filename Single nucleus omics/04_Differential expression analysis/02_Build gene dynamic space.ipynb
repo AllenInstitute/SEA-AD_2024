{
 "cells": [
  {
   "cell_type": "markdown",
   "id": "8faa3326-11f2-4653-a10c-0e4b3c03c858",
   "metadata": {},
   "source": [
    "### Load needed libraries"
   ]
  },
  {
   "cell_type": "code",
   "execution_count": null,
   "id": "2ae53491-6383-4514-ab79-688ba2ae8450",
   "metadata": {
    "tags": []
   },
   "outputs": [],
   "source": [
    "import os\n",
    "import scanpy as sc\n",
    "import pandas as pd\n",
    "import numpy as np\n",
    "import copy\n",
    "import re\n",
    "import anndata as ad\n",
    "from joblib import parallel_backend\n",
    "import warnings\n",
    "from datetime import datetime\n",
    "from helper_functions import *\n",
    "\n",
    "sc.settings.n_jobs = 32\n",
    "warnings.filterwarnings(\"ignore\")\n",
    "\n",
    "pwd = os.getcwd()"
   ]
  },
  {
   "cell_type": "markdown",
   "id": "5a19b302-3703-4826-900c-eb0b4eace889",
   "metadata": {},
   "source": [
    "### Load needed datasets"
   ]
  },
  {
   "cell_type": "code",
   "execution_count": null,
   "id": "f5ef8a45-65f0-495e-90fa-fe9d8d652cc1",
   "metadata": {
    "tags": []
   },
   "outputs": [],
   "source": [
    "# Load the AnnData file \n",
    "region = \"MTG\"\n",
    "dataset = \"RNAseq\"\n",
    "date = \"2024-02-13\"\n",
    "adata = sc.read_h5ad(os.path.join(pwd, \"input\", \"SEAAD_\" + region + \"_\" + dataset + \"_final-nuclei.\" + date +\".h5ad\"))\n",
    "\n",
    "# Subset on the SEA-AD cells not severely affected donors\n",
    "adata = adata[(adata.obs[\"Neurotypical reference\"] == \"False\") & (adata.obs[\"Severely Affected Donor\"] == \"N\")].copy()"
   ]
  },
  {
   "cell_type": "code",
   "execution_count": null,
   "id": "d46f904f-b929-4967-b084-cc4fa3c13efc",
   "metadata": {
    "scrolled": true
   },
   "outputs": [],
   "source": [
    "blacklisted_genes = [\"MTRNR2L12\", \"TTTY14\", \"USP9Y\", \"NLGN4Y\", \"UTY\", \"DDX3Y\", \"KDM5D\", \"TTTY10\"]\n",
    "blacklisted_genes.extend(adata.var_names[adata.var_names.str.startswith(\"MT-\")].to_list())\n",
    "\n",
    "effect_sizes, pvalues, std_errors  = build_effect_size_anndata(\n",
    "    results_dir=os.path.join(pwd, \"output\", \"MTG\", \"Continuous_Pseudo-progression_Score\"),\n",
    "    glob_pattern=\"*.csv\",\n",
    "    file_pattern=\"_across_Continuous_Pseudo-progression_Score_DE.csv\",\n",
    "    test=\"Continuous_Pseudo-progression_Score\",\n",
    "    adata=adata,\n",
    "    subclass=\"Subclass\",\n",
    "    celltype=\"Supertype\",\n",
    "    blacklisted_genes=blacklisted_genes,\n",
    ")\n",
    "\n",
    "effect_sizes_early, pvalues_early, std_errors_early = build_effect_size_anndata(\n",
    "    results_dir=os.path.join(pwd, \"output\", \"MTG_early\", \"Continuous_Pseudo-progression_Score\"),\n",
    "    glob_pattern=\"*.csv\",\n",
    "    file_pattern=\"_across_Continuous_Pseudo-progression_Score_DE.csv\",\n",
    "    test=\"Continuous_Pseudo-progression_Score\",\n",
    "    adata=adata,\n",
    "    subclass=\"Subclass\",\n",
    "    celltype=\"Supertype\",\n",
    "    blacklisted_genes=blacklisted_genes,\n",
    ")\n",
    "\n",
    "effect_sizes_late, pvalues_late, std_errors_late = build_effect_size_anndata(\n",
    "    results_dir=os.path.join(pwd, \"output\", \"MTG_late\", \"Continuous_Pseudo-progression_Score\"),\n",
    "    glob_pattern=\"*.csv\",\n",
    "    file_pattern=\"_across_Continuous_Pseudo-progression_Score_DE.csv\",\n",
    "    test=\"Continuous_Pseudo-progression_Score\",\n",
    "    adata=adata,\n",
    "    subclass=\"Subclass\",\n",
    "    celltype=\"Supertype\",\n",
    "    blacklisted_genes=blacklisted_genes,\n",
    ")\n",
    "\n",
    "effect_sizes_vs_all, pvalues_vs_all, std_errors_late = build_effect_size_anndata(\n",
    "    results_dir=os.path.join(pwd, \"output\", \"MTG\", \"versus_all\"),\n",
    "    glob_pattern=\"*.csv\",\n",
    "    file_pattern=\"_versus_all_DE.csv\",\n",
    "    test=\"comparison1\",\n",
    "    adata=adata,\n",
    "    subclass=\"Subclass\",\n",
    "    celltype=\"Supertype\",\n",
    "    blacklisted_genes=blacklisted_genes,\n",
    ")"
   ]
  },
  {
   "cell_type": "markdown",
   "id": "2b79eb47-2bf8-4dc2-9b9d-c5ed464d4bcf",
   "metadata": {},
   "source": [
    "### Build mean expression and fraction expressed tables"
   ]
  },
  {
   "cell_type": "code",
   "execution_count": null,
   "id": "16c2fd30-84bc-42bb-9f87-97aaa9f1f76e",
   "metadata": {
    "scrolled": true
   },
   "outputs": [],
   "source": [
    "prefix = \"Supertype_\"\n",
    "\n",
    "for j in adata.obs[\"Supertype\"].cat.categories:\n",
    "    print(str(datetime.now()) + \" -- \" + str(j))\n",
    "    adata.var[prefix + \"mean_expression_\" + str(j)] = adata[adata.obs[\"Supertype\"] == j].X.mean(axis=0).T\n",
    "    adata.var[prefix + \"fraction_expressed_\" + str(j)] = (np.sum(adata[adata.obs[\"Supertype\"] == j].X > 0, axis=0) / adata[adata.obs[\"Supertype\"] == j].shape[0]).T"
   ]
  },
  {
   "cell_type": "code",
   "execution_count": null,
   "id": "90719a6b-bd86-4de1-bd47-e3aecdbe503c",
   "metadata": {},
   "outputs": [],
   "source": [
    "mean_expression = ad.AnnData(X=adata.var.loc[:, adata.var.columns.str.startswith(prefix + \"mean_expression_\")])\n",
    "mean_expression.var_names = [i.replace(prefix + \"mean_expression_\", \"\") for i in mean_expression.var_names]\n",
    "mean_expression.var = effect_sizes.var.copy()\n",
    "mean_expression = mean_expression[effect_sizes.obs_names, :].copy()\n",
    "\n",
    "fraction_expressed = ad.AnnData(X=adata.var.loc[:, adata.var.columns.str.startswith(prefix + \"fraction_expressed_\")])\n",
    "fraction_expressed.var_names = [i.replace(prefix + \"fraction_expressed_\", \"\") for i in fraction_expressed.var_names]\n",
    "fraction_expressed.var = effect_sizes.var.copy()\n",
    "fraction_expressed = fraction_expressed[effect_sizes.obs_names, :].copy()"
   ]
  },
  {
   "cell_type": "markdown",
   "id": "a0633495-82cb-4e42-9281-d2f430b791b3",
   "metadata": {},
   "source": [
    "### Build effect size table"
   ]
  },
  {
   "cell_type": "code",
   "execution_count": null,
   "id": "733e1dc2-70d9-421c-a9b6-6e417a5bb575",
   "metadata": {
    "scrolled": true
   },
   "outputs": [],
   "source": [
    "supertypes = effect_sizes.var[\"Supertype\"]\n",
    "subclasses = effect_sizes.var[\"Subclass\"]\n",
    "classes = effect_sizes.var[\"Class\"]\n",
    "genes = effect_sizes.obs_names\n",
    "\n",
    "\n",
    "effect_size_table = pd.DataFrame(index=range((len(supertypes) + len(np.unique(subclasses)) + len(np.unique(classes))) * len(genes)), columns=[\"Gene\", \"Taxonomy Level\", \"Population\", \"Effect size across all of pseudoprogression\", \"Effect size across early pseudoprogression\", \"Effect size across late pseudoprogression\", \"Mean expression (natural log UMIs per 10k plus 1)\"])\n",
    "\n",
    "for i,j in enumerate(supertypes):\n",
    "    for k,l in enumerate(genes):\n",
    "        z = (i * len(genes)) + k\n",
    "        effect_size_table.loc[z, :] = [l, \"Supertype\", j, np.round(float(effect_sizes[l, j].X), 2), np.round(float(effect_sizes_early[l, j].X), 2), np.round(float(effect_sizes_late[l, j].X), 2), np.round(float(mean_expression[l, j].X),2)]\n",
    "        if z % 1000000 == 0:\n",
    "            print(datetime.now())\n",
    "            print(effect_size_table.iloc[z, :])\n",
    "          \n",
    "for i,j in enumerate(np.unique(subclasses)):\n",
    "    for k,l in enumerate(genes):\n",
    "        z = (len(genes) * len(supertypes)) + (i * len(genes)) + k\n",
    "        effect_size_table.loc[z, :] = [l, \"Subclass\", j, np.round(float(effect_sizes[l, [m == j for m in subclasses]].X.mean()), 2), np.round(float(effect_sizes_early[l, [m == j for m in subclasses]].X.mean()), 2), np.round(float(effect_sizes_late[l, [m == j for m in subclasses]].X.mean()), 2), np.round(float(mean_expression[l, [m == j for m in subclasses]].X.mean()),2)]\n",
    "        if z % 100000 == 0:\n",
    "            print(datetime.now())\n",
    "            print(effect_size_table.iloc[z, :])\n",
    "            \n",
    "for i,j in enumerate(np.unique(classes)):\n",
    "    for k,l in enumerate(genes):\n",
    "        z = (len(genes) * len(np.unique(subclasses))) + (len(genes) * len(supertypes)) + (i * len(genes)) + k\n",
    "        effect_size_table.loc[z, :] = [l, \"Class\", j, np.round(float(effect_sizes[l, [m == j for m in classes]].X.mean()), 2), np.round(float(effect_sizes_early[l, [m == j for m in classes]].X.mean()), 2), np.round(float(effect_sizes_late[l, [m == j for m in classes]].X.mean()), 2), np.round(float(mean_expression[l, [m == j for m in classes]].X.mean()),2)]\n",
    "        if z % 10000 == 0:\n",
    "            print(datetime.now())\n",
    "            print(effect_size_table.iloc[z, :])\n",
    "\n"
   ]
  },
  {
   "cell_type": "code",
   "execution_count": null,
   "id": "8c8dd4ec-7af6-4736-8938-4059d2cc3a51",
   "metadata": {},
   "outputs": [],
   "source": [
    "effect_size_table.to_csv(os.path.join(\"output\", \"effect_size_table.csv\"))"
   ]
  },
  {
   "cell_type": "code",
   "execution_count": null,
   "id": "9b7e5929-de25-4b7d-9c80-1e375c60ec5a",
   "metadata": {},
   "outputs": [],
   "source": [
    "effect_sizes.write(os.path.join(pwd, \"output\", \"effect_sizes.h5ad\"))\n",
    "pvalues.write(os.path.join(pwd, \"output\", \"pvalues.h5ad\"))\n",
    "\n",
    "effect_sizes_early.write(os.path.join(pwd, \"output\", \"effect_sizes_early.h5ad\"))\n",
    "pvalues_early.write(os.path.join(pwd, \"output\", \"pvalues_early.h5ad\"))\n",
    "\n",
    "effect_sizes_late.write(os.path.join(pwd, \"output\", \"effect_sizes_late.h5ad\"))\n",
    "pvalues_late.write(os.path.join(pwd, \"output\", \"pvalues_late.h5ad\"))\n",
    "\n",
    "effect_sizes_vs_all.write(os.path.join(pwd, \"output\", \"effect_sizes_vs_all.h5ad\"))\n",
    "pvalues_vs_all.write(os.path.join(pwd, \"output\", \"pvalues_vs_all.h5ad\"))\n",
    "\n",
    "mean_expression.write(os.path.join(pwd, \"output\", \"mean_expression.h5ad\"))\n",
    "fraction_expressed.write(os.path.join(pwd, \"output\", \"fraction_expressed.h5ad\"))"
   ]
  },
  {
   "cell_type": "markdown",
   "id": "1b2c3f23-811e-4f46-9934-0335751f9c42",
   "metadata": {},
   "source": [
    "### Construct Neighborhood and Subclass aggregate metrics"
   ]
  },
  {
   "cell_type": "code",
   "execution_count": null,
   "id": "672106d7-b3e3-4309-b0be-b6b27f5741d3",
   "metadata": {},
   "outputs": [],
   "source": [
    "vectors = {\n",
    "    1: (np.array([i not in [\"Non-neuronal and non-neural\"] for i in effect_sizes.var[\"Class\"]])) & (np.array([i in [\"Neuronal: GABAergic\"] for i in effect_sizes.var[\"Class\"]])), # Inhibitory versus excitatory\n",
    "    2: (np.array([i not in [\"Non-neuronal and non-neural\"] for i in effect_sizes.var[\"Class\"]])) & (np.array([i in [\"Neuronal: Glutamatergic\"] for i in effect_sizes.var[\"Class\"]])), # Excitatory versus inhibitory\n",
    "    3: (np.array([i not in [\"Neuronal: GABAergic\", \"Neuronal: Glutamatergic\"] for i in effect_sizes.var[\"Class\"]])) & (np.array([i in [\"Astrocyte\", \"Oligodendrocyte\", \"OPC\"] for i in effect_sizes.var[\"Subclass\"]])),\n",
    "    4: (np.array([i not in [\"Neuronal: GABAergic\", \"Neuronal: Glutamatergic\"] for i in effect_sizes.var[\"Class\"]])) & (np.array([i in [\"Endothelial\", \"VLMC\", \"Microglia-PVM\"] for i in effect_sizes.var[\"Subclass\"]])),\n",
    "}\n",
    "\n",
    "for j in effect_sizes.var[\"Subclass\"].cat.categories:\n",
    "    next_index = np.max(list(vectors.keys())) + 1\n",
    "    vectors[next_index] = (effect_sizes.var[\"Subclass\"] == j).to_numpy()"
   ]
  },
  {
   "cell_type": "markdown",
   "id": "4fb99494-9718-4f77-9421-34ce82a6a8d1",
   "metadata": {},
   "source": [
    "### Construct the gene dynamic space"
   ]
  },
  {
   "cell_type": "code",
   "execution_count": null,
   "id": "a0776d2b-1412-4be2-a209-00336fcaf4d1",
   "metadata": {},
   "outputs": [],
   "source": [
    "prefix = \"Supertype_\"\n",
    "\n",
    "gene_dynamic_space = construct_gene_graph(\n",
    "    mean_expression=mean_expression,\n",
    "    fraction_expressed=fraction_expressed,\n",
    "    effect_sizes_early=effect_sizes_early,\n",
    "    effect_sizes_late=effect_sizes_late,\n",
    "    prefix=prefix,\n",
    "    aggregate_metrics=True,\n",
    "    vectors=vectors\n",
    ")"
   ]
  },
  {
   "cell_type": "code",
   "execution_count": null,
   "id": "e12e4385-23c4-4119-9fa0-12f1e25bd306",
   "metadata": {},
   "outputs": [],
   "source": [
    "gene_dynamic_space.write(os.path.join(pwd, \"output\", \"gene_dynamic_space.h5ad\"))"
   ]
  }
 ],
 "metadata": {
  "kernelspec": {
   "display_name": "Python 3 (ipykernel)",
   "language": "python",
   "name": "python3"
  },
  "language_info": {
   "codemirror_mode": {
    "name": "ipython",
    "version": 3
   },
   "file_extension": ".py",
   "mimetype": "text/x-python",
   "name": "python",
   "nbconvert_exporter": "python",
   "pygments_lexer": "ipython3",
   "version": "3.11.8"
  }
 },
 "nbformat": 4,
 "nbformat_minor": 5
}
