{
 "cells": [
  {
   "cell_type": "markdown",
   "id": "353f0fa7-8f47-4af6-86f2-577492a2d287",
   "metadata": {},
   "source": [
    "### Load needed libraries"
   ]
  },
  {
   "cell_type": "code",
   "execution_count": null,
   "id": "5f6cf279-ea96-4e05-a342-7505d64574a6",
   "metadata": {},
   "outputs": [],
   "source": [
    "import os\n",
    "import glob\n",
    "import re\n",
    "import pandas as pd\n",
    "import warnings\n",
    "\n",
    "warnings.filterwarnings(\"ignore\")\n",
    "pwd = os.getcwd()"
   ]
  },
  {
   "cell_type": "markdown",
   "id": "81010b71-f4c5-4bae-8e60-c7501b47faaf",
   "metadata": {},
   "source": [
    "### Find nebula result files"
   ]
  },
  {
   "cell_type": "code",
   "execution_count": null,
   "id": "ec5c7ac7-cb01-42d8-8a7a-52637cadb686",
   "metadata": {},
   "outputs": [],
   "source": [
    "# Find all of the nebula results\n",
    "datasets = sorted(glob.glob(os.path.join(pwd, \"output\", \"MTG*\", \"*\", \"*.csv\")))"
   ]
  },
  {
   "cell_type": "markdown",
   "id": "60ba5a71-5990-4d8d-85cb-cce401e348a7",
   "metadata": {},
   "source": [
    "### Stich them together into Supplementary Table 5"
   ]
  },
  {
   "cell_type": "code",
   "execution_count": null,
   "id": "f826a6d8-4723-4543-b426-ef067a873c76",
   "metadata": {
    "scrolled": true
   },
   "outputs": [],
   "source": [
    "with pd.ExcelWriter(os.path.join(pwd, \"output\", \"Supplementary Table 5.xlsx\")) as writer:\n",
    "    for i in datasets:\n",
    "        print(i)\n",
    "        dataset = pd.read_csv(i, index_col=0)\n",
    "\n",
    "        region = i.split(\"/\")[-3]\n",
    "        region = region.replace(\"MTG_\", \"\")\n",
    "        if region == \"\":\n",
    "            region = \"all\"\n",
    "        \n",
    "        test = i.split(\"/\")[-2]\n",
    "\n",
    "        test = test.replace(\"Continuous_Pseudo-progression_Score\", \"CPS\").replace(\"versus_all\", \"vs_all\")\n",
    "        \n",
    "        population = i.split(\"/\")[-1]\n",
    "        population = population.replace(\"Lamp5_Lhx6\", \"Lamp5 Lhx6\")\n",
    "        populaiton = \"_\".join(population.split(\"_\")[1:3])\n",
    "        \n",
    "        dataset.to_excel(writer, sheet_name=region + \" \" + population + \" \" + test)"
   ]
  }
 ],
 "metadata": {
  "kernelspec": {
   "display_name": "Python 3 (ipykernel)",
   "language": "python",
   "name": "python3"
  },
  "language_info": {
   "codemirror_mode": {
    "name": "ipython",
    "version": 3
   },
   "file_extension": ".py",
   "mimetype": "text/x-python",
   "name": "python",
   "nbconvert_exporter": "python",
   "pygments_lexer": "ipython3",
   "version": "3.11.8"
  }
 },
 "nbformat": 4,
 "nbformat_minor": 5
}
