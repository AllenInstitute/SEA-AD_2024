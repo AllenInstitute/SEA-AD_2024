{
 "cells": [
  {
   "cell_type": "markdown",
   "id": "2714e74c-4b4b-4e03-a02e-c83a8457458b",
   "metadata": {},
   "source": [
    "### Load needed libraries"
   ]
  },
  {
   "cell_type": "code",
   "execution_count": null,
   "id": "b0438ca8-c428-4d4d-b193-ec7b1f6222e3",
   "metadata": {},
   "outputs": [],
   "source": [
    "import os\n",
    "import glob\n",
    "import pandas as pd\n",
    "import warnings\n",
    "\n",
    "warnings.filterwarnings(\"ignore\")\n",
    "pwd = os.getcwd()"
   ]
  },
  {
   "cell_type": "markdown",
   "id": "324a47e2-2ad0-4462-8882-a507d7cc9d5b",
   "metadata": {},
   "source": [
    "### Find scCODA result files"
   ]
  },
  {
   "cell_type": "code",
   "execution_count": null,
   "id": "619186d7-bcb8-4758-97a4-83df5216e012",
   "metadata": {},
   "outputs": [],
   "source": [
    "# Find all of the scCODA results\n",
    "datasets = sorted(glob.glob(os.path.join(pwd, \"output\", \"*\", \"*\", \"*.csv\")))"
   ]
  },
  {
   "cell_type": "markdown",
   "id": "0759e77a-783d-4828-a411-9f32987a6f07",
   "metadata": {},
   "source": [
    "### Stich them together into Supplementary Table 5"
   ]
  },
  {
   "cell_type": "code",
   "execution_count": null,
   "id": "6118b7bd-1694-413f-ad2d-211330bb30e6",
   "metadata": {
    "scrolled": true
   },
   "outputs": [],
   "source": [
    "with pd.ExcelWriter(os.path.join(pwd, \"output\", \"Supplementary Table 4.xlsx\")) as writer:\n",
    "    for i in datasets:\n",
    "        print(i)\n",
    "        dataset = pd.read_csv(i, index_col=0)\n",
    "\n",
    "        region = i.split(\"/\")[-3]\n",
    "        \n",
    "        test = i.split(\"/\")[-2]\n",
    "        test = test.replace(\"Continuous_Pseudo-progression_Score\", \"CPS\").replace(\"Cognitive Status\", \"CS\").replace(\"Overall_AD_neuropathological_Change_codes\", \"ADNC\")\n",
    "        \n",
    "        population = i.split(\"/\")[-1].split(\"_\")[0]\n",
    "        population = population.replace(\"Non-neuronal and Non-neural\", \"NN\").replace(\"Neuronal: Glutamatergic Neuronal: GABAergic\", \"Neu\")\n",
    "        \n",
    "        dataset.to_excel(writer, sheet_name=region + \" \" + population + \" \" + test)"
   ]
  }
 ],
 "metadata": {
  "kernelspec": {
   "display_name": "Python 3 (ipykernel)",
   "language": "python",
   "name": "python3"
  },
  "language_info": {
   "codemirror_mode": {
    "name": "ipython",
    "version": 3
   },
   "file_extension": ".py",
   "mimetype": "text/x-python",
   "name": "python",
   "nbconvert_exporter": "python",
   "pygments_lexer": "ipython3",
   "version": "3.11.8"
  }
 },
 "nbformat": 4,
 "nbformat_minor": 5
}
