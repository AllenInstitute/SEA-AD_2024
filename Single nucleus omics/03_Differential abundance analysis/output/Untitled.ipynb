{
 "cells": [
  {
   "cell_type": "code",
   "execution_count": 3,
   "id": "20172dd8-a18d-42e4-b8e5-791e8ba5ee9a",
   "metadata": {},
   "outputs": [],
   "source": [
    "import os\n",
    "import glob\n",
    "import pandas as pd\n",
    "import numpy as np\n",
    "import scanpy as sc"
   ]
  },
  {
   "cell_type": "code",
   "execution_count": 6,
   "id": "52309ed6-9511-4fed-bb9a-a4fe1063616d",
   "metadata": {},
   "outputs": [],
   "source": [
    "def quickfix(result_dir):\n",
    "    covariates_to_fix = {\n",
    "        \"age_at_death_binned_codes\": \"Age_at_Death_binned_codes\",\n",
    "        \"sex\": \"Sex\",\n",
    "        \"[T.M]\": \"[T.Male]\",\n",
    "        \"ch_race___1\": \"Race_choice_White\",\n",
    "        \"apoe4_status\": \"APOE4_Status\",\n",
    "        \"ch_cognitivestatus_binary\": \"Cognitive_Status\",\n",
    "        \"adneurochange_codes\": \"Overall_AD_neuropathological_Change_codes\",\n",
    "        \"donor_pseudotime\": \"Continuous_Pseudo-progression_Score\",\n",
    "        \"pmi_scaled\": \"PMI\",        \n",
    "    }\n",
    "    celltypes_to_fix = {\n",
    "        \"Astro_Unknown_25\": \"Astro_6-SEAAD\",\n",
    "        \"Oligo_Unknown_15\": \"Oligo_2_1-SEAAD\",\n",
    "        \"OPC_Unknown_25\": \"OPC_2_2-SEAAD\",\n",
    "        \"OPC_Unknown_18\": \"OPC_2_1-SEAAD\",\n",
    "        \"VLMC_Unknown_24\": \"SMC-SEAAD\",\n",
    "        \"VLMC_Unknown_32\": \"Pericyte_2-SEAAD\",\n",
    "        \"Micro-PVM_Unknown_0\": \"Micro-PVM_3-SEAAD\",\n",
    "        \"Micro-PVM_Unknown_9\": \"Micro-PVM_2_3-SEAAD\",\n",
    "        \"Micro-PVM_Unknown_10\": \"Micro-PVM_4-SEAAD\",\n",
    "        \"Micro-PVM_Unknown_116\": \"Micro-PVM_2_1-SEAAD\",\n",
    "        \"Micro-PVM_Unknown_135\": \"Monocyte\",\n",
    "        \"Micro-PVM_Unknown_200\": \"Lymphocyte\",\n",
    "        \"VLMC_2\": \"Pericyte_1\",\n",
    "        \"VLMC_2_1-SEAAD\": \"SMC-SEAAD\",\n",
    "        \"VLMC_2_2-SEAAD\": \"Pericyte_2-SEAAD\",\n",
    "        \"Micro-PVM_2_2-SEAAD\": \"Lymphocyte\",\n",
    "        \"Micro-PVM_1_1-SEAAD\": \"Monocyte\"\n",
    "    }\n",
    "    \n",
    "    CSVs = glob.glob(os.path.join(result_dir, \"*/*.csv\"))\n",
    "    print(CSVs)\n",
    "    h5ads = glob.glob(os.path.join(result_dir, \"*/*.h5ad\"))\n",
    "    print(h5ads)\n",
    "\n",
    "    for i in CSVs:\n",
    "        CSV = pd.read_csv(i, index_col=0)\n",
    "        CSV = CSV.loc[:, [\"Covariate\", \"Reference Cell Type\", \"Cell Type\", \"Final Parameter\", \"SD\", \"Inclusion probability\"]].copy()\n",
    "        \n",
    "        for j,k in covariates_to_fix.items():\n",
    "            CSV[\"Covariate\"] = CSV[\"Covariate\"].str.replace(j,k)\n",
    "        \n",
    "        for j,k in celltypes_to_fix.items():\n",
    "            CSV[\"Cell Type\"] = CSV[\"Cell Type\"].str.replace(j,k)\n",
    "            CSV[\"Reference Cell Type\"] = CSV[\"Reference Cell Type\"].str.replace(j,k)\n",
    "        \n",
    "        outfile = i.replace(\"exc inh\", \"Neuronal: Glutamatergic Neuronal: GABAergic\").replace(\"glia\", \"Non-neuronal and Non-neural\").replace(\"supertype_scANVI_leiden\", \"Supertype\")\n",
    "        CSV.to_csv(outfile)\n",
    "        \n",
    "        if \"exc inh\" in i:\n",
    "            os.remove(i)\n",
    "        if \"glia\" in i:\n",
    "            os.remove(i)\n",
    "        if \"leiden\" in i:\n",
    "            os.remove(i)\n",
    "\n",
    "    for i in h5ads:\n",
    "        h5ad = sc.read_h5ad(i)\n",
    "\n",
    "        for j,k in covariates_to_fix.items():\n",
    "            h5ad.obs.columns = h5ad.obs.columns.str.replace(j,k)\n",
    "\n",
    "        h5ad.obs[\"Sex\"].str.replace(\"M\", \"Male\")\n",
    "        h5ad.obs[\"Sex\"].str.replace(\"F\", \"Female\")\n",
    "\n",
    "        columns_to_keep = np.intersect1d(h5ad.obs.columns, list(covariates_to_fix.values()))\n",
    "        h5ad.obs = h5ad.obs.loc[:, columns_to_keep].copy()\n",
    "        \n",
    "        for j,k in celltypes_to_fix.items():\n",
    "           h5ad.var.index = h5ad.var.index.str.replace(j,k)\n",
    "\n",
    "        outfile = i.replace(\"exc inh\", \"Neuronal: Glutamatergic Neuronal: GABAergic\").replace(\"glia\", \"Non-neuronal and Non-neural\").replace(\"supertype_scANVI_leiden\", \"Supertype\")\n",
    "        h5ad.write(outfile)\n",
    "        \n",
    "        if \"exc inh\" in i:\n",
    "            os.remove(i)\n",
    "        if \"glia\" in i:\n",
    "            os.remove(i)\n",
    "        if \"leiden\" in i:\n",
    "            os.remove(i)"
   ]
  },
  {
   "cell_type": "code",
   "execution_count": 11,
   "id": "2698e6e0-5629-456a-b1bd-e60f5e0cf219",
   "metadata": {},
   "outputs": [
    {
     "name": "stdout",
     "output_type": "stream",
     "text": [
      "['/allen/programs/celltypes/workgroups/hct/SEA-AD/MTG Manuscript/Single nucleus omics/03_Differential abundance analysis/output/MTG_RNAseq_PMI/Continuous_Pseudo-progression_Score/Neuronal: Glutamatergic Neuronal: GABAergic_supertype_scANVI_leiden_results.csv', '/allen/programs/celltypes/workgroups/hct/SEA-AD/MTG Manuscript/Single nucleus omics/03_Differential abundance analysis/output/MTG_RNAseq_PMI/Continuous_Pseudo-progression_Score/Non-neuronal and Non-neural_supertype_scANVI_leiden_results.csv']\n",
      "['/allen/programs/celltypes/workgroups/hct/SEA-AD/MTG Manuscript/Single nucleus omics/03_Differential abundance analysis/output/MTG_RNAseq_PMI/objects/Neuronal: Glutamatergic Neuronal: GABAergic_Supertype_abundances.h5ad', '/allen/programs/celltypes/workgroups/hct/SEA-AD/MTG Manuscript/Single nucleus omics/03_Differential abundance analysis/output/MTG_RNAseq_PMI/objects/Non-neuronal and Non-neural_Supertype_abundances.h5ad']\n"
     ]
    }
   ],
   "source": [
    "quickfix(\"/allen/programs/celltypes/workgroups/hct/SEA-AD/MTG Manuscript/Single nucleus omics/03_Differential abundance analysis/output/MTG_RNAseq_PMI\")"
   ]
  },
  {
   "cell_type": "code",
   "execution_count": null,
   "id": "e0165985-0977-4ec5-817f-185e3430f0e3",
   "metadata": {},
   "outputs": [],
   "source": []
  }
 ],
 "metadata": {
  "kernelspec": {
   "display_name": "Python 3 (ipykernel)",
   "language": "python",
   "name": "python3"
  },
  "language_info": {
   "codemirror_mode": {
    "name": "ipython",
    "version": 3
   },
   "file_extension": ".py",
   "mimetype": "text/x-python",
   "name": "python",
   "nbconvert_exporter": "python",
   "pygments_lexer": "ipython3",
   "version": "3.11.8"
  }
 },
 "nbformat": 4,
 "nbformat_minor": 5
}
