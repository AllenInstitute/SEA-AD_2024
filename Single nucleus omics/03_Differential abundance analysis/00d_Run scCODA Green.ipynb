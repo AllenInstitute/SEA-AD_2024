{
 "cells": [
  {
   "cell_type": "markdown",
   "id": "7507eebc-0f06-461e-b5c1-4344e3420f39",
   "metadata": {
    "tags": []
   },
   "source": [
    "### Load required libraries"
   ]
  },
  {
   "cell_type": "code",
   "execution_count": null,
   "id": "3879a8e8-9b81-4d3a-b0da-7330a9d48d1c",
   "metadata": {
    "tags": []
   },
   "outputs": [],
   "source": [
    "import os\n",
    "import pandas as pd\n",
    "import numpy as np\n",
    "import scanpy as sc\n",
    "import matplotlib.pyplot as plt\n",
    "%matplotlib inline\n",
    "import warnings\n",
    "from datetime import datetime\n",
    "from helper_functions import *\n",
    "\n",
    "pwd = os.getcwd()\n",
    "plt.rcParams[\"pdf.fonttype\"] = 42"
   ]
  },
  {
   "cell_type": "markdown",
   "id": "ccc8be42-8cd8-411b-a561-090cbee9f5f0",
   "metadata": {
    "tags": []
   },
   "source": [
    "### Read in the non-neuronal Green et al (2023) dataset"
   ]
  },
  {
   "cell_type": "code",
   "execution_count": null,
   "id": "89489fff-e13c-4e3a-80bf-2e45057fae80",
   "metadata": {},
   "outputs": [],
   "source": [
    "region = \"PFC_External\"\n",
    "dataset = \"Green_2023_external\"\n",
    "date = \"2023-12-11\"\n",
    "RNAseq = pd.read_csv(os.path.join(pwd, \"input\", region, region.replace(\"_External\", \"\") + \"_\" + dataset + \"_metadata_keepers_non-neurons.\" + date +\".csv\"), index_col=0)\n",
    "\n",
    "# Format metadata for the compositional test\n",
    "RNAseq[\"Cognitive_Status\"] = RNAseq[\"Cognitive Status\"].astype(\"category\")\n",
    "RNAseq[\"Cognitive_Status\"].cat.reorder_categories([\"No dementia\", \"Dementia\"], inplace=True)\n",
    "\n",
    "RNAseq[\"APOE4_Status\"] = RNAseq[\"APOE4 Status\"].astype(\"category\")\n",
    "RNAseq[\"APOE4_Status\"].cat.reorder_categories([\"N\", \"Y\"], inplace=True)\n",
    "\n",
    "RNAseq[\"Age_at_Death_binned\"] = pd.cut(RNAseq[\"Age at Death\"], bins=5)\n",
    "RNAseq[\"Age_at_Death_binned_codes\"] = RNAseq[\"Age_at_Death_binned\"].cat.codes\n",
    "RNAseq[\"Age_at_Death_binned_codes\"] = RNAseq[\"Age_at_Death_binned_codes\"] /  RNAseq[\"Age_at_Death_binned_codes\"].max()\n",
    "\n",
    "RNAseq[\"Overall_AD_neuropathological_Change\"] = RNAseq[\"Overall AD neuropathological Change\"].astype(\"category\")\n",
    "RNAseq[\"Overall_AD_neuropathological_Change\"] = RNAseq[\"Overall_AD_neuropathological_Change\"].cat.reorder_categories([\"Not AD\", \"Low\", \"Intermediate\", \"High\"])\n",
    "RNAseq[\"Overall_AD_neuropathological_Change_codes\"] = RNAseq[\"Overall_AD_neuropathological_Change\"].cat.codes\n",
    "RNAseq[\"Overall_AD_neuropathological_Change_codes\"] = RNAseq[\"Overall_AD_neuropathological_Change_codes\"] /  RNAseq[\"Overall_AD_neuropathological_Change_codes\"].max()"
   ]
  },
  {
   "cell_type": "markdown",
   "id": "c81c879f-ee59-4090-996b-104fb243fad9",
   "metadata": {},
   "source": [
    "### Run scCODA on the non-neuronal Green et al (2023) dataset"
   ]
  },
  {
   "cell_type": "code",
   "execution_count": null,
   "id": "a6d38ca3-bd0b-4b82-907d-c15ebfd1e1b5",
   "metadata": {
    "scrolled": true,
    "tags": []
   },
   "outputs": [],
   "source": [
    "region = \"PFC_Green_2023\"\n",
    "formula = \"Sex + Age_at_Death_binned_codes + APOE4_Status + \"\n",
    "covariates = [\"Donor ID\", \"Sex\", \"Age_at_Death_binned_codes\", \"APOE4_Status\", \"Overall_AD_neuropathological_Change_codes\"]\n",
    "tests = [\"Overall_AD_neuropathological_Change_codes\"]\n",
    "labels_keys=[\"Supertype\"]\n",
    "run_scCODA(\n",
    "    cell_count=RNAseq,\n",
    "    random_effect=\"Donor ID\",\n",
    "    split_key=\"Class\",\n",
    "    split_value=[\"Non-neuronal and Non-neural\"],\n",
    "    labels_keys=labels_keys,\n",
    "    region=region,\n",
    "    covariates=covariates,\n",
    "    tests=tests,\n",
    "    formula=formula,\n",
    "    figsize=(20,6)\n",
    ")"
   ]
  },
  {
   "cell_type": "markdown",
   "id": "3a7eff47-594e-4703-ba48-0dbe073d8acb",
   "metadata": {},
   "source": [
    "### Read in the neuronal Green et al (2023) dataset"
   ]
  },
  {
   "cell_type": "code",
   "execution_count": null,
   "id": "3e547b15-cb2e-4214-9f4a-7c631cd20cae",
   "metadata": {},
   "outputs": [],
   "source": [
    "region = \"PFC_External\"\n",
    "dataset = \"Green_2023_external\"\n",
    "date = \"2023-12-11\"\n",
    "RNAseq = pd.read_csv(os.path.join(pwd, \"input\", region, region.replace(\"_External\", \"\") + \"_\" + dataset + \"_metadata_keepers_neurons.\" + date +\".csv\"), index_col=0)\n",
    "\n",
    "# Format metadata for the compositional test\n",
    "RNAseq[\"Cognitive_Status\"] = RNAseq[\"Cognitive Status\"].astype(\"category\")\n",
    "RNAseq[\"Cognitive_Status\"].cat.reorder_categories([\"No dementia\", \"Dementia\"], inplace=True)\n",
    "\n",
    "RNAseq[\"APOE4_Status\"] = RNAseq[\"APOE4 Status\"].astype(\"category\")\n",
    "RNAseq[\"APOE4_Status\"].cat.reorder_categories([\"N\", \"Y\"], inplace=True)\n",
    "\n",
    "RNAseq[\"Age_at_Death_binned\"] = pd.cut(RNAseq[\"Age at Death\"], bins=5)\n",
    "RNAseq[\"Age_at_Death_binned_codes\"] = RNAseq[\"Age_at_Death_binned\"].cat.codes\n",
    "RNAseq[\"Age_at_Death_binned_codes\"] = RNAseq[\"Age_at_Death_binned_codes\"] /  RNAseq[\"Age_at_Death_binned_codes\"].max()\n",
    "\n",
    "RNAseq[\"Overall_AD_neuropathological_Change\"] = RNAseq[\"Overall AD neuropathological Change\"].astype(\"category\")\n",
    "RNAseq[\"Overall_AD_neuropathological_Change\"] = RNAseq[\"Overall_AD_neuropathological_Change\"].cat.reorder_categories([\"Not AD\", \"Low\", \"Intermediate\", \"High\"])\n",
    "RNAseq[\"Overall_AD_neuropathological_Change_codes\"] = RNAseq[\"Overall_AD_neuropathological_Change\"].cat.codes\n",
    "RNAseq[\"Overall_AD_neuropathological_Change_codes\"] = RNAseq[\"Overall_AD_neuropathological_Change_codes\"] /  RNAseq[\"Overall_AD_neuropathological_Change_codes\"].max()"
   ]
  },
  {
   "cell_type": "markdown",
   "id": "8310697e-a068-4ed7-bebb-53028f05f877",
   "metadata": {},
   "source": [
    "### Run scCODA on the neuronal Green et al (2023) dataset"
   ]
  },
  {
   "cell_type": "code",
   "execution_count": null,
   "id": "87dcdd41-e137-43e6-a2c8-ab2643b43146",
   "metadata": {
    "scrolled": true,
    "tags": []
   },
   "outputs": [],
   "source": [
    "region = \"PFC_Green_2023\"\n",
    "formula = \"Sex + Age_at_Death_binned_codes + APOE4_Status + \"\n",
    "covariates = [\"Donor ID\", \"Sex\", \"Age_at_Death_binned_codes\", \"APOE4_Status\", \"Overall_AD_neuropathological_Change_codes\"]\n",
    "tests = [\"Overall_AD_neuropathological_Change_codes\"]\n",
    "labels_keys=[\"Supertype\"]\n",
    "run_scCODA(\n",
    "    cell_count=cell_count,\n",
    "    random_effect=\"Donor ID\",\n",
    "    split_key=\"Class\",\n",
    "    split_value=[\"Neuronal: Glutamatergic\", \"Neuronal: GABAergic\"],\n",
    "    labels_keys=labels_keys,\n",
    "    region=region,\n",
    "    covariates=covariates,\n",
    "    tests=tests,\n",
    "    formula=formula,\n",
    "    figsize=(30,6)\n",
    ")"
   ]
  }
 ],
 "metadata": {
  "kernelspec": {
   "display_name": "Python 3 (ipykernel)",
   "language": "python",
   "name": "python3"
  },
  "language_info": {
   "codemirror_mode": {
    "name": "ipython",
    "version": 3
   },
   "file_extension": ".py",
   "mimetype": "text/x-python",
   "name": "python",
   "nbconvert_exporter": "python",
   "pygments_lexer": "ipython3",
   "version": "3.11.8"
  }
 },
 "nbformat": 4,
 "nbformat_minor": 5
}
