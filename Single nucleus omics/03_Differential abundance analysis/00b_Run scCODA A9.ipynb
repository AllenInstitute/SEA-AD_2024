{
 "cells": [
  {
   "cell_type": "markdown",
   "id": "7507eebc-0f06-461e-b5c1-4344e3420f39",
   "metadata": {},
   "source": [
    "### Load required libraries and data"
   ]
  },
  {
   "cell_type": "code",
   "execution_count": null,
   "id": "3879a8e8-9b81-4d3a-b0da-7330a9d48d1c",
   "metadata": {
    "tags": []
   },
   "outputs": [],
   "source": [
    "import os\n",
    "import pandas as pd\n",
    "import numpy as np\n",
    "import scanpy as sc\n",
    "import matplotlib.pyplot as plt\n",
    "%matplotlib inline\n",
    "import warnings\n",
    "from datetime import datetime\n",
    "from helper_functions import *\n",
    "\n",
    "pwd = os.getcwd()\n",
    "plt.rcParams[\"pdf.fonttype\"] = 42"
   ]
  },
  {
   "cell_type": "markdown",
   "id": "3c793586-9fec-43df-8360-e21dc400a452",
   "metadata": {},
   "source": [
    "### Read in the A9 snRNAseq and snMultiome dataset"
   ]
  },
  {
   "cell_type": "code",
   "execution_count": null,
   "id": "812fe045-ee18-4a01-b21a-38805e5aa6a1",
   "metadata": {},
   "outputs": [],
   "source": [
    "# Pull the CPS values from the MTG dataset\n",
    "region = \"MTG\"\n",
    "dataset = \"RNAseq\"\n",
    "date = \"2024-02-13\"\n",
    "MTG = pd.read_csv(os.path.join(pwd, \"input\", \"SEAAD_\" + region + \"_\" + dataset + \"_final-nuclei_metadata.\" + date +\".csv\"), index_col=0)\n",
    "MTG = MTG.loc[:, [\"Donor ID\", \"Continuous Pseudo-progression Score\"]].copy()\n",
    "\n",
    "region = \"A9\"\n",
    "dataset = \"RNAseq\"\n",
    "date = \"2024-02-13\"\n",
    "RNAseq = pd.read_csv(os.path.join(pwd, \"input\", \"SEAAD_\" + region + \"_\" + dataset + \"_final-nuclei_metadata.\" + date +\".csv\"), index_col=0)\n",
    "RNAseq = RNAseq.merge(MTG, how=\"left\", left_on=\"Donor ID\", right_on=\"Donor ID\")\n",
    "\n",
    "# Format metadata for the compositional test\n",
    "RNAseq[\"Continuous_Pseudo-progression_Score\"] = RNAseq[\"Continuous Pseudo-progression Score\"].copy()\n",
    "\n",
    "RNAseq[\"Race_choice_White\"] = RNAseq[\"Race (choice=White)\"].astype(\"category\")\n",
    "RNAseq[\"Race_choice_White\"] = RNAseq[\"Race_choice_White\"].cat.reorder_categories([\"Unchecked\", \"Checked\"])\n",
    "\n",
    "RNAseq[\"Age_at_Death_binned\"] = pd.cut(RNAseq[\"Age at Death\"], bins=5)\n",
    "RNAseq[\"Age_at_Death_binned_codes\"] = RNAseq[\"Age_at_Death_binned\"].cat.codes\n",
    "RNAseq[\"Age_at_Death_binned_codes\"] = RNAseq[\"Age_at_Death_binned_codes\"] /  RNAseq[\"Age_at_Death_binned_codes\"].max()"
   ]
  },
  {
   "cell_type": "markdown",
   "id": "3b51643c-3c88-4126-ad8f-45e4868d8673",
   "metadata": {
    "tags": []
   },
   "source": [
    "### Run scCODA on the A9 snRNAseq and snMultiome datasets"
   ]
  },
  {
   "cell_type": "code",
   "execution_count": null,
   "id": "a6d38ca3-bd0b-4b82-907d-c15ebfd1e1b5",
   "metadata": {
    "scrolled": true,
    "tags": []
   },
   "outputs": [],
   "source": [
    "# Primary model\n",
    "region = \"A9_RNAseq\"\n",
    "formula = \"Sex + Age_at_Death_binned_codes + Race_choice_White + \"\n",
    "covariates = [\"library_prep\", \"Sex\", \"Age_at_Death_binned_codes\", \"Race_choice_White\", \"Donor_Pseudo-progression\"]\n",
    "tests = [\"Continuous Pseudo-progression Score\"]\n",
    "labels_keys = [\"Supertype\"]\n",
    "\n",
    "run_scCODA(\n",
    "    cell_count=RNAseq,\n",
    "    random_effect=\"library_prep\",\n",
    "    split_key=\"Class\",\n",
    "    split_value=[\"Non-neuronal and non-neural\"],\n",
    "    labels_keys=labels_keys,\n",
    "    region=region,\n",
    "    covariates=covariates,\n",
    "    tests=tests,\n",
    "    formula=formula,\n",
    ")\n",
    "run_scCODA(\n",
    "    cell_count=RNAseq,\n",
    "    random_effect=\"library_prep\",\n",
    "    split_key=\"Class\",\n",
    "    split_value=[\"Neuronal: Glutamatergic\", \"Neuronal: GABAergic\"],\n",
    "    labels_keys=labels_keys,\n",
    "    region=region,\n",
    "    covariates=covariates,\n",
    "    tests=tests,\n",
    "    formula=formula,\n",
    ")"
   ]
  }
 ],
 "metadata": {
  "kernelspec": {
   "display_name": "Python 3 (ipykernel)",
   "language": "python",
   "name": "python3"
  },
  "language_info": {
   "codemirror_mode": {
    "name": "ipython",
    "version": 3
   },
   "file_extension": ".py",
   "mimetype": "text/x-python",
   "name": "python",
   "nbconvert_exporter": "python",
   "pygments_lexer": "ipython3",
   "version": "3.11.8"
  }
 },
 "nbformat": 4,
 "nbformat_minor": 5
}
