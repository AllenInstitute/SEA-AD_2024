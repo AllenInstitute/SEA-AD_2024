{
 "cells": [
  {
   "cell_type": "markdown",
   "id": "8f38a818-eed1-474a-8b70-2bc90da6a0d1",
   "metadata": {
    "tags": []
   },
   "source": [
    "### Load required libraries"
   ]
  },
  {
   "cell_type": "code",
   "execution_count": null,
   "id": "009cad84-ba86-41ee-8573-3073bf48e396",
   "metadata": {
    "tags": []
   },
   "outputs": [],
   "source": [
    "import os\n",
    "import pandas as pd\n",
    "import numpy as np\n",
    "import scanpy as sc\n",
    "import matplotlib.pyplot as plt\n",
    "%matplotlib inline\n",
    "import warnings\n",
    "from datetime import datetime\n",
    "from helper_functions import *\n",
    "\n",
    "pwd = os.getcwd()\n",
    "plt.rcParams[\"pdf.fonttype\"] = 42"
   ]
  },
  {
   "cell_type": "markdown",
   "id": "eb24afab-56aa-4646-a35d-a7ea8262ba67",
   "metadata": {
    "tags": []
   },
   "source": [
    "### Read in the non-neuronal Mathys et al (2023) dataset"
   ]
  },
  {
   "cell_type": "code",
   "execution_count": null,
   "id": "ab6763fd-6aa6-4c05-8a4a-55cd9097b9e3",
   "metadata": {},
   "outputs": [],
   "source": [
    "region = \"PFC_External\"\n",
    "dataset = \"Mathys_2023_external\"\n",
    "date = \"2023-12-11\"\n",
    "RNAseq = pd.read_csv(os.path.join(pwd, \"input\", region, region.replace(\"_External\", \"\") + \"_\" + dataset + \"_metadata_keepers_non-neurons.\" + date +\".csv\"), index_col=0)\n",
    "\n",
    "# Format metadata for the compositional test\n",
    "RNAseq[\"Cognitive_Status\"] = RNAseq[\"Cognitive Status\"].astype(\"category\")\n",
    "RNAseq[\"Cognitive_Status\"].cat.reorder_categories([\"No dementia\", \"Dementia\"], inplace=True)\n",
    "\n",
    "RNAseq[\"APOE4_Status\"] = RNAseq[\"APOE4 Status\"].astype(\"category\")\n",
    "RNAseq[\"APOE4_Status\"].cat.reorder_categories([\"N\", \"Y\"], inplace=True)\n",
    "\n",
    "RNAseq[\"Age_at_Death_binned\"] = pd.cut(RNAseq[\"Age at Death\"], bins=5)\n",
    "RNAseq[\"Age_at_Death_binned_codes\"] = RNAseq[\"Age_at_Death_binned\"].cat.codes\n",
    "RNAseq[\"Age_at_Death_binned_codes\"] = RNAseq[\"Age_at_Death_binned_codes\"] /  RNAseq[\"Age_at_Death_binned_codes\"].max()\n",
    "\n",
    "RNAseq[\"Overall_AD_neuropathological_Change\"] = RNAseq[\"Overall AD neuropathological Change\"].astype(\"category\")\n",
    "RNAseq[\"Overall_AD_neuropathological_Change\"] = RNAseq[\"Overall_AD_neuropathological_Change\"].cat.reorder_categories([\"Not AD\", \"Low\", \"Intermediate\", \"High\"])\n",
    "RNAseq[\"Overall_AD_neuropathological_Change_codes\"] = RNAseq[\"Overall_AD_neuropathological_Change\"].cat.codes\n",
    "RNAseq[\"Overall_AD_neuropathological_Change_codes\"] = RNAseq[\"Overall_AD_neuropathological_Change_codes\"] /  RNAseq[\"Overall_AD_neuropathological_Change_codes\"].max()"
   ]
  },
  {
   "cell_type": "markdown",
   "id": "83fe6599-dd59-44ab-a8dd-6a0d4bc187b5",
   "metadata": {},
   "source": [
    "### Run scCODA on the non-neuronal Mathys et al (2023) dataset"
   ]
  },
  {
   "cell_type": "code",
   "execution_count": null,
   "id": "378b358d-1bd6-42e4-8a34-5c3ebf830247",
   "metadata": {
    "scrolled": true,
    "tags": []
   },
   "outputs": [],
   "source": [
    "region = \"PFC_Mathys_2023\"\n",
    "formula = \"Sex + Age_at_Death_binned_codes + APOE4_Status + \"\n",
    "covariates = [\"Donor ID\", \"Sex\", \"Age_at_Death_binned_codes\", \"APOE4_Status\", \"Overall_AD_neuropathological_Change_codes\"]\n",
    "tests = [\"Overall_AD_neuropathological_Change_codes\"]\n",
    "labels_keys=[\"Supertype\"]\n",
    "run_scCODA(\n",
    "    cell_count=RNAseq,\n",
    "    random_effect=\"Donor ID\",\n",
    "    split_key=\"Class\",\n",
    "    split_value=[\"Non-neuronal and Non-neural\"],\n",
    "    labels_keys=labels_keys,\n",
    "    region=region,\n",
    "    covariates=covariates,\n",
    "    tests=tests,\n",
    "    formula=formula,\n",
    "    figsize=(20,6)\n",
    ")"
   ]
  },
  {
   "cell_type": "markdown",
   "id": "242242bd-2f32-44ae-9667-5e6d8e4cf659",
   "metadata": {},
   "source": [
    "### Read in the neuronal Mathys et al (2023) dataset"
   ]
  },
  {
   "cell_type": "code",
   "execution_count": null,
   "id": "60d28bf5-e78c-4aac-94f9-f450f7cc5abf",
   "metadata": {},
   "outputs": [],
   "source": [
    "region = \"PFC_External\"\n",
    "dataset = \"Mathys_2023_external\"\n",
    "date = \"2023-12-11\"\n",
    "RNAseq = pd.read_csv(os.path.join(pwd, \"input\", region, region.replace(\"_External\", \"\") + \"_\" + dataset + \"_metadata_keepers_neurons.\" + date +\".csv\"), index_col=0)\n",
    "\n",
    "# Format metadata for the compositional test\n",
    "RNAseq[\"Cognitive_Status\"] = RNAseq[\"Cognitive Status\"].astype(\"category\")\n",
    "RNAseq[\"Cognitive_Status\"].cat.reorder_categories([\"No dementia\", \"Dementia\"], inplace=True)\n",
    "\n",
    "RNAseq[\"APOE4_Status\"] = RNAseq[\"APOE4 Status\"].astype(\"category\")\n",
    "RNAseq[\"APOE4_Status\"].cat.reorder_categories([\"N\", \"Y\"], inplace=True)\n",
    "\n",
    "RNAseq[\"Age_at_Death_binned\"] = pd.cut(RNAseq[\"Age at Death\"], bins=5)\n",
    "RNAseq[\"Age_at_Death_binned_codes\"] = RNAseq[\"Age_at_Death_binned\"].cat.codes\n",
    "RNAseq[\"Age_at_Death_binned_codes\"] = RNAseq[\"Age_at_Death_binned_codes\"] /  RNAseq[\"Age_at_Death_binned_codes\"].max()\n",
    "\n",
    "RNAseq[\"Overall_AD_neuropathological_Change\"] = RNAseq[\"Overall AD neuropathological Change\"].astype(\"category\")\n",
    "RNAseq[\"Overall_AD_neuropathological_Change\"] = RNAseq[\"Overall_AD_neuropathological_Change\"].cat.reorder_categories([\"Not AD\", \"Low\", \"Intermediate\", \"High\"])\n",
    "RNAseq[\"Overall_AD_neuropathological_Change_codes\"] = RNAseq[\"Overall_AD_neuropathological_Change\"].cat.codes\n",
    "RNAseq[\"Overall_AD_neuropathological_Change_codes\"] = RNAseq[\"Overall_AD_neuropathological_Change_codes\"] /  RNAseq[\"Overall_AD_neuropathological_Change_codes\"].max()"
   ]
  },
  {
   "cell_type": "markdown",
   "id": "e7c6c973-8a83-4426-b544-bc585058b1c4",
   "metadata": {},
   "source": [
    "### Run scCODA on the neuronal Mathys et al (2023) dataset"
   ]
  },
  {
   "cell_type": "code",
   "execution_count": null,
   "id": "126516c6-5074-48fe-ac75-9b9da3f5b9a0",
   "metadata": {
    "scrolled": true,
    "tags": []
   },
   "outputs": [],
   "source": [
    "region = \"PFC_Mathys_2023\"\n",
    "formula = \"Sex + Age_at_Death_binned_codes + APOE4_Status + \"\n",
    "covariates = [\"Donor ID\", \"Sex\", \"Age_at_Death_binned_codes\", \"APOE4_Status\", \"Overall_AD_neuropathological_Change_codes\"]\n",
    "tests = [\"Overall_AD_neuropathological_Change_codes\"]\n",
    "labels_keys=[\"Supertype\"]\n",
    "run_scCODA(\n",
    "    cell_count=cell_count,\n",
    "    random_effect=\"Donor ID\",\n",
    "    split_key=\"Class\",\n",
    "    split_value=[\"Neuronal: Glutamatergic\", \"Neuronal: GABAergic\"],\n",
    "    labels_keys=labels_keys,\n",
    "    region=region,\n",
    "    covariates=covariates,\n",
    "    tests=tests,\n",
    "    formula=formula,\n",
    "    figsize=(30,6)\n",
    ")"
   ]
  }
 ],
 "metadata": {
  "kernelspec": {
   "display_name": "Python 3 (ipykernel)",
   "language": "python",
   "name": "python3"
  },
  "language_info": {
   "codemirror_mode": {
    "name": "ipython",
    "version": 3
   },
   "file_extension": ".py",
   "mimetype": "text/x-python",
   "name": "python",
   "nbconvert_exporter": "python",
   "pygments_lexer": "ipython3",
   "version": "3.11.8"
  }
 },
 "nbformat": 4,
 "nbformat_minor": 5
}
