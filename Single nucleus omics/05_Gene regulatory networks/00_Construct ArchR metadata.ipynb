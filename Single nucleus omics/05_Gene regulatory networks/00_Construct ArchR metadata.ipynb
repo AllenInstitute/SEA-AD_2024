{
 "cells": [
  {
   "cell_type": "markdown",
   "id": "970960e0-f8d9-4b32-b763-f8e30eb4afc2",
   "metadata": {},
   "source": [
    "### Load needed libraries"
   ]
  },
  {
   "cell_type": "code",
   "execution_count": null,
   "id": "f3c9d317-86e6-4b7d-8d45-0b2ed400fe72",
   "metadata": {},
   "outputs": [],
   "source": [
    "import os\n",
    "import warnings\n",
    "import pandas as pd\n",
    "warnings.filterwarnings(\"ignore\")\n",
    "\n",
    "pwd = os.getcwd()"
   ]
  },
  {
   "cell_type": "markdown",
   "id": "e41106db-4df8-42e7-a78d-4664a6fcb20c",
   "metadata": {},
   "source": [
    "### Load needed datasets"
   ]
  },
  {
   "cell_type": "code",
   "execution_count": null,
   "id": "de410c65-41fa-4cdf-b856-d8c4bdfb63fb",
   "metadata": {},
   "outputs": [],
   "source": [
    "# From https://sea-ad-single-cell-profiling.s3.amazonaws.com/index.html#MTG/RNAseq/Supplementary%20Information/\n",
    "metadata = pd.read_csv(os.path.join(pwd, \"input\", \"SEAAD_MTG_ATACseq_final-nuclei_metadata.2024-02-13.csv\"), index_col=0)\n",
    "metadata = metadata.loc[(metadata[\"Class\"] == \"Non-neuronal and Non-neural\") & (metadata[\"Severely Affected Donor\"] == \"N\"), :].copy()\n",
    "\n",
    "# Internal list of pre-built Arrow files\n",
    "inputf = pd.read_csv(os.path.join(pwd, \"input\", \"ATAC_AD_Center_Grant_update.csv\"), index_col=0)\n"
   ]
  },
  {
   "cell_type": "markdown",
   "id": "c3dfde00-d088-4057-b637-3f686d0ff3d8",
   "metadata": {},
   "source": [
    "### Add back Arrow file cell IDs"
   ]
  },
  {
   "cell_type": "code",
   "execution_count": null,
   "id": "eb4cede2-0ca1-4872-b89a-a3b9bdfa0079",
   "metadata": {},
   "outputs": [],
   "source": [
    "inputf = inputf.loc[:, [\"library_prep\", \"arrow_file\"]]\n",
    "inputf[\"arrow\"] = inputf['arrow_file'].str.replace(\".arrow\", \"\")\n",
    "\n",
    "metadata = metadata.merge(inputf, how=\"left\", left_on=\"library_prep\", right_on=\"library_prep\")\n",
    "\n",
    "metadata[\"archr_index\"] = metadata[\"arrow\"] + \"#\" + metadata[\"bc\"] + '-1'\n",
    "metadata = metadata.loc[~metadata[\"archr_index\"].isnull(), :]"
   ]
  },
  {
   "cell_type": "markdown",
   "id": "39107dcb-7222-4561-8e66-0dc215c2b4c7",
   "metadata": {},
   "source": [
    "### Save metadata"
   ]
  },
  {
   "cell_type": "code",
   "execution_count": null,
   "id": "7f1b4de3-39a9-4dab-873b-f2440e98bdba",
   "metadata": {},
   "outputs": [],
   "source": [
    "metadata.to_csv(os.path.join(pwd, \"input\", \"Non-neuronal_Supertype_Annotation_with_archr_index.csv\"), index=False)"
   ]
  }
 ],
 "metadata": {
  "kernelspec": {
   "display_name": "Python 3 (ipykernel)",
   "language": "python",
   "name": "python3"
  },
  "language_info": {
   "codemirror_mode": {
    "name": "ipython",
    "version": 3
   },
   "file_extension": ".py",
   "mimetype": "text/x-python",
   "name": "python",
   "nbconvert_exporter": "python",
   "pygments_lexer": "ipython3",
   "version": "3.11.8"
  }
 },
 "nbformat": 4,
 "nbformat_minor": 5
}
