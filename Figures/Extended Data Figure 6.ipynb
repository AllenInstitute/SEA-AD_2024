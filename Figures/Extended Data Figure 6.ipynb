{
 "cells": [
  {
   "cell_type": "markdown",
   "id": "08dcf881-0b51-42d5-8a25-36e98be08be1",
   "metadata": {},
   "source": [
    "### Load needed libraries"
   ]
  },
  {
   "cell_type": "code",
   "execution_count": null,
   "id": "b7f32284-4876-4005-abad-7b8c395e637f",
   "metadata": {},
   "outputs": [],
   "source": [
    "import os\n",
    "import shutil\n",
    "import scanpy as sc\n",
    "import anndata as ad\n",
    "import pandas as pd\n",
    "import numpy as np\n",
    "import seaborn as sns\n",
    "import matplotlib\n",
    "import re\n",
    "import matplotlib.pyplot as plt\n",
    "%matplotlib inline\n",
    "import warnings\n",
    "from scipy import stats as sp_stats\n",
    "from scipy import sparse as sp_sparse\n",
    "from helper_functions import *\n",
    "\n",
    "sc.settings.n_jobs = 32\n",
    "sc.set_figure_params(scanpy=True, dpi=100, dpi_save=500, frameon=False, vector_friendly=True, figsize=(10,10), format='png')\n",
    "warnings.filterwarnings(\"ignore\")\n",
    "\n",
    "matplotlib.rcParams['pdf.fonttype'] = 42\n",
    "matplotlib.rcParams[\"axes.grid\"] = False\n",
    "\n",
    "pwd = os.getcwd()"
   ]
  },
  {
   "cell_type": "markdown",
   "id": "883b86e5-33ba-4306-a2ec-85b96ee1efe2",
   "metadata": {},
   "source": [
    "### Load needed datasets/data files"
   ]
  },
  {
   "cell_type": "code",
   "execution_count": null,
   "id": "f75887db-8505-4426-b5ae-f2ef1d47c312",
   "metadata": {},
   "outputs": [],
   "source": [
    "# Cluster order and colors from https://sea-ad-single-cell-profiling.s3.amazonaws.com/index.html#MTG/RNAseq/Supplementary%20Information/\n",
    "color_order = pd.read_csv(os.path.join(pwd, \"input\", \"cluster_order_and_colors.csv\"))\n",
    "\n",
    "# From 00_build_input_data.py\n",
    "ATACseq = sc.read_h5ad(os.path.join(pwd, \"input\", \"Extended Data Figure 6\", \"SEAAD_MTG_ATACseq_all-nuclei_no_data.2024-02-13.h5ad\"))\n",
    "ATACseq.obs_names = [re.sub(\"([ATGC]+)-([^-]+)-[0-9]+\", \"\\\\1-\\\\2\", i) for i in ATACseq.obs_names]\n",
    "ATACseq.obs[\"modality\"] = \"accessibility\"\n",
    "ATACseq.obs.loc[ATACseq.obs[\"method\"] == \"10xMulti\", \"modality\"] = \"paired\"\n",
    "ATACseq.obs.index = ATACseq.obs.index + \"_\" + ATACseq.obs[\"modality\"]\n",
    "\n",
    "# From 00_build_input_data.py\n",
    "RNAseq = sc.read_h5ad(os.path.join(pwd, \"input\", \"Extended Data Figure 6\", \"SEAAD_MTG_RNAseq_final-nuclei_no_data.2024-02-13.h5ad\"))\n",
    "RNAseq = RNAseq[RNAseq.obs[\"method\"].isin([\"10Xv3.1\", \"10Xv3\"]), :].copy()\n",
    "RNAseq.obs[\"modality\"] = \"expression\"\n",
    "RNAseq.obs_names = [re.sub(\"([ATGC]+)-([^-]+)-[0-9]+\", \"\\\\1-\\\\2\", i) + \"_expression\" for i in RNAseq.obs_names]\n",
    "\n",
    "# MultiVI metrics from https://sea-ad-single-cell-profiling.s3.amazonaws.com/index.html#MTG/RNAseq/Supplementary%20Information/\n",
    "RNAseq_MVI_QC_metrics = pd.read_csv(os.path.join(pwd, \"input\", \"Extended Data Figure 6\", \"MultiVI_RNA Quality Control Score and Quality Control Clusters.csv\"), index_col=0)\n",
    "\n",
    "# MultiVI coordinates from from https://sea-ad-single-cell-profiling.s3.amazonaws.com/index.html#MTG/RNAseq/Supplementary%20Information/\n",
    "MultiVI_obs_names = pd.read_csv(os.path.join(pwd, \"input\", \"Extended Data Figure 6\", \"MultiVI_obs_names.csv\"), index_col=0).index\n",
    "MultiVI_umap = np.load(os.path.join(pwd, \"input\", \"Extended Data Figure 6\", \"MultiVI_umap.npy\"))\n",
    "\n",
    "\n",
    "# MultiVI subclass coordinates from https://sea-ad-single-cell-profiling.s3.amazonaws.com/index.html#MTG/RNAseq/Supplementary%20Information/\n",
    "MultiVI_Sst_obs_names = pd.read_csv(os.path.join(pwd, \"input\", \"Extended Data Figure 6\", \"MultiVI_Sst_obs_names.csv\"), index_col=0).index\n",
    "MultiVI_Sst_umap = np.load(os.path.join(pwd, \"input\", \"Extended Data Figure 6\", \"MultiVI_Sst_umap.npy\"))"
   ]
  },
  {
   "cell_type": "markdown",
   "id": "5df3b541-8dc4-47e1-82cb-a90d6d59bfa6",
   "metadata": {
    "jp-MarkdownHeadingCollapsed": true
   },
   "source": [
    "### Extended Data Figure 6b"
   ]
  },
  {
   "cell_type": "code",
   "execution_count": null,
   "id": "1394ecdb-2412-497e-a4ba-357210464627",
   "metadata": {},
   "outputs": [],
   "source": [
    "RNAseq_sub = RNAseq[np.intersect1d(RNAseq.obs_names, RNAseq_MVI_QC_metrics.index), :].copy()\n",
    "RNAseq_sub.obs[\"RNA Quality Control Score\"] = RNAseq_MVI_QC_metrics.loc[RNAseq_sub.obs_names, \"RNA Quality Control Score\"].copy()\n",
    "RNAseq_sub.obs[\"Quality Control Clusters\"] = RNAseq_MVI_QC_metrics.loc[RNAseq_sub.obs_names, \"Quality Control Clusters\"].copy()\n",
    "\n",
    "adata = ad.concat([ATACseq, RNAseq_sub], axis=0)\n",
    "to_keep = MultiVI_obs_names.isin(adata.obs_names)\n",
    "MultiVI_obs_names = MultiVI_obs_names[to_keep]\n",
    "MultiVI_umap = MultiVI_umap[to_keep, :]\n",
    "adata = adata[MultiVI_obs_names, :].copy()\n",
    "adata.obsm[\"X_umap\"] = MultiVI_umap"
   ]
  },
  {
   "cell_type": "code",
   "execution_count": null,
   "id": "c7c05326-45d5-407f-8561-34f29ab9ac0e",
   "metadata": {
    "scrolled": true
   },
   "outputs": [],
   "source": [
    "sc.pp.subsample(adata, fraction=1)\n",
    "\n",
    "plt.rcParams[\"figure.figsize\"] = (5,5)\n",
    "colors = {\n",
    "    \"expression\": \"red\",\n",
    "    \"paired\": \"grey\",\n",
    "    \"accessibility\": \"lightgrey\"\n",
    "}\n",
    "sc.pl.umap(\n",
    "    adata,\n",
    "    color=\"modality\",\n",
    "    size=1,\n",
    "    frameon=False,\n",
    "    palette=colors,\n",
    "    title=\"\",\n",
    "    save=\"_MultiVI_Modality.pdf\"\n",
    ")\n",
    "os.rename(os.path.join(pwd, \"figures\", \"umap_MultiVI_Modality.pdf\"), os.path.join(pwd, \"output\", \"Extended Data Figure 6b_umap_MultiVI_Modality.pdf\"))"
   ]
  },
  {
   "cell_type": "markdown",
   "id": "f6a7ad2b-083c-49f8-b6e7-ae4f3cb6a4e9",
   "metadata": {
    "jp-MarkdownHeadingCollapsed": true
   },
   "source": [
    "### Extended Data Figure 6c"
   ]
  },
  {
   "cell_type": "code",
   "execution_count": null,
   "id": "2d95cbc7-aab3-479e-bb5b-05da1a818296",
   "metadata": {},
   "outputs": [],
   "source": [
    "adata.obs[\"Quality Control Clusters\"] = [str(i) for i in adata.obs[\"Quality Control Clusters\"]]"
   ]
  },
  {
   "cell_type": "code",
   "execution_count": null,
   "id": "1e7b7122-e22a-4497-ab40-d52bba247142",
   "metadata": {},
   "outputs": [],
   "source": [
    "plt.rcParams[\"figure.figsize\"] = (5,5)\n",
    "sc.pl.umap(\n",
    "    adata,\n",
    "    color=\"RNA Quality Control Score\",\n",
    "    size=1,\n",
    "    frameon=False,\n",
    "    cmap=\"YlGnBu\",\n",
    "    title=\"\",\n",
    "    sort_order=False,\n",
    "    save=\"_MultiVI_RNA Quality Control Score.pdf\"\n",
    ")\n",
    "os.rename(os.path.join(pwd, \"figures\", \"umap_MultiVI_RNA Quality Control Score.pdf\"), os.path.join(pwd, \"output\", \"Extended Data Figure 6c_umap_MultiVI_RNA Quality Control Score.pdf\"))\n",
    "\n",
    "plt.rcParams[\"figure.figsize\"] = (2,4)\n",
    "sc.pl.violin(\n",
    "    adata,\n",
    "    keys=[\"RNA Quality Control Score\"],\n",
    "    stripplot=False,\n",
    "    save=\"_MultiVI_RNA Quality Control Score.pdf\"\n",
    ")\n",
    "os.rename(os.path.join(pwd, \"figures\", \"violin_MultiVI_RNA Quality Control Score.pdf\"), os.path.join(pwd, \"output\", \"Extended Data Figure 6c_violin_MultiVI_RNA Quality Control Score.pdf\"))\n",
    "\n",
    "plt.rcParams[\"figure.figsize\"] = (5,5)\n",
    "sc.pl.umap(\n",
    "    adata,\n",
    "    color=\"Quality Control Clusters\",\n",
    "    size=1,\n",
    "    frameon=False,\n",
    "    title=\"\",\n",
    "    legend_loc=\"on data\",\n",
    "    legend_fontsize=10,\n",
    "    sort_order=False,\n",
    "    na_in_legend=False,\n",
    "    groups=['33', '22', '21', '6', '29', '10', '25', '36', '39', '47', '32', '37', '42', '43', '45', '46'],\n",
    "    save=\"_MultiVI_Quality Control Clusters.pdf\"\n",
    ")\n",
    "os.rename(os.path.join(pwd, \"figures\", \"umap_MultiVI_Quality Control Clusters.pdf\"), os.path.join(pwd, \"output\", \"Extended Data Figure 6c_umap_MultiVI_Quality Control Clusters.pdf\"))\n",
    "\n",
    "plt.rcParams[\"figure.figsize\"] = (10,2)\n",
    "sc.pl.violin(\n",
    "    adata,\n",
    "    keys=[\"RNA Quality Control Score\"],\n",
    "    groupby=\"Quality Control Clusters\",\n",
    "    stripplot=False,\n",
    "    rotation=90,\n",
    "    save=\"_MultiVI_RNA Quality Control Score_by_Quality Control Clusters.pdf\"\n",
    ")\n",
    "os.rename(os.path.join(pwd, \"figures\", \"violin_MultiVI_RNA Quality Control Score_by_Quality Control Clusters.pdf\"), os.path.join(pwd, \"output\", \"Extended Data Figure 6c_violin_MultiVI_RNA Quality Control Score_by_Quality Control Clusters.pdf\"))"
   ]
  },
  {
   "cell_type": "code",
   "execution_count": null,
   "id": "b4eceaae-0a8a-4c2e-8c19-7bfaac30ca5f",
   "metadata": {},
   "outputs": [],
   "source": [
    "adata.obs[\"Good Cells\"] = ~adata.obs[\"Quality Control Clusters\"].isin(['33', '22', '21', '6', '29', '10', '25', '36', '39', '47', '32', '37', '42', '43', '45', '46'])\n",
    "df = sc.get.obs_df(adata, [\"Neurotypical reference\", \"modality\", \"library_prep\", \"Overall AD neuropathological Change\", \"Good Cells\"])\n",
    "df = df.loc[(df[\"modality\"] == \"accessibility\") & (df[\"Neurotypical reference\"] == \"False\"), :]\n",
    "df = df.drop([\"modality\", \"Neurotypical reference\"], axis=1)\n",
    "df[\"Overall AD neuropathological Change\"] = df[\"Overall AD neuropathological Change\"].cat.remove_unused_categories()\n",
    "df = df.groupby([\"library_prep\", \"Overall AD neuropathological Change\"]).mean().dropna().reset_index()\n",
    "\n",
    "plt.rcParams[\"figure.figsize\"] = (3,4)\n",
    "ax = sns.boxplot(data=df, x=\"Overall AD neuropathological Change\", y=\"Good Cells\", palette=\"tab20\", showfliers=False);\n",
    "ax = sns.swarmplot(data=df, x=\"Overall AD neuropathological Change\", y=\"Good Cells\", color=\"0.25\", edgecolor=\"white\", linewidth=0.5);\n",
    "\n",
    "plt.xlabel(\"\");\n",
    "plt.ylabel('Fraction of cells that pass QC per library');\n",
    "ax.set_xticklabels(ax.get_xticklabels(), rotation=90);\n",
    "\n",
    "plt.savefig(os.path.join(pwd, \"output\", \"Extended Data Figure 6c_boxplot_Fraction of cells that pass QC by ADNC.pdf\"), bbox_inches='tight');\n",
    "plt.show()"
   ]
  },
  {
   "cell_type": "markdown",
   "id": "495dff8d-8c0e-4484-ad95-6a292f052d27",
   "metadata": {
    "jp-MarkdownHeadingCollapsed": true
   },
   "source": [
    "### Extended Data Figure 6d"
   ]
  },
  {
   "cell_type": "code",
   "execution_count": null,
   "id": "8af79c70-4452-4565-8988-31fd73d8ba4a",
   "metadata": {},
   "outputs": [],
   "source": [
    "adata = adata[adata.obs[\"Used in analysis\"] == \"True\", :].copy()\n",
    "adata.obs[\"RNAseq Subclass\"] = np.nan\n",
    "adata.obs.loc[adata.obs[\"modality\"] != \"accessibility\", \"RNAseq Subclass\"] = adata.obs.loc[adata.obs[\"modality\"] != \"accessibility\", \"Subclass\"]\n",
    "\n",
    "subclass_colors = color_order.loc[:, [\"subclass_label\", \"subclass_color\"]].drop_duplicates()\n",
    "subclass_colors.index = subclass_colors[\"subclass_label\"].copy()\n",
    "subclass_colors = subclass_colors[\"subclass_color\"].to_dict()\n",
    "\n",
    "\n",
    "plt.rcParams[\"figure.figsize\"] = (5,5)\n",
    "sc.pl.umap(\n",
    "    adata,\n",
    "    color=\"RNAseq Subclass\",\n",
    "    size=1,\n",
    "    frameon=False,\n",
    "    title=\"\",\n",
    "    legend_loc=\"on data\",\n",
    "    legend_fontsize=10,\n",
    "    sort_order=False,\n",
    "    na_in_legend=False,\n",
    "    palette=subclass_colors,\n",
    "    save=\"_RNAseq Subclass.pdf\"\n",
    ")\n",
    "os.rename(os.path.join(pwd, \"figures\", \"umap_RNAseq Subclass.pdf\"), os.path.join(pwd, \"output\", \"Extended Data Figure 6d_umap_RNAseq Subclass.pdf\"))\n",
    "\n",
    "sc.pl.umap(\n",
    "    adata,\n",
    "    color=\"Subclass\",\n",
    "    size=1,\n",
    "    frameon=False,\n",
    "    title=\"\",\n",
    "    legend_loc=\"on data\",\n",
    "    legend_fontsize=10,\n",
    "    sort_order=False,\n",
    "    na_in_legend=False,\n",
    "    palette=subclass_colors,\n",
    "    save=\"_Subclass.pdf\"\n",
    ")\n",
    "os.rename(os.path.join(pwd, \"figures\", \"umap_Subclass.pdf\"), os.path.join(pwd, \"output\", \"Extended Data Figure 6d_umap_Subclass.pdf\"))"
   ]
  },
  {
   "cell_type": "markdown",
   "id": "8cb37df2-d849-47fa-bb53-12e4be278f10",
   "metadata": {
    "jp-MarkdownHeadingCollapsed": true
   },
   "source": [
    "### Extended Data Figure 6e"
   ]
  },
  {
   "cell_type": "code",
   "execution_count": null,
   "id": "53b222f5-bb2a-4e26-ae85-85fdf9a9b6d1",
   "metadata": {},
   "outputs": [],
   "source": [
    "RNAseq_sub = RNAseq[np.intersect1d(RNAseq.obs_names, MultiVI_Sst_obs_names), :].copy()\n",
    "\n",
    "adata = ad.concat([ATACseq, RNAseq_sub], axis=0)\n",
    "to_keep = MultiVI_Sst_obs_names.isin(adata.obs_names)\n",
    "MultiVI_Sst_obs_names = MultiVI_Sst_obs_names[to_keep]\n",
    "MultiVI_Sst_umap = MultiVI_Sst_umap[to_keep, :]\n",
    "adata = adata[MultiVI_Sst_obs_names, :].copy()\n",
    "adata.obsm[\"X_umap\"] = MultiVI_Sst_umap"
   ]
  },
  {
   "cell_type": "code",
   "execution_count": null,
   "id": "823cc9f3-91c8-4ee3-89e1-a8e817044281",
   "metadata": {},
   "outputs": [],
   "source": [
    "sc.pp.subsample(adata, fraction=1)\n",
    "\n",
    "adata.obs[\"RNAseq Supertype\"] = np.nan\n",
    "adata.obs.loc[adata.obs[\"modality\"] != \"accessibility\", \"RNAseq Supertype\"] = adata.obs.loc[adata.obs[\"modality\"] != \"accessibility\", \"Supertype\"]\n",
    "\n",
    "plt.rcParams[\"figure.figsize\"] = (5,5)\n",
    "colors = {\n",
    "    \"expression\": \"red\",\n",
    "    \"paired\": \"grey\",\n",
    "    \"accessibility\": \"lightgrey\"\n",
    "}\n",
    "\n",
    "cluster_colors = color_order.loc[:, [\"cluster_label\", \"cluster_color\"]].drop_duplicates()\n",
    "cluster_colors.index = cluster_colors[\"cluster_label\"].copy()\n",
    "cluster_colors = cluster_colors[\"cluster_color\"].to_dict()\n",
    "\n",
    "sc.pl.umap(\n",
    "    adata,\n",
    "    color=\"modality\",\n",
    "    size=2,\n",
    "    frameon=False,\n",
    "    palette=colors,\n",
    "    title=\"\",\n",
    "    save=\"_MultiVI Sst Modality.pdf\"\n",
    ")\n",
    "os.rename(os.path.join(pwd, \"figures\", \"umap_MultiVI Sst Modality.pdf\"), os.path.join(pwd, \"output\", \"Extended Data Figure 6e_umap_MultiVI Sst Modality.pdf\"))\n",
    "\n",
    "sc.pl.umap(\n",
    "    adata,\n",
    "    color=\"RNAseq Supertype\",\n",
    "    size=1,\n",
    "    frameon=False,\n",
    "    title=\"\",\n",
    "    legend_loc=\"on data\",\n",
    "    legend_fontsize=10,\n",
    "    sort_order=False,\n",
    "    na_in_legend=False,\n",
    "    palette=cluster_colors,\n",
    "    save=\"_RNAseq Supertype.pdf\"\n",
    ")\n",
    "os.rename(os.path.join(pwd, \"figures\", \"umap_RNAseq Supertype.pdf\"), os.path.join(pwd, \"output\", \"Extended Data Figure 6e_umap_RNAseq Supertype.pdf\"))\n",
    "\n",
    "plt.rcParams[\"figure.figsize\"] = (5,5)\n",
    "sc.pl.umap(\n",
    "    adata,\n",
    "    color=\"Supertype\",\n",
    "    size=1,\n",
    "    frameon=False,\n",
    "    title=\"\",\n",
    "    legend_loc=\"on data\",\n",
    "    legend_fontsize=10,\n",
    "    sort_order=False,\n",
    "    na_in_legend=False,\n",
    "    palette=cluster_colors,\n",
    "    save=\"_Supertype.pdf\"\n",
    ")\n",
    "os.rename(os.path.join(pwd, \"figures\", \"umap_Supertype.pdf\"), os.path.join(pwd, \"output\", \"Extended Data Figure 6e_umap_RNASupertype.pdf\"))\n"
   ]
  },
  {
   "cell_type": "markdown",
   "id": "03423f4d-1b3a-4fce-a5d6-fb37567543ba",
   "metadata": {},
   "source": [
    "### Clean up"
   ]
  },
  {
   "cell_type": "code",
   "execution_count": null,
   "id": "0bc3c1c4-d38a-4a34-8852-05939f1ee22f",
   "metadata": {},
   "outputs": [],
   "source": [
    "shutil.rmtree(os.path.join(pwd, \"figures\"))"
   ]
  }
 ],
 "metadata": {
  "kernelspec": {
   "display_name": "Python 3 (ipykernel)",
   "language": "python",
   "name": "python3"
  },
  "language_info": {
   "codemirror_mode": {
    "name": "ipython",
    "version": 3
   },
   "file_extension": ".py",
   "mimetype": "text/x-python",
   "name": "python",
   "nbconvert_exporter": "python",
   "pygments_lexer": "ipython3",
   "version": "3.11.8"
  }
 },
 "nbformat": 4,
 "nbformat_minor": 5
}
