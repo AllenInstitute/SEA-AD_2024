{
 "cells": [
  {
   "cell_type": "markdown",
   "id": "8193b7d7-4389-4df3-b6da-c235d4fe5b37",
   "metadata": {
    "tags": []
   },
   "source": [
    "### Load needed libraries"
   ]
  },
  {
   "cell_type": "code",
   "execution_count": 1,
   "id": "be61202f-0286-46cd-af9e-28c05e7a70c2",
   "metadata": {},
   "outputs": [],
   "source": [
    "import os\n",
    "import numpy as np\n",
    "import anndata\n",
    "import re\n",
    "import pandas as pd\n",
    "import seaborn as sns\n",
    "import scanpy as sc\n",
    "import matplotlib.pyplot as plt\n",
    "from datetime import datetime\n",
    "import warnings\n",
    "%matplotlib inline\n",
    "from helper_functions import *\n",
    "\n",
    "sc.settings.n_jobs = 32\n",
    "warnings.filterwarnings(\"ignore\")"
   ]
  },
  {
   "cell_type": "markdown",
   "id": "ea00dcdb-21d1-4c81-be84-c2847a7c3dae",
   "metadata": {
    "tags": []
   },
   "source": [
    "### Load needed datasets/files"
   ]
  },
  {
   "cell_type": "code",
   "execution_count": null,
   "id": "975ff85b-69de-452a-89e5-02e92d7a6202",
   "metadata": {},
   "outputs": [],
   "source": [
    "pseudotime = np.load(os.path.join(pwd, \"../Quantitative neuropathology/pseudotime.npy\"))\n",
    "ptime = pseudotime[:, np.argsort(pseudotime[1, :])]"
   ]
  },
  {
   "cell_type": "code",
   "execution_count": null,
   "id": "fdf6c284-3302-4aa3-86b0-3771758924ea",
   "metadata": {
    "tags": []
   },
   "outputs": [],
   "source": [
    "pwd = os.getcwd()\n",
    "quant_neuropath = pd.read_csv(os.path.join(pwd, \n",
    "                                           \"../Quantitative neuropathology/input/MTG/processed/all_quant_neuropath_by_donor_pivoted.2022-05-25.csv\"),\n",
    "                              index_col=0)\n",
    "\n",
    "pseudotime = np.load(os.path.join(pwd, \"../Quantitative neuropathology/pseudotime.npy\"))\n",
    "ptime = pseudotime[:, np.argsort(pseudotime[1, :])]\n",
    "\n",
    "# From Manuscript Supplementary Table 1\n",
    "Donors = pd.read_excel(os.path.join(pwd, \"input\", \"Figure 2 and Extended Data Figure 3 and 4\", \"Supplementary Table 1.xlsx\"), sheet_name=\"SEA-AD_Cohort_Metadata\")\n",
    "Donors = Donors[['Donor ID', 'Last CASI Score', 'Overall AD neuropathological Change', 'Thal', 'Braak', 'CERAD score']]\n",
    "\n",
    "# From https://sea-ad-single-cell-profiling.s3.amazonaws.com/index.html#MTG/RNAseq/\n",
    "metadata = pd.read_csv(pwd, \"input\", \"Figure 2 and Extended Data Figure 3 and 4\", \"SEAAD_MTG_RNAseq_all-nuclei_metadata.2024-02-13.csv\")\n",
    "metadata = metadata[['Donor ID', 'Continuous Pseudo-progression Score']]"
   ]
  },
  {
   "cell_type": "markdown",
   "id": "3b1bae5d-d271-4183-948e-09dc56fb0e00",
   "metadata": {
    "jp-MarkdownHeadingCollapsed": true,
    "tags": []
   },
   "source": [
    "### Figure 2c"
   ]
  },
  {
   "cell_type": "code",
   "execution_count": null,
   "id": "f9d46d73-eea9-43d0-8be3-82e2dc1a6509",
   "metadata": {},
   "outputs": [],
   "source": [
    "qn = quant_neuropath.copy()\n",
    "qn.drop(qn.columns[qn.columns.str.contains(\"Grey\")],axis=1, inplace=True)\n",
    "qn.index=qn['case number']\n",
    "idx = np.array([np.where(qn.index ==int(c_))[0] for c_ in ptime[0, :]]).flatten()\n",
    "qn = qn.iloc[idx, :]\n",
    "qn['ptime'] = 1. - ptime[1, :]"
   ]
  },
  {
   "cell_type": "code",
   "execution_count": null,
   "id": "29639428-0338-434d-9a0c-426a4a5515a6",
   "metadata": {},
   "outputs": [],
   "source": [
    "plt.rcParams['figure.figsize'] = [20, 20]\n",
    "a = sns.clustermap(-qn.corr(), cmap=\"RdBu\", metric=\"correlation\")\n",
    "\n",
    "plt.savefig('output/Figure_2c_correlation_plot.pdf', bbox_inches='tight')\n",
    "plt.show()"
   ]
  },
  {
   "cell_type": "markdown",
   "id": "6e17f1a6-c031-4a7c-b6d5-48f987789def",
   "metadata": {
    "jp-MarkdownHeadingCollapsed": true,
    "tags": []
   },
   "source": [
    "### Figure 2d, e"
   ]
  },
  {
   "cell_type": "code",
   "execution_count": null,
   "id": "10050b44-dbc3-4484-b50f-77b5d1e576f9",
   "metadata": {},
   "outputs": [],
   "source": [
    "# Pre-processing\n",
    "\n",
    "grey_matter = quant_neuropath.filter(like=\"Grey\")\n",
    "grey_matter.index = quant_neuropath['case number']\n",
    "idx = np.array([np.where(grey_matter.index ==int(c_))[0] for c_ in ptime[0, :]]).flatten()\n",
    "\n",
    "grey_matter = grey_matter.iloc[idx, :]\n",
    "selection = [\"percent 6e10 positive area_Grey matter\", \"percent AT8 positive area_Grey matter\", \n",
    "            \"percent pTDP43 positive area_Grey matter\",\"percent aSyn positive area_Grey matter\",\n",
    "            \"number of Hematoxylin positive nuclei per area_Grey matter\", \n",
    "            \"percent GFAP positive area_Grey matter\",\n",
    "            \"number of Iba1 positive cells per area_Grey matter\",\n",
    "            \"number of NeuN positive cells per area_Grey matter\"]\n",
    "\n",
    "mm = grey_matter[selection].apply(lambda x: (x-x.mean())/x.std(), axis = 0).to_numpy()\n",
    "smooth_mm = mm.copy()\n",
    "for i in [0, 1, 4,5,6,7]:\n",
    "    smooth_mm[:, i] = movingaverage_nan(mm[:, i], 10)"
   ]
  },
  {
   "cell_type": "code",
   "execution_count": null,
   "id": "10061de3-1980-4e59-a523-d8aa6e0f18b5",
   "metadata": {},
   "outputs": [],
   "source": [
    "# Creating Plots\n",
    "\n",
    "plt.rcParams['figure.figsize'] = [5, 5]\n",
    "plt.subplot(3,1,1)\n",
    "sns.heatmap(-smooth_mm[::-1, :2].T, cmap=\"RdBu\", yticklabels=selection[:2])\n",
    "plt.subplot(3,1,2)\n",
    "sns.heatmap(-smooth_mm[::-1, 2:4].T, cmap=\"RdBu\", yticklabels=selection[2:4])\n",
    "plt.subplot(3,1,3)\n",
    "sns.heatmap(-smooth_mm[::-1, 4:].T, cmap=\"RdBu\", yticklabels=selection[4:])\n",
    "plt.savefig('output/Figure_2d_2e_PathologyCellComposition.pdf', bbox_inches='tight')\n",
    "plt.show()"
   ]
  },
  {
   "cell_type": "markdown",
   "id": "fdba369e-6901-4189-b936-33c7fa49ca00",
   "metadata": {
    "jp-MarkdownHeadingCollapsed": true,
    "tags": []
   },
   "source": [
    "### Figure 2f"
   ]
  },
  {
   "cell_type": "code",
   "execution_count": null,
   "id": "5773d836-b364-4aee-a953-97865d25b0da",
   "metadata": {},
   "outputs": [],
   "source": [
    "md = metadata.drop_duplicates().dropna(0).merge(Donors, on='Donor ID').sort_values('Continuous Pseudo-progression Score')\n",
    "md = md.iloc[:, [2, 3, 4, 5]]\n",
    "md = md.to_numpy()"
   ]
  },
  {
   "cell_type": "code",
   "execution_count": null,
   "id": "1d54484e-dbec-48bd-acb7-7b0407f09d70",
   "metadata": {},
   "outputs": [],
   "source": [
    "my_dict = {'Not AD': 0.0, 'Low': 1.0, 'Intermediate': 2.0, 'High':3.0}\n",
    "for i in np.arange(md.shape[0]):\n",
    "    md[i, 1] = my_dict[md[i, 1]]\n",
    "\n",
    "my_dict = {'Thal 0': 0.0, 'Thal 1': 1.0, 'Thal 2': 2.0, 'Thal 3':3.0,\n",
    "      'Thal 4':4.0, 'Thal 5': 5.0}\n",
    "for i in np.arange(md.shape[0]):\n",
    "    md[i, 2] = my_dict[md[i, 2]]\n",
    "\n",
    "my_dict = {'Braak 0':0.0, 'Braak II':1.0, 'Braak III':2.0, \n",
    "           'Braak IV':3.0, 'Braak V':4.0, 'Braak VI':5.0}\n",
    "for i in np.arange(md.shape[0]):\n",
    "    md[i, 3] = my_dict[md[i, 3]]\n",
    "\n",
    "smooth_md = md.copy()\n",
    "for i in np.arange(4):\n",
    "    smooth_md[:, i] = movingaverage_nan(md[:, i], 10)\n"
   ]
  },
  {
   "cell_type": "code",
   "execution_count": null,
   "id": "14eb28a1-72a0-4ab7-b15f-1413de129bde",
   "metadata": {},
   "outputs": [],
   "source": [
    "# Generate Figures\n",
    "\n",
    "plt.rcParams['figure.figsize'] = [5, 0.6]\n",
    "sns.heatmap(np.float64(-smooth_md[:, 0].reshape(84, 1)).T, cmap=\"RdBu\", yticklabels=['CASI'])\n",
    "plt.savefig('output/Figure_2f_DonorDemographicsA.pdf', bbox_inches='tight')\n",
    "plt.show()\n",
    "\n",
    "plt.rcParams['figure.figsize'] = [5, 2.5]\n",
    "sns.heatmap(np.float64(-smooth_md[:, 1:]).T, cmap=\"RdBu\", yticklabels=['ADNC', 'THAL', 'BRAAK'])\n",
    "plt.savefig('output/Figure_2f_DonorDemographicsB.pdf', bbox_inches='tight')\n",
    "plt.show()\n"
   ]
  },
  {
   "cell_type": "markdown",
   "id": "856aa58a-7e91-42cd-8d1b-7dcb43801a1d",
   "metadata": {
    "jp-MarkdownHeadingCollapsed": true,
    "tags": []
   },
   "source": [
    "### Figure 2 g, h, i"
   ]
  },
  {
   "cell_type": "code",
   "execution_count": null,
   "id": "31bc955d-d390-4538-b1b1-d0cf31a52116",
   "metadata": {},
   "outputs": [],
   "source": [
    "# Panel 2g Top\n",
    "plt.rcParams['figure.figsize'] = [5, 4]\n",
    "\n",
    "sel_names = ['number of 6e10 positive objects per area_Layer1', 'number of 6e10 positive objects per area_Layer2',\n",
    "            'number of 6e10 positive objects per area_Layer3', 'number of 6e10 positive objects per area_Layer4',\n",
    "            'number of 6e10 positive objects per area_Layer5-6']\n",
    "\n",
    "for i in np.arange(5):\n",
    "    plt.plot(1. - ptime[1, :], qn[sel_names[i]].to_numpy(), '.', c=sns.color_palette(\"hls\", 5)[i])\n",
    "    xgrid, mean, stderr = preprocess_smooth(\"ptime\", sel_names[i], qn)\n",
    "    plt.fill_between(xgrid, mean-2*stderr, mean+2*stderr,  alpha=0.01, color=\"black\")\n",
    "    plt.plot(xgrid, mean, c=sns.color_palette(\"hls\", 5)[i])\n",
    "    plt.title(\"Plaque Number per area Cluster 3\")\n",
    "\n",
    "plt.savefig('output/Figure_2g_Top_PlaqueNumber.pdf', bbox_inches='tight')"
   ]
  },
  {
   "cell_type": "code",
   "execution_count": null,
   "id": "e00c0142-7a35-4d45-ace0-2d1b739b885e",
   "metadata": {},
   "outputs": [],
   "source": [
    "# Panel 2g Bottom\n",
    "plt.rcParams['figure.figsize'] = [5, 4]\n",
    "\n",
    "sel_names = ['number of AT8 positive cells per area_Layer1', 'number of AT8 positive cells per area_Layer2', \n",
    "            'number of AT8 positive cells per area_Layer3', 'number of AT8 positive cells per area_Layer4', \n",
    "            'number of AT8 positive cells per area_Layer5-6', ]\n",
    "\n",
    "for i in np.arange(5):\n",
    "    plt.plot(1-ptime[1, :], qn[sel_names[i]].to_numpy(), '.', c=sns.color_palette(\"hls\", 5)[i])\n",
    "    xgrid, mean, stderr = preprocess_smooth(\"ptime\", sel_names[i], qn)\n",
    "    plt.fill_between(xgrid, mean-2*stderr, mean+2*stderr,  alpha=0.01, color=\"black\")\n",
    "    plt.plot(xgrid, mean, c=sns.color_palette(\"hls\", 5)[i])\n",
    "    plt.title(\"Tangles per area Cluster 3\")\n",
    "\n",
    "plt.savefig('output/Figure_2g_Bottom_Tangles.pdf', bbox_inches='tight')"
   ]
  },
  {
   "cell_type": "code",
   "execution_count": null,
   "id": "544d5eac-d8d9-40f0-b8ce-3aeac17366e3",
   "metadata": {
    "tags": []
   },
   "outputs": [],
   "source": [
    "# Panel 2h\n",
    "plt.rcParams['figure.figsize'] = [5, 4]\n",
    "sel_names = ['average 6e10 positive object median diameter_Layer1', 'average 6e10 positive object median diameter_Layer2', \n",
    "             'average 6e10 positive object median diameter_Layer3', 'average 6e10 positive object median diameter_Layer4', \n",
    "             'average 6e10 positive object median diameter_Layer5-6']\n",
    "\n",
    "for i in np.arange(5):\n",
    "    plt.plot(ptime[1, ::-1], qn[sel_names[i]].to_numpy(), '.', c=sns.color_palette(\"hls\", 5)[i])\n",
    "    xgrid, mean, stderr = preprocess_smooth(\"ptime\", sel_names[i], qn)\n",
    "    plt.fill_between(xgrid, mean-2*stderr, mean+2*stderr,  alpha=0.01, color=\"black\")\n",
    "    plt.plot(xgrid, mean, c=sns.color_palette(\"hls\", 5)[i])\n",
    "    plt.title(\"Plaque size Cluster 3\")\n",
    "\n",
    "plt.savefig('output/Figure_2h_PlaqueSize.pdf', bbox_inches='tight')"
   ]
  },
  {
   "cell_type": "code",
   "execution_count": null,
   "id": "378f8690-f48d-4370-93af-d3418fdcff6c",
   "metadata": {},
   "outputs": [],
   "source": [
    "# Panel 2i\n",
    "plt.rcParams['figure.figsize'] = [5, 4]\n",
    "sel_names = ['number of NeuN positive cells per area_Layer1', 'number of NeuN positive cells per area_Layer2',\n",
    "            'number of NeuN positive cells per area_Layer3', 'number of NeuN positive cells per area_Layer4',\n",
    "            'number of NeuN positive cells per area_Layer5-6',]\n",
    "\n",
    "for i in np.arange(5):\n",
    "    plt.plot(1. - ptime[1, :], qn[sel_names[i]].to_numpy(), '.', c=sns.color_palette(\"hls\", 5)[i])\n",
    "    xgrid, mean, stderr = preprocess_smooth(\"ptime\", sel_names[i], qn)\n",
    "    plt.fill_between(xgrid, mean-2*stderr, mean+2*stderr,  alpha=0.01, color=\"black\")\n",
    "    plt.plot(xgrid, mean, c=sns.color_palette(\"hls\", 5)[i])\n",
    "    plt.title(\"Neurons per area Cluster 7\")\n",
    "\n",
    "plt.savefig('output/Figure_2i_NeuronsPerArea.pdf', bbox_inches='tight')\n"
   ]
  },
  {
   "cell_type": "markdown",
   "id": "debfb7cb-1c16-428a-878e-2b6d93a24d07",
   "metadata": {
    "jp-MarkdownHeadingCollapsed": true,
    "tags": []
   },
   "source": [
    "### Figure 2 g, h, i - GAM Calculation"
   ]
  },
  {
   "cell_type": "code",
   "execution_count": null,
   "id": "bfe08e84-f9fc-4740-9795-8204999d6e97",
   "metadata": {},
   "outputs": [],
   "source": [
    "qn = quant_neuropath.copy()\n",
    "qn.drop(qn.columns[qn.columns.str.contains(\"Grey\")],axis=1, inplace=True)\n",
    "\n",
    "qn.index=qn['case number']\n",
    "idx = np.array([np.where(qn.index ==int(c_))[0] for c_ in ptime[0, :]]).flatten()\n",
    "qn = qn.iloc[idx, :]\n",
    "qn['ptime'] = 1. - ptime[1, :]\n",
    "\n",
    "\n",
    "qn.iloc[np.where(qn.index == 7237)[0], np.where(qn.columns==\"percent of Iba1 and 6e10 positive co-localized objects_Layer2\")[0]] = 0\n",
    "qn.iloc[np.where(qn.index == 7237)[0], np.where(qn.columns==\"percent of Iba1 and 6e10 positive co-localized objects_Layer4\")[0]] = 0\n",
    "\n",
    "\n",
    "qn['nothing']=0\n",
    "\n",
    "formula = \"nothing\"\n",
    "spline_var = \"ptime\""
   ]
  },
  {
   "cell_type": "code",
   "execution_count": null,
   "id": "3273fe27-8834-4121-b6de-1ee1692bda31",
   "metadata": {},
   "outputs": [],
   "source": [
    "# Figure 2g bottom - GAM Plaque size\n",
    "sel_names = ['number of AT8 positive cells per area_Layer1', 'number of AT8 positive cells per area_Layer2', \n",
    "            'number of AT8 positive cells per area_Layer3', 'number of AT8 positive cells per area_Layer4', \n",
    "            'number of AT8 positive cells per area_Layer5-6', ]\n",
    "generate_results(sel_names, 'output/Figure_2g_Bottom_Tangles-GAM.pdf')"
   ]
  },
  {
   "cell_type": "code",
   "execution_count": null,
   "id": "3448d8fc-b3a4-4f88-9e1b-94b2dee88bdf",
   "metadata": {},
   "outputs": [],
   "source": [
    "# Figure 2g top - GAM Plaque size\n",
    "sel_names = ['number of 6e10 positive objects per area_Layer1', 'number of 6e10 positive objects per area_Layer2',\n",
    "            'number of 6e10 positive objects per area_Layer3', 'number of 6e10 positive objects per area_Layer4',\n",
    "            'number of 6e10 positive objects per area_Layer5-6']\n",
    "\n",
    "generate_results(sel_names, 'output/Figure_2g_Top_PlaqueNumber-GAM.pdf')"
   ]
  },
  {
   "cell_type": "code",
   "execution_count": null,
   "id": "707b3918-4d7d-4863-bb20-529119639b9c",
   "metadata": {},
   "outputs": [],
   "source": [
    "# Figure 2h - GAM Plaque size\n",
    "sel_names = ['average 6e10 positive object median diameter_Layer1', 'average 6e10 positive object median diameter_Layer2', \n",
    "             'average 6e10 positive object median diameter_Layer3', 'average 6e10 positive object median diameter_Layer4', \n",
    "             'average 6e10 positive object median diameter_Layer5-6']\n",
    "generate_results(sel_names, \"output/Figure_2h_PlaqueSize-GAM.pdf\")"
   ]
  },
  {
   "cell_type": "code",
   "execution_count": null,
   "id": "7587ff6f-72de-4a9b-a4d9-d1f664e3bc69",
   "metadata": {},
   "outputs": [],
   "source": [
    "# Figure 2I - GAM Neurons per area\n",
    "sel_names = ['number of NeuN positive cells per area_Layer1', 'number of NeuN positive cells per area_Layer2',\n",
    "            'number of NeuN positive cells per area_Layer3', 'number of NeuN positive cells per area_Layer4',\n",
    "            'number of NeuN positive cells per area_Layer5-6',]\n",
    "generate_results(sel_names, \"output/Figure_2i_NeuronsPerArea-GAM.pdf\")"
   ]
  },
  {
   "cell_type": "markdown",
   "id": "a92240dc-272a-4f12-b341-adbdbe53edf1",
   "metadata": {
    "jp-MarkdownHeadingCollapsed": true,
    "tags": []
   },
   "source": [
    "### Extended Data Figure 4b,c"
   ]
  },
  {
   "cell_type": "code",
   "execution_count": null,
   "id": "f6e822f1-6bc6-4edd-bc2e-f457b64a0590",
   "metadata": {},
   "outputs": [],
   "source": [
    "md = metadata.iloc[idx, [2, 4, 59, 70, 71, 72]]\n",
    "md['ptime'] = 1. - ptime[1, :]\n",
    "md_np = md.to_numpy()\n",
    "md_np[md_np[:, 0] == 'Other / Special Interest', 0]='ADRC Clinical Core'\n",
    "md_np = np.hstack([md_np, new_prs[:, None]])\n",
    "\n",
    "plt.rcParams['figure.figsize'] = [5, 10]\n",
    "\n",
    "plt.subplot(7, 1, 1)\n",
    "plt.plot(1-ptime[1, :], md_np[:, 0], '.', c=\"black\")\n",
    "\n",
    "plt.subplot(7, 1, 2)\n",
    "plt.plot(1-ptime[1, :],md_np[:, 1], '.', c=\"black\")\n",
    "xgrid, mean, stderr = preprocess_smooth(\"ptime\", \"age_at_death\", md)\n",
    "plt.fill_between(xgrid, mean-2*stderr, mean+2*stderr,  alpha=0.1, color=\"black\")\n",
    "plt.plot(xgrid, mean, c=\"black\")\n",
    "\n",
    "plt.subplot(7, 1, 3)\n",
    "plt.plot(1-ptime[1, :], md_np[:, 2], '.', c=\"black\")\n",
    "xgrid, mean, stderr = preprocess_smooth(\"ptime\", \"ch_lastcasiscore\", md)\n",
    "plt.fill_between(xgrid, mean-2*stderr, mean+2*stderr,  alpha=0.1, color=\"black\")\n",
    "plt.plot(xgrid, mean, c=\"black\")\n",
    "\n",
    "plt.subplot(7, 1, 4)\n",
    "plt.plot(1-ptime[1, :], md_np[:, 3], '.', c=\"black\")\n",
    "my_dict = {'Not AD': 3.0, 'Low': 2.0, 'Intermediate': 1.0, 'High':0.0}\n",
    "md['numeric_adnc']=md['adneurochange']\n",
    "md['numeric_adnc'] = md['numeric_adnc'].replace(my_dict)\n",
    "xgrid, mean, stderr = preprocess_smooth(\"ptime\", \"numeric_adnc\", md)\n",
    "plt.fill_between(xgrid, mean-2*stderr, mean+2*stderr,  alpha=0.1, color=\"black\")\n",
    "plt.plot(xgrid, mean, c=\"black\")\n",
    "\n",
    "\n",
    "plt.subplot(7, 1, 5)\n",
    "plt.plot(1-ptime[1, :], md_np[:, 4], '.', c=\"black\")\n",
    "my_dict = {'Thal 0': 5.0, 'Thal 1': 4.0, 'Thal 2': 3.0, 'Thal 3':2.0,\n",
    "      'Thal 4':1.0, 'Thal 5': 0.0}\n",
    "md['numeric_thal']=md['thal']\n",
    "md['numeric_thal'] = md['numeric_thal'].replace(my_dict)\n",
    "xgrid, mean, stderr = preprocess_smooth(\"ptime\", \"numeric_thal\", md)\n",
    "plt.fill_between(xgrid, mean-2*stderr, mean+2*stderr,  alpha=0.1, color=\"black\")\n",
    "plt.plot(xgrid, mean, c=\"black\")\n",
    "\n",
    "\n",
    "plt.subplot(7, 1, 6)\n",
    "plt.plot(1-ptime[1, :], md_np[:, 5], '.', c=\"black\")\n",
    "my_dict = {'Braak 0':5.0, 'Braak II':4.0, 'Braak III':3.0, \n",
    "           'Braak IV':2.0, 'Braak V':1.0, 'Braak VI':0.0}\n",
    "md['numeric_braak']=md['braak']\n",
    "md['numeric_braak'] = md['numeric_braak'].replace(my_dict)\n",
    "xgrid, mean, stderr = preprocess_smooth(\"ptime\", \"numeric_braak\", md)\n",
    "plt.fill_between(xgrid, mean-2*stderr, mean+2*stderr,  alpha=0.1, color=\"black\")\n",
    "plt.plot(xgrid, mean, c=\"black\")\n",
    "\n",
    "\n",
    "plt.subplot(7, 1, 7)\n",
    "plt.plot(1-ptime[1, :], md_np[:, 7], '.', c=\"black\")\n",
    "temp = md_np[:, 7]\n",
    "temp[temp==0] = np.nan\n",
    "md['prs'] = temp\n",
    "xgrid, mean, stderr = preprocess_smooth(\"ptime\", \"prs\", md)\n",
    "plt.fill_between(xgrid, mean-2*stderr, mean+2*stderr,  alpha=0.1, color=\"black\")\n",
    "plt.plot(xgrid, mean, c=\"black\")\n",
    "\n",
    "\n",
    "plt.savefig('output/Extended Data Figure 4bc_metadata_plots_v2.pdf', bbox_inches='tight')\n",
    "plt.show()"
   ]
  },
  {
   "cell_type": "markdown",
   "id": "bdf46034-d345-424c-909b-b65c0776e429",
   "metadata": {
    "jp-MarkdownHeadingCollapsed": true,
    "tags": []
   },
   "source": [
    "### Extended Data Figure 4d"
   ]
  },
  {
   "cell_type": "code",
   "execution_count": null,
   "id": "161c766a-c283-4bae-a997-74b801c62ac0",
   "metadata": {},
   "outputs": [],
   "source": [
    "plt.rcParams['figure.figsize'] = [5, 4]\n",
    "\n",
    "sel_names = ['number of pTDP43 positive cells per area_Layer1', 'number of pTDP43 positive cells per area_Layer2',\n",
    "            'number of pTDP43 positive cells per area_Layer3', 'number of pTDP43 positive cells per area_Layer4',\n",
    "            'number of pTDP43 positive cells per area_Layer5-6',]\n",
    "\n",
    "for i in np.arange(5):\n",
    "    plt.plot(1. - ptime[1, :], qn[sel_names[i]].to_numpy(), '.', c=sns.color_palette(\"hls\", 5)[i])\n",
    "    plt.title(\"Cluster 1 Sparse pTDP-43\")\n",
    "\n",
    "plt.savefig(\"output/Extended Data Figure 4d_pTDP43_per_area.pdf\", bbox_inches='tight')"
   ]
  },
  {
   "cell_type": "markdown",
   "id": "b426d653-1d64-4f5d-92d0-b0c6079e9b49",
   "metadata": {},
   "source": [
    "### Extended Data Figure 4e"
   ]
  },
  {
   "cell_type": "markdown",
   "id": "4b927c9e-b624-4993-b6f5-a48a4dc642c4",
   "metadata": {
    "jp-MarkdownHeadingCollapsed": true,
    "tags": []
   },
   "source": [
    "#### Top Left"
   ]
  },
  {
   "cell_type": "code",
   "execution_count": null,
   "id": "1a9c2e62-e6a2-47be-9239-7127bc4fd1c7",
   "metadata": {},
   "outputs": [],
   "source": [
    "plt.rcParams['figure.figsize'] = [5, 4]\n",
    "sel_names = ['number of Hematoxylin positive nuclei per area_Layer1', 'number of Hematoxylin positive nuclei per area_Layer2',\n",
    "            'number of Hematoxylin positive nuclei per area_Layer3', 'number of Hematoxylin positive nuclei per area_Layer4',\n",
    "            'number of Hematoxylin positive nuclei per area_Layer5-6']\n",
    "\n",
    "for i in np.arange(5):\n",
    "    plt.plot(1. - ptime[1, :], qn[sel_names[i]].to_numpy(), '.', c=sns.color_palette(\"hls\", 5)[i])\n",
    "    xgrid, mean, stderr = preprocess_smooth(\"ptime\", sel_names[i], qn)\n",
    "    plt.fill_between(xgrid, mean-2*stderr, mean+2*stderr,  alpha=0.01, color=\"black\")\n",
    "    plt.plot(xgrid, mean, c=sns.color_palette(\"hls\", 5)[i])\n",
    "    plt.title('number of Hematoxylin positive nuclei')\n",
    "\n",
    "plt.savefig(\"output/Extended Data Figure 4e_TopLeftA_NumberHematoxilin.pdf\", bbox_inches='tight')"
   ]
  },
  {
   "cell_type": "code",
   "execution_count": null,
   "id": "deef312a-db1a-4d62-b5ad-08f802f1d748",
   "metadata": {},
   "outputs": [],
   "source": [
    "plt.rcParams['figure.figsize'] = [5, 4]\n",
    "sel_names = ['average Iba1 positive process length per cell_Layer1', 'average Iba1 positive process length per cell_Layer2',\n",
    "            'average Iba1 positive process length per cell_Layer3', 'average Iba1 positive process length per cell_Layer4',\n",
    "            'average Iba1 positive process length per cell_Layer5-6']\n",
    "\n",
    "for i in np.arange(5):\n",
    "    plt.plot(1. - ptime[1, :], qn[sel_names[i]].to_numpy(), '.', c=sns.color_palette(\"hls\", 5)[i])\n",
    "    xgrid, mean, stderr = preprocess_smooth(\"ptime\", sel_names[i], qn)\n",
    "    plt.fill_between(xgrid, mean-2*stderr, mean+2*stderr,  alpha=0.01, color=\"black\")\n",
    "    plt.plot(xgrid, mean, c=sns.color_palette(\"hls\", 5)[i])\n",
    "    plt.title('average Iba1 positive process length per cell')\n",
    "\n",
    "plt.savefig(\"output/Extended Data Figure 4e_TopLeftB_AvgIBA1processlength.pdf\", bbox_inches='tight')"
   ]
  },
  {
   "cell_type": "code",
   "execution_count": null,
   "id": "d494c7ee-f710-49e4-9367-c861e55218e1",
   "metadata": {},
   "outputs": [],
   "source": [
    "plt.rcParams['figure.figsize'] = [5, 4]\n",
    "\n",
    "sel_names = ['number of inactivated Iba1 positive cells per area_Layer1', 'number of inactivated Iba1 positive cells per area_Layer2',\n",
    "            'number of inactivated Iba1 positive cells per area_Layer3', 'number of inactivated Iba1 positive cells per area_Layer4',\n",
    "            'number of inactivated Iba1 positive cells per area_Layer5-6']\n",
    "\n",
    "for i in np.arange(5):\n",
    "    plt.plot(1. - ptime[1, :], qn[sel_names[i]].to_numpy(), '.', c=sns.color_palette(\"hls\", 5)[i])\n",
    "    xgrid, mean, stderr = preprocess_smooth(\"ptime\", sel_names[i], qn)\n",
    "    plt.fill_between(xgrid, mean-2*stderr, mean+2*stderr,  alpha=0.01, color=\"black\")\n",
    "    plt.plot(xgrid, mean, c=sns.color_palette(\"hls\", 5)[i])\n",
    "    plt.title('number of inactivated Iba1-ir cells per area')\n",
    "\n",
    "plt.savefig(\"output/Extended Data Figure 4e_TopLeftC_numberInactivatedIBA1.pdf\", bbox_inches='tight')"
   ]
  },
  {
   "cell_type": "code",
   "execution_count": null,
   "id": "b84c280d-826f-4deb-b472-519ebc38db52",
   "metadata": {},
   "outputs": [],
   "source": [
    "plt.rcParams['figure.figsize'] = [5, 4]\n",
    "sel_names = ['percent Iba1 positive area_Layer1', 'percent Iba1 positive area_Layer2', \n",
    "            'percent Iba1 positive area_Layer3', 'percent Iba1 positive area_Layer4', \n",
    "            'percent Iba1 positive area_Layer5-6', ]\n",
    "\n",
    "for i in np.arange(5):\n",
    "    plt.plot(1. - ptime[1, :], qn[sel_names[i]].to_numpy(), '.', c=sns.color_palette(\"hls\", 5)[i])\n",
    "    xgrid, mean, stderr = preprocess_smooth(\"ptime\", sel_names[i], qn)\n",
    "    plt.fill_between(xgrid, mean-2*stderr, mean+2*stderr,  alpha=0.01, color=\"black\")\n",
    "    plt.plot(xgrid, mean, c=sns.color_palette(\"hls\", 5)[i])\n",
    "    plt.title(sel_names[i])\n",
    "\n",
    "plt.savefig(\"output/Extended Data Figure 4e_TopLeftD_percentIBA1.pdf\", bbox_inches='tight')"
   ]
  },
  {
   "cell_type": "markdown",
   "id": "a52b82de-a57e-4a90-b940-4ae47fe5ff23",
   "metadata": {
    "jp-MarkdownHeadingCollapsed": true,
    "tags": []
   },
   "source": [
    "#### Bottom Left"
   ]
  },
  {
   "cell_type": "code",
   "execution_count": null,
   "id": "7ecfd056-7d44-4b19-9b16-63d141936a31",
   "metadata": {},
   "outputs": [],
   "source": [
    "plt.rcParams['figure.figsize'] = [5, 4]\n",
    "\n",
    "sel_names = ['number of positive aSyn cells per area_Layer1', 'number of positive aSyn cells per area_Layer2',\n",
    "            'number of positive aSyn cells per area_Layer3', 'number of positive aSyn cells per area_Layer4',\n",
    "            'number of positive aSyn cells per area_Layer5-6',]\n",
    "\n",
    "for i in np.arange(5):\n",
    "    plt.plot(1. - ptime[1, :], qn[sel_names[i]].to_numpy(), '.', c=sns.color_palette(\"hls\", 5)[i])\n",
    "    plt.title('number of positive aSyn cells per area')\n",
    "\n",
    "plt.savefig(\"output/Extended Data Figure 4e_BottomLeft_aSyn.pdf\", bbox_inches='tight')"
   ]
  },
  {
   "cell_type": "markdown",
   "id": "5481be38-fdec-4b9a-9e11-0a2875372963",
   "metadata": {
    "jp-MarkdownHeadingCollapsed": true,
    "tags": []
   },
   "source": [
    "#### Top Right"
   ]
  },
  {
   "cell_type": "code",
   "execution_count": null,
   "id": "a1b57898-7ec1-45dd-ba17-52f1975b1522",
   "metadata": {},
   "outputs": [],
   "source": [
    "plt.rcParams['figure.figsize'] = [5, 4]\n",
    "\n",
    "sel_names = ['percent GFAP positive area_Layer1', 'percent GFAP positive area_Layer2',\n",
    "            'percent GFAP positive area_Layer3', 'percent GFAP positive area_Layer4',\n",
    "            'percent GFAP positive area_Layer5-6']\n",
    "\n",
    "for i in np.arange(5):\n",
    "    plt.plot(1. - ptime[1, :], qn[sel_names[i]].to_numpy(), '.', c=sns.color_palette(\"hls\", 5)[i])\n",
    "    xgrid, mean, stderr = preprocess_smooth(\"ptime\", sel_names[i], qn)\n",
    "    plt.fill_between(xgrid, mean-2*stderr, mean+2*stderr,  alpha=0.01, color=\"black\")\n",
    "    plt.plot(xgrid, mean, c=sns.color_palette(\"hls\", 5)[i])\n",
    "    plt.title('percent GFAP positive area')\n",
    "\n",
    "plt.savefig(\"output/Extended Data Figure 4e_TopRIght_percentGFAP.pdf\", bbox_inches='tight')"
   ]
  },
  {
   "cell_type": "markdown",
   "id": "62333c73-ae13-4e9b-9805-ce9f3c083725",
   "metadata": {
    "jp-MarkdownHeadingCollapsed": true,
    "tags": []
   },
   "source": [
    "#### Bottom Right"
   ]
  },
  {
   "cell_type": "code",
   "execution_count": null,
   "id": "4dedd92e-5a85-4022-9859-22a53bcec0cf",
   "metadata": {},
   "outputs": [],
   "source": [
    "plt.rcParams['figure.figsize'] = [5, 4]\n",
    "sel_names = ['average Hematoxylin positive nucleus area_Layer1', 'average Hematoxylin positive nucleus area_Layer2', \n",
    "            'average Hematoxylin positive nucleus area_Layer3', 'average Hematoxylin positive nucleus area_Layer4', \n",
    "            'average Hematoxylin positive nucleus area_Layer5-6', ]\n",
    "\n",
    "for i in np.arange(5):\n",
    "    plt.plot(1. - ptime[1, :], qn[sel_names[i]].to_numpy(), '.', c=sns.color_palette(\"hls\", 5)[i])\n",
    "    xgrid, mean, stderr = preprocess_smooth(\"ptime\", sel_names[i], qn)\n",
    "    plt.fill_between(xgrid, mean-2*stderr, mean+2*stderr,  alpha=0.01, color=\"black\")\n",
    "    plt.plot(xgrid, mean, c=sns.color_palette(\"hls\", 5)[i])\n",
    "    plt.title('average Hematoxylin positive nucleus area')\n",
    "\n",
    "plt.savefig(\"output/Extended Data Figure 4e_BottomRight_avgHemNucArea.pdf\", bbox_inches='tight')"
   ]
  }
 ],
 "metadata": {
  "kernelspec": {
   "display_name": "Python 3 (ipykernel)",
   "language": "python",
   "name": "python3"
  },
  "language_info": {
   "codemirror_mode": {
    "name": "ipython",
    "version": 3
   },
   "file_extension": ".py",
   "mimetype": "text/x-python",
   "name": "python",
   "nbconvert_exporter": "python",
   "pygments_lexer": "ipython3",
   "version": "3.11.8"
  }
 },
 "nbformat": 4,
 "nbformat_minor": 5
}
