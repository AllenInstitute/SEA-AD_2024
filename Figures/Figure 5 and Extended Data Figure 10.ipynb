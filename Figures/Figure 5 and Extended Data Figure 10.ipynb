{
 "cells": [
  {
   "cell_type": "markdown",
   "id": "be09de9c-5742-451d-844b-cd022ca1cb2c",
   "metadata": {},
   "source": [
    "### Load needed libraries"
   ]
  },
  {
   "cell_type": "code",
   "execution_count": null,
   "id": "66695d8c-c63b-425c-a357-e842438b2581",
   "metadata": {
    "tags": []
   },
   "outputs": [],
   "source": [
    "import os\n",
    "import shutil\n",
    "import scanpy as sc\n",
    "import pandas as pd\n",
    "import numpy as np\n",
    "import re\n",
    "import seaborn as sns\n",
    "import matplotlib\n",
    "import copy\n",
    "from matplotlib import pyplot as plt\n",
    "from matplotlib import cm as cm\n",
    "%matplotlib inline\n",
    "from scipy import stats as sp_stats\n",
    "import warnings\n",
    "from datetime import datetime\n",
    "from helper_functions import *\n",
    "\n",
    "warnings.filterwarnings(\"ignore\")\n",
    "sc.settings.n_jobs = 32\n",
    "sc.set_figure_params(scanpy=True, dpi=100, dpi_save=500, frameon=False, vector_friendly=True, figsize=(10,10), format='png')\n",
    "matplotlib.rcParams['pdf.fonttype'] = 42\n",
    "matplotlib.rcParams[\"axes.grid\"] = False\n",
    "\n",
    "pwd = os.getcwd()"
   ]
  },
  {
   "cell_type": "markdown",
   "id": "b6225511-46fc-487b-a0bf-9d3ea7575759",
   "metadata": {},
   "source": [
    "### Load the needed data files"
   ]
  },
  {
   "cell_type": "code",
   "execution_count": null,
   "id": "f5ef8a45-65f0-495e-90fa-fe9d8d652cc1",
   "metadata": {
    "tags": []
   },
   "outputs": [],
   "source": [
    "# Cluster order and colors\n",
    "color_order = pd.read_csv(os.path.join(pwd, \"input\", \"cluster_order_and_colors.csv\"))\n",
    "\n",
    "# From https://sea-ad-single-cell-profiling.s3.amazonaws.com/index.html#MTG/RNAseq/Supplementary%20Information/\n",
    "pvalues = sc.read_h5ad(os.path.join(pwd, \"input\", \"Figure 5 and Extended Data Figure 10\", \"pvalues.h5ad\"))\n",
    "effect_sizes = sc.read_h5ad(os.path.join(pwd, \"input\", \"Figure 5 and Extended Data Figure 10\", \"effect_sizes.h5ad\"))\n",
    "effect_sizes_early = sc.read_h5ad(os.path.join(pwd, \"input\", \"Figure 5 and Extended Data Figure 10\", \"effect_sizes_early.h5ad\"))\n",
    "effect_sizes_late = sc.read_h5ad(os.path.join(pwd, \"input\", \"Figure 5 and Extended Data Figure 10\", \"effect_sizes_late.h5ad\"))\n",
    "gene_dynamic_space = sc.read_h5ad(os.path.join(pwd, \"input\", \"Figure 5 and Extended Data Figure 10\", \"gene_dynamic_space.h5ad\"))\n",
    "mean_expression = sc.read_h5ad(os.path.join(pwd, \"input\", \"Figure 5 and Extended Data Figure 10\", \"mean_expression.h5ad\"))\n",
    "fraction_expressed = sc.read_h5ad(os.path.join(pwd, \"input\", \"Figure 5 and Extended Data Figure 10\", \"fraction_expressed.h5ad\"))\n",
    "\n",
    "# From https://sea-ad-single-cell-profiling.s3.amazonaws.com/index.html#MTG/RNAseq/\n",
    "adata = sc.read_h5ad(os.path.join(pwd, \"input\", \"SEAAD_MTG_RNAseq_final-nuclei.2024-02-13.h5ad\"))"
   ]
  },
  {
   "cell_type": "markdown",
   "id": "e9903c2c-66c4-41e9-99ea-f14d0659cd0f",
   "metadata": {
    "jp-MarkdownHeadingCollapsed": true
   },
   "source": [
    "### Figure 5a"
   ]
  },
  {
   "cell_type": "code",
   "execution_count": null,
   "id": "50d31383-8013-4f04-a607-5dcf3305a295",
   "metadata": {},
   "outputs": [],
   "source": [
    "FDR = 0.01\n",
    "Expected = FDR * pvalues.shape[0]\n",
    "pvalues.var[\"Number of significant genes\"] = (pvalues.layers[\"pvalues\"] < FDR).sum(axis=0)\n",
    "\n",
    "df = sc.get.var_df(pvalues, [\"Subclass\", \"Number of significant genes\"]).reset_index()\n",
    "\n",
    "df[\"Subclass\"] = df[\"Subclass\"].astype(\"category\")\n",
    "df[\"Subclass\"] = df[\"Subclass\"].cat.reorder_categories(color_order[\"subclass_label\"].unique())\n",
    "\n",
    "plt.rcParams[\"figure.figsize\"] = (10,4)\n",
    "ax = sns.swarmplot(\n",
    "    data=df,\n",
    "    x=\"Subclass\",\n",
    "    y=\"Number of significant genes\",\n",
    "    hue=\"index\",\n",
    "    palette=color_order[\"cluster_color\"].to_list()\n",
    ")\n",
    "ax.set_xlabel(\"\");\n",
    "ax.set_ylabel(\"No. of significant genes\");\n",
    "plt.xticks(rotation=90, ha=\"right\");\n",
    "plt.legend(\"\", frameon=False);\n",
    "plt.axhline(y=Expected, color=\"grey\", linestyle=\"--\");\n",
    "plt.savefig(os.path.join(pwd, \"output\", \"Figure 5a_swarmplot_Number of significant genes_by_Supertype_groupby_Subclass.pdf\"), bbox_inches=\"tight\")\n",
    "plt.show();"
   ]
  },
  {
   "cell_type": "markdown",
   "id": "6f4ecbce-42e2-486c-b941-d20e800a8d48",
   "metadata": {
    "jp-MarkdownHeadingCollapsed": true
   },
   "source": [
    "### Extended Data Figure 10b"
   ]
  },
  {
   "cell_type": "code",
   "execution_count": null,
   "id": "ce66f0ea-a712-48c8-8790-4c42e0acdcd2",
   "metadata": {},
   "outputs": [],
   "source": [
    "# Histogram\n",
    "FDR = 0.01\n",
    "df = effect_sizes.layers[\"effect_sizes\"] * (pvalues.layers[\"pvalues\"] < FDR)\n",
    "plt.rcParams[\"figure.figsize\"] = (4,4)\n",
    "ax = sns.histplot(\n",
    "    df[df != 0],\n",
    "    color=\"grey\",\n",
    "    stat=\"proportion\"\n",
    ")\n",
    "ax.set(xlim=(-5,5));\n",
    "ax.set(xlabel=\"Significant effect sizes along CPS\");\n",
    "plt.savefig(os.path.join(pwd, \"output\", \"Extended Data Figure 10b_histogram_Significant_effect_sizes.pdf\"), bbox_inches=\"tight\")\n",
    "plt.show()\n",
    "\n",
    "# Scatterplot\n",
    "df = sc.get.var_df(pvalues, [\"Subclass\", \"Number of significant genes\"])\n",
    "df = df.merge(adata.obs[\"Supertype\"].value_counts(sort=False), left_index=True, right_index=True)\n",
    "df = df.loc[df[\"count\"] < 15000, :]\n",
    "\n",
    "ax = sns.scatterplot(\n",
    "    data=df,\n",
    "    x=\"count\",\n",
    "    y=\"Number of significant genes\",\n",
    "    color=\"grey\",\n",
    ")\n",
    "ax.set(xlabel=\"No. of nuclei per type\", ylabel=\"No. of significant genes\");\n",
    "plt.xticks(rotation=90, ha=\"right\");\n",
    "plt.savefig(os.path.join(pwd, \"output\", \"Extended Data Figure 10b_scatterplot_Number of nuclei_versus_Number of significant genes.pdf\"), bbox_inches=\"tight\")\n",
    "plt.show();"
   ]
  },
  {
   "cell_type": "markdown",
   "id": "f5b58b2d-454e-4f3d-b2a1-f398a7d35ef4",
   "metadata": {
    "jp-MarkdownHeadingCollapsed": true
   },
   "source": [
    "### Figure 5b"
   ]
  },
  {
   "cell_type": "code",
   "execution_count": null,
   "id": "55a9fac7-6c13-44a0-aec3-e94ce3365162",
   "metadata": {
    "scrolled": true
   },
   "outputs": [],
   "source": [
    "# Scatterplot\n",
    "plt.rcParams[\"figure.figsize\"] = (4,4)\n",
    "\n",
    "effect_size_mask_radius = 0.2\n",
    "mean_expression_cutoff = 0.01\n",
    "fraction_expressed_cutoff = 0.01\n",
    "\n",
    "mean_early = effect_sizes_early.layers[\"effect_sizes\"].mean(axis=1)\n",
    "mean_late = effect_sizes_late.layers[\"effect_sizes\"].mean(axis=1)\n",
    "mean_mean_expression = mean_expression.X.mean(axis=1)\n",
    "mean_fraction_expressed = fraction_expressed.X.mean(axis=1)\n",
    "\n",
    "gene_classes = pd.DataFrame(np.zeros((effect_sizes.shape[0], 1)), columns=[\"Gene class\"], index=effect_sizes.obs_names)\n",
    "\n",
    "good_genes = (mean_mean_expression > mean_expression_cutoff) & (mean_fraction_expressed > fraction_expressed_cutoff) & (np.sqrt(np.square(mean_early) + np.square(mean_late)) > effect_size_mask_radius)\n",
    "\n",
    "mask_1 = (mean_late >= 3 * mean_early)\n",
    "mask_2 = (mean_late >= (1/3) * mean_early)\n",
    "mask_3 = (mean_late >= (-1/3) * mean_early)\n",
    "mask_4 = (mean_late >= -3 * mean_early)\n",
    "\n",
    "gene_classes.loc[~(mask_1) & (mask_2) & good_genes, \"Gene class\"] = 1\n",
    "gene_classes.loc[(mask_1) & ~(mask_2) & good_genes, \"Gene class\"] = 2\n",
    "gene_classes.loc[~(mask_2) & (mask_3) & good_genes, \"Gene class\"] = 3\n",
    "gene_classes.loc[(mask_2) & ~(mask_3) & good_genes, \"Gene class\"] = 4\n",
    "gene_classes.loc[(mask_1) & (mask_4) & good_genes, \"Gene class\"] = 5\n",
    "gene_classes.loc[~(mask_1) & ~(mask_4) & good_genes, \"Gene class\"] = 6\n",
    "gene_classes.loc[~(mask_3) & (mask_4) & good_genes, \"Gene class\"] = 7\n",
    "gene_classes.loc[(mask_3) & ~(mask_4) & good_genes, \"Gene class\"] = 8\n",
    "gene_classes[\"Mean early effect size\"] = mean_early\n",
    "gene_classes[\"Mean late effect size\"] = mean_late\n",
    "gene_classes[\"Gene class\"] = gene_classes[\"Gene class\"].astype(\"category\")\n",
    "gene_classes[\"Gene class\"] = gene_classes[\"Gene class\"].cat.reorder_categories([5.0, 1.0, 3.0, 7.0, 0.0, 8.0, 4.0, 2.0, 6.0])\n",
    "gene_classes = gene_classes.loc[gene_classes[\"Gene class\"] != 0, :].copy()\n",
    "\n",
    "ax = sns.scatterplot(\n",
    "    data=gene_classes,\n",
    "    x=\"Mean early effect size\",\n",
    "    y=\"Mean late effect size\",\n",
    "    hue=\"Gene class\",\n",
    "    alpha=0.2,\n",
    "    size=1,\n",
    "    rasterized=True,\n",
    "    palette=\"RdBu\"\n",
    ");\n",
    "x = np.linspace(-2.1,2.1,100)\n",
    "y = (3/1)*x\n",
    "plt.plot(x, y, \"--k\");\n",
    "y = (1/3)*x\n",
    "plt.plot(x, y,  \"--k\");\n",
    "y = (-3/1)*x\n",
    "plt.plot(x, y, \"--k\");\n",
    "y = (-1/3)*x\n",
    "plt.plot(x, y,  \"--k\");\n",
    "theta = np.linspace(0, 2*np.pi, 100)\n",
    "r = effect_size_mask_radius\n",
    "x = r*np.cos(theta)\n",
    "y = r*np.sin(theta)\n",
    "plt.plot(x, y, 'k--')\n",
    "ax.set(xlim=(-2.1,2.1), ylim=(-2.1,2.1));\n",
    "plt.legend(bbox_to_anchor=(1.04, 0.5), loc=\"center left\")\n",
    "plt.savefig(os.path.join(pwd, \"output\", \"Figure 5b_scatterplot_early_versus_late_mean_effect_sizes.pdf\"), bbox_inches=\"tight\");\n",
    "plt.show()\n",
    "\n"
   ]
  },
  {
   "cell_type": "code",
   "execution_count": null,
   "id": "bbedf11f-ff44-4798-b7ca-47f3d47c5d08",
   "metadata": {},
   "outputs": [],
   "source": [
    "adata = adata[adata.obs[\"Neurotypical reference\"] == \"False\", :].copy()\n",
    "adata.obs[\"Used in analysis\"] = adata.obs[\"Used in analysis\"].astype(\"str\").astype(\"category\")"
   ]
  },
  {
   "cell_type": "code",
   "execution_count": null,
   "id": "15a94494-e239-459a-9654-73f89e01af44",
   "metadata": {
    "scrolled": true
   },
   "outputs": [],
   "source": [
    "# Dynamic plots\n",
    "cmap = cm.get_cmap('RdBu', 9)\n",
    "color_list = [matplotlib.colors.rgb2hex(cmap(i)[:3]) for i in range(cmap.N)]\n",
    "\n",
    "gene_classes[\"mult_effect_sizes\"] = np.abs(gene_classes[\"Mean early effect size\"] * gene_classes[\"Mean late effect size\"])\n",
    "gene_classes[\"rot_mean_early\"] = gene_classes[\"Mean early effect size\"] * np.cos(np.pi / 4) - gene_classes[\"Mean late effect size\"] * np.sin(np.pi / 4)\n",
    "gene_classes[\"rot_mean_late\"] = gene_classes[\"Mean late effect size\"] * np.cos(np.pi / 4) + gene_classes[\"Mean early effect size\"] * np.sin(np.pi / 4)\n",
    "gene_classes[\"rot_mult_effect_sizes\"] = np.abs(gene_classes[\"rot_mean_early\"] * gene_classes[\"rot_mean_late\"])\n",
    "    \n",
    "for j,i in enumerate(gene_classes[\"Gene class\"].cat.categories):\n",
    "    \n",
    "    if i in [1, 2, 8, 7]:\n",
    "        genes = gene_classes.loc[gene_classes[\"Gene class\"] == i, \"mult_effect_sizes\"].sort_values(ascending=False).iloc[:50].index.to_list()\n",
    "    elif i != 0:\n",
    "        genes = gene_classes.loc[gene_classes[\"Gene class\"] == i, \"rot_mult_effect_sizes\"].sort_values(ascending=False).iloc[:50].index.to_list()\n",
    "    else:\n",
    "        plt.ylim((-0.015, 0.055));\n",
    "        plt.savefig(os.path.join(pwd, \"output\", \"Figure 5b_deltaplot_positive gene dynamics.pdf\"), bbox_inches=\"tight\")\n",
    "        plt.show()\n",
    "        continue\n",
    "\n",
    "    print(genes)\n",
    "    \n",
    "    ax = delta_plot(\n",
    "        adata=adata,\n",
    "        genes=genes,\n",
    "        groupby=\"Used in analysis\",\n",
    "        plotby=\"Neurotypical reference\",\n",
    "        donor=\"Donor ID\",\n",
    "        across=\"Continuous Pseudo-progression Score\",\n",
    "        highlight=[],\n",
    "        title=\"Class \" + str(i) + \" genes\",\n",
    "        colormap={\"False\": color_list[np.int32(j)]},\n",
    "        normalize_to_start=True,\n",
    "    )\n",
    "plt.ylim((-0.05, 0.03));\n",
    "plt.savefig(os.path.join(pwd, \"output\", \"Figure 5b_deltaplot_negative gene dynamics.pdf\"), bbox_inches=\"tight\")\n",
    "plt.show()"
   ]
  },
  {
   "cell_type": "markdown",
   "id": "f4cd7771-7dfa-4e17-8d6d-bd7cee830a7a",
   "metadata": {
    "jp-MarkdownHeadingCollapsed": true
   },
   "source": [
    "### Figure 5c and Extended Data Figure 10c"
   ]
  },
  {
   "cell_type": "code",
   "execution_count": null,
   "id": "fa783528-248d-4ff3-9740-2d66030050ee",
   "metadata": {
    "scrolled": true
   },
   "outputs": [],
   "source": [
    "plt.rcParams[\"figure.figsize\"] = (6,6)\n",
    "sc.pl.umap(\n",
    "    gene_dynamic_space,\n",
    "    color=None,\n",
    "    size=20,\n",
    "    legend_loc=\"on data\",\n",
    "    save=\"_gene_dynamic_space.pdf\"\n",
    ")\n",
    "os.rename(os.path.join(pwd, \"figures\", \"umap_gene_dynamic_space.pdf\"), os.path.join(pwd, \"output\", \"Figure 5c_umap_gene_dynamic_space.pdf\"))\n",
    "\n",
    "plt.rcParams[\"figure.figsize\"] = (4,4)\n",
    "for i in [1, 2, 3, 4]:\n",
    "    sc.pl.umap(\n",
    "        gene_dynamic_space,\n",
    "        color=[\"mean_expression_\" + str(i)],\n",
    "        size=20,\n",
    "        color_map=\"RdBu_r\",\n",
    "        vcenter=0,\n",
    "        vmin=-2,\n",
    "        vmax=2,\n",
    "        sort_order=False,\n",
    "        save=\"_gene_dynamic_space_mean_expression_\" + str(i) + \".pdf\"\n",
    "    )\n",
    "    if i == 2:\n",
    "        os.rename(os.path.join(pwd, \"figures\", \"umap_gene_dynamic_space_mean_expression_\" + str(i) + \".pdf\"), os.path.join(pwd, \"output\", \"Figure 5c_umap_gene_dynamic_space_mean_expression_\" + str(i) + \".pdf\"))\n",
    "    else:\n",
    "        os.rename(os.path.join(pwd, \"figures\", \"umap_gene_dynamic_space_mean_expression_\" + str(i) + \".pdf\"), os.path.join(pwd, \"output\", \"Extended Data Figure 10c_umap_gene_dynamic_space_mean_expression_\" + str(i) + \".pdf\"))\n",
    "    \n",
    "    sc.pl.umap(\n",
    "        gene_dynamic_space,\n",
    "        color=[\"effect_sizes_early_\" + str(i)],\n",
    "        size=20,\n",
    "        color_map=\"RdBu_r\",\n",
    "        vcenter=0,\n",
    "        vmin=-2,\n",
    "        vmax=2,\n",
    "        sort_order=False,\n",
    "        save=\"_gene_dynamic_space_effect_sizes_early_\" + str(i) + \".pdf\"\n",
    "    )\n",
    "    if i == 2:\n",
    "        os.rename(os.path.join(pwd, \"figures\", \"umap_gene_dynamic_space_effect_sizes_early_\" + str(i) + \".pdf\"), os.path.join(pwd, \"output\", \"Figure 5c_umap_gene_dynamic_space_effect_sizes_early_\" + str(i) + \".pdf\"))\n",
    "    else:\n",
    "        os.rename(os.path.join(pwd, \"figures\", \"umap_gene_dynamic_space_effect_sizes_early_\" + str(i) + \".pdf\"), os.path.join(pwd, \"output\", \"Extended Data Figure 10c_umap_gene_dynamic_space_effect_sizes_early_\" + str(i) + \".pdf\"))\n",
    "    \n",
    "    sc.pl.umap(\n",
    "        gene_dynamic_space,\n",
    "        color=[\"effect_sizes_late_\" + str(i)],\n",
    "        size=20,\n",
    "        color_map=\"RdBu_r\",\n",
    "        vcenter=0,\n",
    "        vmin=-2,\n",
    "        vmax=2,\n",
    "        sort_order=False,\n",
    "        save=\"_gene_dynamic_space_effect_sizes_late_\" + str(i) + \".pdf\"\n",
    "    )\n",
    "    if i == 2:\n",
    "        os.rename(os.path.join(pwd, \"figures\", \"umap_gene_dynamic_space_effect_sizes_late_\" + str(i) + \".pdf\"), os.path.join(pwd, \"output\", \"Figure 5c_umap_gene_dynamic_space_effect_sizes_late_\" + str(i) + \".pdf\"))\n",
    "    else:\n",
    "        os.rename(os.path.join(pwd, \"figures\", \"umap_gene_dynamic_space_effect_sizes_late_\" + str(i) + \".pdf\"), os.path.join(pwd, \"output\", \"Extended Data Figure 10c_umap_gene_dynamic_space_effect_sizes_late_\" + str(i) + \".pdf\"))\n",
    "\n",
    "# Define gene lists\n",
    "gene_lists = {}\n",
    "# Electron transport chain components, based on GO:0022900\n",
    "gene_lists[\"Electron transport chain components\"] = []\n",
    "complexes = [\"NDUF\", \"SDH\", \"UQC\", \"COX\", \"ATP5\"]\n",
    "for j,i in enumerate(complexes):\n",
    "    gene_lists[\"Electron transport chain components\"].extend(effect_sizes.obs_names[(effect_sizes.obs_names.str.startswith(i)) & ~(effect_sizes.obs_names.str.contains(\"-AS\")) & ~(effect_sizes.obs_names.str.contains(\"-DT\"))])\n",
    "    \n",
    "# Ribosomal proteins, based on GO:0006412\n",
    "gene_lists[\"Ribosomal proteins\"] = []\n",
    "gene_lists[\"Ribosomal proteins\"].extend([i for i in effect_sizes.obs_names if re.match(\"RP[SL]([0-9]{1,2}[ABLXY]?[0-9]?|A|P[0-9]{1})$\", i) != None])\n",
    "\n",
    "for i,j in gene_lists.items():\n",
    "    gene_dynamic_space.obs[\"gene_list_\" + str(i)] = [str(k in j) for k in gene_dynamic_space.obs_names]\n",
    "    sc.pl.umap(\n",
    "        gene_dynamic_space,\n",
    "        color=[\"gene_list_\" + str(i)],\n",
    "        groups=[\"True\"],\n",
    "        ncols=2, size=20,\n",
    "        save=\"_gene_dynamic_space_family_\" + str(i) + \".pdf\"\n",
    "    )\n",
    "    os.rename(os.path.join(pwd, \"figures\", \"umap_gene_dynamic_space_family_\" + str(i) + \".pdf\"), os.path.join(pwd, \"output\", \"Figure 5c_umap_gene_dynamic_family_\" + str(i) + \".pdf\"))"
   ]
  },
  {
   "cell_type": "markdown",
   "id": "7893e855-cb5a-4e0c-a8f9-55d4f64f173b",
   "metadata": {
    "jp-MarkdownHeadingCollapsed": true
   },
   "source": [
    "### Figure 5d"
   ]
  },
  {
   "cell_type": "code",
   "execution_count": null,
   "id": "74243a54-7595-4904-8b42-a4effddc501d",
   "metadata": {},
   "outputs": [],
   "source": [
    "genes = sorted(['ATP5F1D', 'ATP5F1E', 'ATP5IF1', 'ATP5MC3', 'ATP5MD', 'ATP5ME', 'ATP5MF', 'ATP5MPL', 'ATP5PD', 'ATP5PF', 'COX14', 'COX4I1', 'COX5B', 'COX6A1', 'COX6B1', 'COX6C', 'COX7A1', 'COX7A2', 'COX7B', 'COX7C',  'NDUFA1', 'NDUFA11', 'NDUFA13', 'NDUFA3', 'NDUFA4', 'NDUFA6', 'NDUFB10', 'NDUFB11', 'NDUFB2', 'NDUFB3', 'NDUFB4', 'NDUFB8', 'NDUFB9', 'NDUFC1', 'NDUFC2', 'NDUFS5'])\n",
    "\n",
    "# Deltaplots\n",
    "subclass_colors = color_order.loc[:, [\"subclass_label\", \"subclass_color\"]].drop_duplicates()\n",
    "subclass_colors.index = subclass_colors[\"subclass_label\"].copy()\n",
    "subclass_colors = subclass_colors[\"subclass_color\"].to_dict()\n",
    "\n",
    "sub = adata[adata.obs[\"Neurotypical reference\"] == \"False\", :].copy()\n",
    "\n",
    "ax = delta_plot(\n",
    "    adata=sub,\n",
    "    genes=genes,\n",
    "    groupby=\"Class\",\n",
    "    groupby_subset=None,\n",
    "    plotby=\"Subclass\",\n",
    "    donor=\"Donor ID\",\n",
    "    across=\"Continuous Pseudo-progression Score\",\n",
    "    highlight=[],\n",
    "    colormap=subclass_colors,\n",
    "    title=\"Expression of ETC components\",\n",
    "    legend=False,\n",
    "    save=os.path.join(pwd, \"output\", \"Figure 5d_deltaplot_{title}_groupby Class_plotby Subclass.pdf\")\n",
    ")\n",
    "plt.show();"
   ]
  },
  {
   "cell_type": "code",
   "execution_count": null,
   "id": "807f69c8-6c0a-4736-9914-d8652acef88c",
   "metadata": {
    "scrolled": true
   },
   "outputs": [],
   "source": [
    "# Heatmap\n",
    "genes.extend([\"Class\"])\n",
    "df = sc.get.var_df(\n",
    "    gene_dynamic_space,\n",
    "    genes\n",
    ")\n",
    "df[\"type\"] = \"mean\"\n",
    "df.loc[df.index.str.endswith(\"_early\"), \"type\"] = \"early\"\n",
    "df.loc[df.index.str.endswith(\"_late\"), \"type\"] = \"late\"\n",
    "df = df.loc[~df.index.str.endswith(\"_mean\"), :].copy()\n",
    "\n",
    "df = df.groupby([\"Class\", \"type\"]).mean()\n",
    "plt.rcParams[\"figure.figsize\"] = (2.5,10)\n",
    "sns.heatmap(\n",
    "    data=df.T,\n",
    "    cmap=\"RdBu_r\",\n",
    "    xticklabels=True,\n",
    "    yticklabels=True,\n",
    "    center=0,\n",
    "    vmin=-2,\n",
    "    vmax=2\n",
    ");\n",
    "plt.savefig(os.path.join(pwd, \"output\", \"Figure 5d_heatmap_effect_sizes_of_Electron transport chain components.pdf\"), bbox_inches=\"tight\") \n",
    "plt.show()\n"
   ]
  },
  {
   "cell_type": "markdown",
   "id": "dd38cfd0-3b7b-4ea9-8e10-9c975efcbbc1",
   "metadata": {},
   "source": [
    "### Clean up"
   ]
  },
  {
   "cell_type": "code",
   "execution_count": null,
   "id": "a0a697b6-dba5-4670-863e-7fa228e3004d",
   "metadata": {},
   "outputs": [],
   "source": [
    "shutil.rmtree(os.path.join(pwd, \"figures\"))"
   ]
  }
 ],
 "metadata": {
  "kernelspec": {
   "display_name": "Python 3 (ipykernel)",
   "language": "python",
   "name": "python3"
  },
  "language_info": {
   "codemirror_mode": {
    "name": "ipython",
    "version": 3
   },
   "file_extension": ".py",
   "mimetype": "text/x-python",
   "name": "python",
   "nbconvert_exporter": "python",
   "pygments_lexer": "ipython3",
   "version": "3.11.8"
  }
 },
 "nbformat": 4,
 "nbformat_minor": 5
}
